{
  "nbformat": 4,
  "nbformat_minor": 0,
  "metadata": {
    "colab": {
      "name": "Assignment2.ipynb",
      "provenance": [],
      "collapsed_sections": [],
      "include_colab_link": true
    },
    "kernelspec": {
      "name": "python3",
      "display_name": "Python 3"
    },
    "accelerator": "GPU"
  },
  "cells": [
    {
      "cell_type": "markdown",
      "metadata": {
        "id": "view-in-github",
        "colab_type": "text"
      },
      "source": [
        "<a href=\"https://colab.research.google.com/github/Data-Science-and-Data-Analytics-Courses/UniMelb-A-First-Course-In-Statistical-Learning-MAST90104_2019_SM2/blob/master/assignment2/Assignment2.ipynb\" target=\"_parent\"><img src=\"https://colab.research.google.com/assets/colab-badge.svg\" alt=\"Open In Colab\"/></a>"
      ]
    },
    {
      "cell_type": "markdown",
      "metadata": {
        "id": "fRrOetKsg-RC",
        "colab_type": "text"
      },
      "source": [
        "# Assignment 2\n",
        "*Name (ID)*: Vinh Nguyen (1029531)  \n",
        "*Workshop*: Friday 04:15 PM  \n",
        "\n",
        "---\n",
        "\n"
      ]
    },
    {
      "cell_type": "markdown",
      "metadata": {
        "colab_type": "text",
        "id": "rTcU7l_3F1Rt"
      },
      "source": [
        "## Setup"
      ]
    },
    {
      "cell_type": "code",
      "metadata": {
        "colab_type": "code",
        "id": "rsa-Ox5MF1Rl",
        "colab": {}
      },
      "source": [
        "import sys\n",
        "from pathlib import Path\n",
        "\n",
        "# Notebook Library\n",
        "url = \"https://github.com/Data-Science-and-Data-Analytics-Courses/Notebook-Library\"\n",
        "repo = Path(\"/nblib\")\n",
        "!git clone \"{url}\" \"{repo}\"\n",
        "if repo.parent.as_posix() not in sys.path:\n",
        "  sys.path.append(repo.parent.as_posix())\n",
        "%run \"{repo}/.Importable.ipynb\"\n",
        "\n",
        "from nblib.imports.Basic import *\n",
        "from nblib import Git\n",
        "\n",
        "# Remote\n",
        "URL = \"https://github.com/Data-Science-and-Data-Analytics-Courses/UniMelb-A-First-Course-In-Statistical-Learning-MAST90104_2019_SM2\"\n",
        "REPO = Git.clone(URL, dest=\"/content\")\n",
        "if REPO.as_posix() not in sys.path:\n",
        "  sys.path.append(REPO.as_posix())\n",
        "\n",
        "# Working directory\n",
        "os.chdir(REPO/\"assignment2\")\n",
        "\n",
        "from nblib.imports.RPy import *\n",
        "from setup.Setup import *\n",
        "\n",
        "clear_output()"
      ],
      "execution_count": 0,
      "outputs": []
    },
    {
      "cell_type": "code",
      "metadata": {
        "id": "dachBvWRINA5",
        "colab_type": "code",
        "colab": {}
      },
      "source": [
        "%%R\n",
        "\n",
        "install.packages(\"car\")\n",
        "library(car)"
      ],
      "execution_count": 0,
      "outputs": []
    },
    {
      "cell_type": "markdown",
      "metadata": {
        "id": "akzLE-xVaGn3",
        "colab_type": "text"
      },
      "source": [
        "## Problem 1\n",
        "Consider a general full rank linear model y = Xβ +ε with p > 2 parameters. Derive an expression\n",
        "for a joint 100(1 − α)% confidence region for parameters βi and βj , where i and j are arbitrary.  \n",
        "\n",
        "The least squares estimator for $\\beta$:  \n",
        "$$\n",
        "\\begin{align}\n",
        "b ∼ MV N\\left(β, V\\right)\n",
        "\\end{align}\n",
        "$$\n",
        "where:  \n",
        "$$\n",
        "V = \\sigma^2(X^T X)^{−1} = \\sigma^2 \\begin{bmatrix}\n",
        "    v_{11} & \\dots  & v_{1i} & \\dots & v_{1j} & \\dots & v_{1p} \\\\\n",
        "    \\vdots & \\ddots & \\vdots &  & \\vdots &  & \\vdots \\\\\n",
        "    v_{i1} & \\dots  & {\\bf v_{ii}} & \\dots & {\\bf v_{ij}} & \\dots & v_{ip} \\\\\n",
        "    \\vdots &  & \\vdots & \\ddots & \\vdots &  & \\vdots \\\\\n",
        "    v_{j1} & \\dots  & {\\bf v_{ji}} & \\dots & {\\bf v_{jj}} & \\dots & v_{jp} \\\\\n",
        "    \\vdots &  & \\vdots &  & \\vdots & \\ddots & \\vdots \\\\\n",
        "    v_{p1} & \\dots  & v_{pi} & \\dots & v_{pj} & \\dots & v_{pp} \\\\\n",
        "\\end{bmatrix}\n",
        "$$\n",
        "\n",
        "Sub-vector of b:  \n",
        "$$\n",
        "\\begin{align}\n",
        "b' = \\begin{bmatrix}\n",
        "    b_{i} \\\\\n",
        "    b_{j} \\\\\n",
        "\\end{bmatrix} ∼ MV N\\left(\\beta', V'\\right)\n",
        "\\end{align}\n",
        "$$\n",
        "where:  \n",
        "$$\n",
        "\\beta' = \\begin{bmatrix}\n",
        "    \\beta_{i} \\\\\n",
        "    \\beta_{j} \\\\\n",
        "\\end{bmatrix} \\quad\n",
        "V' = \\sigma^2 \\begin{bmatrix}\n",
        "    {\\bf v_{ii}} & {\\bf v_{ij}} \\\\\n",
        "    {\\bf v_{ji}} & {\\bf v_{jj}} \\\\\n",
        "\\end{bmatrix}\n",
        "$$\n",
        "\n",
        "Let:  \n",
        "$$\n",
        "\\begin{align}\n",
        "& \\qquad \\qquad \\qquad \\text{i}^\\text{th} \\qquad \\ \\ \\text{j}^\\text{th} \\\\\n",
        "C &= \\begin{bmatrix}\n",
        "    0 & \\dots  & {\\bf 1} & \\dots & 0 & \\dots & 0 \\\\\n",
        "    0 & \\dots  & 0 & \\dots & {\\bf 1} & \\dots & 0 \\\\\n",
        "\\end{bmatrix} \\quad (2 \\text{ x } p) \\\\\n",
        "\\end{align}\n",
        "$$\n",
        "Rewrite:  \n",
        "$$\n",
        "\\begin{align}\n",
        "V' &= C V C^T \\\\\n",
        "&= \\sigma^2 C (X^T X)^{−1} C^T \\\\\n",
        "\\end{align}\n",
        "$$\n",
        "Since $X^TX$ is symmetric and positive definite, there exists a unique symmetric positive definite square root $(X^TX)^{1/2}$.  \n",
        "$$\n",
        "\\begin{align}\n",
        "V' &= \\sigma^2 C \\left((X^TX)^{1/2} (X^TX)^{1/2}\\right)^{−1} C^T \\\\\n",
        "&= \\sigma^2 C (X^TX)^{-1/2} (X^TX)^{-1/2} C^T \\\\\n",
        "&= \\sigma^2 \\left((X^TX)^{-1/2} C^T\\right)^T \\left((X^TX)^{-1/2} C^T\\right) \\\\\n",
        "&= \\sigma^2 A^T A & \\left(A=(X^TX)^{-1/2} C^T\\right) \\\\\n",
        "\\end{align}\n",
        "$$\n",
        "Rank of $V'$:  \n",
        "$$\n",
        "\\begin{align}\n",
        "r(V') &= r(\\sigma^2 A^T A) = r(A) = r\\left((X^TX)^{-1/2} C^T\\right) = r(C^T) = 2 \\\\\n",
        "\\end{align}\n",
        "$$\n",
        "recalling $(X^TX)^{-1/2} \\text{ positive definite} \\Rightarrow \\text{non-singlular} $.  \n",
        "Thus, $V'(2 \\text{ x } 2)$ full rank $\\Rightarrow$ invertible.  \n",
        "\n",
        "According to Corollary 3.10, quadratic form  \n",
        "$$\n",
        "\\begin{align}\n",
        "(b' − β')^T V'^{-1} (b' − β') = \\frac{(b' − β')^T \\left(C (X^T X)^{−1} C^T\\right)^{-1} (b' − β')}{σ^2}\n",
        "\\end{align}\n",
        "$$\n",
        "has a $\\chi^2$ distribution with 2 degrees of freedom.  \n",
        "\n",
        "Also,  \n",
        "$$\n",
        "\\begin{align}\n",
        "\\frac{(n − p)s^2}{σ^2}\n",
        "\\end{align}\n",
        "$$\n",
        "has a $χ^2$ distribution with (n − p) degrees of freedom.  \n",
        "\n",
        "Hence,  \n",
        "$$\n",
        "\\begin{align}\n",
        "\\frac{\\frac{(b' − β')^T \\left(C (X^T X)^{−1} C^T\\right)^{-1} (b' − β')}{2σ^2}}{\\frac{(n − p)s^2}{(n-p) σ^2}} = \\frac{(b' − β')^T \\left(C (X^T X)^{−1} C^T\\right)^{-1} (b' − β')}{2s^2} \\\\\n",
        "\\end{align}\n",
        "$$\n",
        "has an F distribution with 2 and (n − p) degrees of freedom.  \n",
        "\n",
        "**Joint 100(1 − α)% confidence region**  \n",
        "$$\n",
        "\\begin{align}\n",
        "P\\left(\\frac{(b' − β')^T \\left(C (X^T X)^{−1} C^T\\right)^{-1} (b' − β')}{2s^2} \\leq f_{\\alpha} \\right) &= 1 - \\alpha \\\\\n",
        "P\\left((b' − β')^T \\left(C (X^T X)^{−1} C^T\\right)^{-1} (b' − β') \\leq 2s^2 f_{\\alpha} \\right) &= 1 - \\alpha \\\\\n",
        "(b' − β')^T \\left(C (X^T X)^{−1} C^T\\right)^{-1} (b' − β') &\\leq 2s^2 f_{\\alpha} & (\\text{confidence region}) \\\\\n",
        "\\end{align}\n",
        "$$  \n",
        "which is a region bounded by an ellipse.  \n"
      ]
    },
    {
      "cell_type": "markdown",
      "metadata": {
        "id": "jebW8sfejM_7",
        "colab_type": "text"
      },
      "source": [
        "## Problem 2\n",
        "An experiment is conducted to estimate the annual demand for cars, based on their cost, the\n",
        "current unemployment rate, and the current interest rate. A survey is conducted and the following\n",
        "measurements obtained:  \n",
        "Cars sold (×103\n",
        ") Cost ($k) Unemployment rate (%) Interest rate (%)  \n",
        "5.5 7.2 8.7 5.5  \n",
        "5.9 10.0 9.4 4.4  \n",
        "6.5 9.0 10.0 4.0  \n",
        "5.9 5.5 9.0 7.0  \n",
        "8.0 9.0 12.0 5.0  \n",
        "9.0 9.8 11.0 6.2  \n",
        "10.0 14.5 12.0 5.8  \n",
        "10.8 8.0 13.7 3.9  \n",
        "For this question, you may NOT use the lm function in R.  \n"
      ]
    },
    {
      "cell_type": "markdown",
      "metadata": {
        "id": "HxPZX8izjxRw",
        "colab_type": "text"
      },
      "source": [
        "(a) Fit a linear model to the data and estimate the parameters and variance.  \n"
      ]
    },
    {
      "cell_type": "code",
      "metadata": {
        "colab_type": "code",
        "id": "sbERCP1VEXfo",
        "outputId": "c3e9b2ac-c61b-466f-956d-51ca828364d3",
        "colab": {
          "base_uri": "https://localhost:8080/",
          "height": 153
        }
      },
      "source": [
        "%%R\n",
        "\n",
        "y <- c(5.5, 5.9, 6.5, 5.9, 8.0, 9.0, 10.0, 10.8) # cars sold\n",
        "x <- matrix(c(1, 7.2, 8.7, 5.5, \n",
        "              1, 10.0, 9.4, 4.4, \n",
        "              1, 9.0, 10.0, 4.0, \n",
        "              1, 5.5, 9.0, 7.0,\n",
        "              1, 9.0, 12.0, 5.0,\n",
        "              1, 9.8, 11.0, 6.2,\n",
        "              1, 14.5, 12.0, 5.8,\n",
        "              1, 8.0, 13.7, 3.9), nrow=8, ncol=4, byrow=TRUE) # cost, unemployment rate, interest rate\n",
        "n <- dim(x)[1] # number of samples\n",
        "p <- dim(x)[2] # number of parameters\n",
        "\n",
        "print(\"Parameters\")\n",
        "b <- solve(t(x) %*% x, t(x) %*% y)\n",
        "print(b)\n",
        "\n",
        "print(\"Sample variance\")\n",
        "var_sp <- sum((y - x %*% b)^2) / (n-p)\n",
        "print(var_sp)"
      ],
      "execution_count": 0,
      "outputs": [
        {
          "output_type": "display_data",
          "data": {
            "text/plain": [
              "[1] \"Parameters\"\n",
              "           [,1]\n",
              "[1,] -7.4044796\n",
              "[2,]  0.1207646\n",
              "[3,]  1.1174846\n",
              "[4,]  0.3861206\n",
              "[1] \"Sample variance\"\n",
              "[1] 0.3955368\n"
            ]
          },
          "metadata": {
            "tags": []
          }
        }
      ]
    },
    {
      "cell_type": "markdown",
      "metadata": {
        "id": "_neWsTwtj1Vv",
        "colab_type": "text"
      },
      "source": [
        "(b) Which two of the parameters have the highest (in magnitude) covariance in their estimators?  \n",
        "\n",
        "$$\n",
        "b \\sim MVN \\left( \\beta, \\sigma^2 (X^T X)^{-1} \\right)\n",
        "$$\n"
      ]
    },
    {
      "cell_type": "code",
      "metadata": {
        "id": "WkmK0CXERgeW",
        "colab_type": "code",
        "outputId": "faef6d30-3306-4e81-a262-2ee2fd04f20d",
        "colab": {
          "base_uri": "https://localhost:8080/",
          "height": 170
        }
      },
      "source": [
        "%%R\n",
        "\n",
        "print(\"xTx inverse\")\n",
        "xTx_inv <- solve(t(x) %*% x)\n",
        "print(xTx_inv)\n",
        "\n",
        "print(\"Parameters with highest (in magnitude) covariance\")\n",
        "inv_abs <- abs(xTx_inv) # absolute inverse\n",
        "diag(inv_abs) <- NA # nullify diagonal\n",
        "imax <- which(inv_abs == max(inv_abs, na.rm=TRUE), arr.ind = TRUE) # row, col of max covariance\n",
        "print(imax)"
      ],
      "execution_count": 0,
      "outputs": [
        {
          "output_type": "display_data",
          "data": {
            "text/plain": [
              "[1] \"xTx inverse\"\n",
              "            [,1]         [,2]        [,3]         [,4]\n",
              "[1,] 13.49743324 -0.054817613 -0.69854293 -1.029731987\n",
              "[2,] -0.05481761  0.024498395 -0.01478859 -0.001937333\n",
              "[3,] -0.69854293 -0.014788594  0.06226378  0.031714790\n",
              "[4,] -1.02973199 -0.001937333  0.03171479  0.135362495\n",
              "[1] \"Parameters with highest (in magnitude) covariance\"\n",
              "     row col\n",
              "[1,]   1   4\n"
            ]
          },
          "metadata": {
            "tags": []
          }
        }
      ]
    },
    {
      "cell_type": "markdown",
      "metadata": {
        "id": "vuP9iLzij3pA",
        "colab_type": "text"
      },
      "source": [
        "(c) Find a 99% confidence interval for the average number of $8, 000 cars sold in a year which has\n",
        "unemployment rate 9% and interest rate 5%.  \n",
        "\n",
        "Confidence interval for expected response:  \n",
        "$$\n",
        "\\begin{align}\n",
        "(x^*)^T b ± t_{α/2} s\\sqrt{(x^∗)^T (X^T X)^{−1}x^∗}\n",
        "\\end{align}\n",
        "$$\n"
      ]
    },
    {
      "cell_type": "code",
      "metadata": {
        "id": "m1K4OqQZLnzN",
        "colab_type": "code",
        "outputId": "ba345c37-f5a9-4bf0-fbbd-342798c7ee58",
        "colab": {
          "base_uri": "https://localhost:8080/",
          "height": 51
        }
      },
      "source": [
        "%%R\n",
        "\n",
        "print(\"99% confidence interval\")\n",
        "x_new <- c(1, 8, 9, 5)\n",
        "confint <- x_new %*% b + c(-1, 1) * qt(0.995, df=n-p, ncp=0) * sqrt(var_sp) * sqrt(x_new%*%xTx_inv%*%x_new)\n",
        "print(confint)"
      ],
      "execution_count": 0,
      "outputs": [
        {
          "output_type": "display_data",
          "data": {
            "text/plain": [
              "[1] \"99% confidence interval\"\n",
              "[1] 3.926075 7.173129\n"
            ]
          },
          "metadata": {
            "tags": []
          }
        }
      ]
    },
    {
      "cell_type": "markdown",
      "metadata": {
        "id": "JcfgfCG3j6SZ",
        "colab_type": "text"
      },
      "source": [
        "(d) A prediction interval for the number of cars sold in such a year is calculated to be (4012, 7087).\n",
        "Find the confidence level used.  \n",
        "\n",
        "Prediction interval:  \n",
        "$$\n",
        "\\begin{align}\n",
        "(x^*)^T b ± t_{α/2} s\\sqrt{1 + (x^∗)^T (X^T X)^{−1}x^∗}\n",
        "\\end{align}\n",
        "$$\n",
        "\n",
        "Confidence level:  \n",
        "$$\n",
        "\\begin{align}\n",
        "CI_{\\text{upper-bound}} - CI_{\\text{lower-bound}} &= 2 t_{α/2} s\\sqrt{1 + (x^∗)^T (X^T X)^{−1}x^∗} \\quad (\\text{bounds symmetric around } (x^*)^T b) \\\\\n",
        "t_{α/2} &= \\frac{CI_{\\text{upper-bound}} - CI_{\\text{lower-bound}}}{2 s\\sqrt{1 + (x^∗)^T (X^T X)^{−1}x^∗}} \\\\\n",
        "\\text{confidence level} &= 1 - 2 \\left(1 - F(t_{α/2})\\right) = 2 F(t_{α/2}) - 1 \\\\\n",
        "\\end{align}\n",
        "$$\n"
      ]
    },
    {
      "cell_type": "code",
      "metadata": {
        "colab_type": "code",
        "outputId": "2048cba1-69c9-41a0-d762-6f407b53a93f",
        "id": "ksV_7z3BQ_tz",
        "colab": {
          "base_uri": "https://localhost:8080/",
          "height": 119
        }
      },
      "source": [
        "%%R\n",
        "\n",
        "lb <- 4.012 # lower bound\n",
        "ub <- 7.087 # upper bound\n",
        "print(\"value of t-statistic\")\n",
        "t <- (ub - lb) / (2 * sqrt(var_sp) * sqrt(1+x_new%*%xTx_inv%*%x_new))\n",
        "print(t)\n",
        "\n",
        "print(\"confidence level (%)\")\n",
        "level <- 100 * (1 - 2*pt(t, df=n-p, ncp=0, lower.tail=FALSE))\n",
        "print(level)"
      ],
      "execution_count": 0,
      "outputs": [
        {
          "output_type": "display_data",
          "data": {
            "text/plain": [
              "[1] \"value of t-statistic\"\n",
              "        [,1]\n",
              "[1,] 2.13237\n",
              "[1] \"confidence level (%)\"\n",
              "         [,1]\n",
              "[1,] 90.00588\n"
            ]
          },
          "metadata": {
            "tags": []
          }
        }
      ]
    },
    {
      "cell_type": "markdown",
      "metadata": {
        "id": "5fa9HWZPj8rY",
        "colab_type": "text"
      },
      "source": [
        "(e) Test for model relevance using a corrected sum of squares.  \n",
        "\n",
        "$$\n",
        "H_0 : β = 0 \\\\\n",
        "H_1 : β \\neq 0 \\\\\n",
        "$$"
      ]
    },
    {
      "cell_type": "code",
      "metadata": {
        "id": "72kYwNZsYzZl",
        "colab_type": "code",
        "outputId": "85b66739-551e-47d6-df29-ad46f12795f0",
        "colab": {
          "base_uri": "https://localhost:8080/",
          "height": 221
        }
      },
      "source": [
        "%%R\n",
        "\n",
        "print(\"corrected sum of squares regression\")\n",
        "preds <- x %*% b # predicted cars sold\n",
        "ss_reg <- t(preds) %*% preds # sum squares regression\n",
        "ssreg_correct <- ss_reg - sum(y)^2/n # corrected sum squares regression\n",
        "print(ssreg_correct)\n",
        "\n",
        "print(\"corrected sum of squares of residuals\")\n",
        "res <- y - preds\n",
        "ssres_correct <- ss_res <- t(res) %*% res # corrected sum squares residuals\n",
        "print(ssres_correct)\n",
        "\n",
        "print(\"F ratio\")\n",
        "f <- (ssreg_correct/(p-1)) / (ssres_correct/(n-p))\n",
        "print(f)\n",
        "\n",
        "print(\"p-value\")\n",
        "pf(f, df1=p-1, df2=n-p, lower.tail=FALSE)"
      ],
      "execution_count": 0,
      "outputs": [
        {
          "output_type": "display_data",
          "data": {
            "text/plain": [
              "[1] \"corrected sum of squares regression\"\n",
              "         [,1]\n",
              "[1,] 27.85785\n",
              "[1] \"corrected sum of squares of residuals\"\n",
              "         [,1]\n",
              "[1,] 1.582147\n",
              "[1] \"F ratio\"\n",
              "         [,1]\n",
              "[1,] 23.47683\n",
              "[1] \"p-value\"\n",
              "            [,1]\n",
              "[1,] 0.005317255\n"
            ]
          },
          "metadata": {
            "tags": []
          }
        }
      ]
    },
    {
      "cell_type": "markdown",
      "metadata": {
        "id": "lM010znphBDv",
        "colab_type": "text"
      },
      "source": [
        "Since p-val < 0.05, we can reject the Null at 95% confidence level.  "
      ]
    },
    {
      "cell_type": "markdown",
      "metadata": {
        "id": "PvqDhVApjDjb",
        "colab_type": "text"
      },
      "source": [
        "## Probelem 3\n",
        "For this question we use the data set UCD.csv (available on the LMS). This data set, collected on\n",
        "158 UC Davis students (self-reported), includes the following variables:  \n",
        "ID = the ID for that student  \n",
        "alcohol = average number of alcoholic drinks consumed per week  \n",
        "exercise = average hours per week the student exercises  \n",
        "height = the student’s height (in inches)  \n",
        "male = indicator variable, 1 if male and 0 if female  \n",
        "dadht = the student’s father’s height  \n",
        "momht = the student’s mother’s height  \n",
        "We seek to predict a person’s height, based on the given data.  \n"
      ]
    },
    {
      "cell_type": "markdown",
      "metadata": {
        "id": "796B5W8Ujcyy",
        "colab_type": "text"
      },
      "source": [
        "(a) Fit a linear model using all of the variables (except ID).  \n"
      ]
    },
    {
      "cell_type": "code",
      "metadata": {
        "id": "6g8071BfkOEC",
        "colab_type": "code",
        "outputId": "046e83aa-b54f-4fe4-c601-538582ff29e0",
        "colab": {
          "base_uri": "https://localhost:8080/",
          "height": 544
        }
      },
      "source": [
        "%%R\n",
        "\n",
        "# Data\n",
        "df <- read.csv(\"UCD(1).csv\", header=TRUE)\n",
        "print(head(df))\n",
        "\n",
        "# Fit model\n",
        "model <- lm(height ~ alcohol + exercise + male + dadht + momht, data=df)\n",
        "print(summary(model))"
      ],
      "execution_count": 0,
      "outputs": [
        {
          "output_type": "display_data",
          "data": {
            "text/plain": [
              "  ID alcohol exercise height male dadht momht\n",
              "1  1      12     10.0     66    0    71    66\n",
              "2  2       0      5.0     64    0    68    62\n",
              "3  3       0      2.0     72    1    65    64\n",
              "4  4       0      3.0     68    1    74    62\n",
              "5  5       0      6.0     68    1    70    59\n",
              "6  6       5      6.5     64    0    70    65\n",
              "\n",
              "Call:\n",
              "lm(formula = height ~ alcohol + exercise + male + dadht + momht, \n",
              "    data = df)\n",
              "\n",
              "Residuals:\n",
              "     Min       1Q   Median       3Q      Max \n",
              "-10.2166  -1.4627   0.0494   1.4502   6.2616 \n",
              "\n",
              "Coefficients:\n",
              "            Estimate Std. Error t value Pr(>|t|)    \n",
              "(Intercept) 20.94900    5.08126   4.123 6.14e-05 ***\n",
              "alcohol      0.05068    0.02616   1.938 0.054524 .  \n",
              "exercise    -0.05442    0.04501  -1.209 0.228506    \n",
              "male         5.16073    0.39794  12.969  < 2e-16 ***\n",
              "dadht        0.38182    0.05394   7.079 5.01e-11 ***\n",
              "momht        0.27060    0.07061   3.832 0.000185 ***\n",
              "---\n",
              "Signif. codes:  0 ‘***’ 0.001 ‘**’ 0.01 ‘*’ 0.05 ‘.’ 0.1 ‘ ’ 1\n",
              "\n",
              "Residual standard error: 2.318 on 152 degrees of freedom\n",
              "Multiple R-squared:  0.6708,\tAdjusted R-squared:  0.6599 \n",
              "F-statistic: 61.94 on 5 and 152 DF,  p-value: < 2.2e-16\n",
              "\n"
            ]
          },
          "metadata": {
            "tags": []
          }
        }
      ]
    },
    {
      "cell_type": "markdown",
      "metadata": {
        "id": "hmIvsS3Mje6T",
        "colab_type": "text"
      },
      "source": [
        "(b) Test for model relevance, using a corrected sum of squares.  \n",
        "\n",
        "$$\n",
        "\\begin{align}\n",
        "H_0 &: β = 0 \\quad (\\text{ all parameters (except intercept) 0}) \\\\\n",
        "H_1 &: β \\neq 0 \\\\\n",
        "\\end{align}\n",
        "$$\n"
      ]
    },
    {
      "cell_type": "code",
      "metadata": {
        "id": "kM1HigH8qWBn",
        "colab_type": "code",
        "outputId": "9431b83d-1eed-4c42-b9d3-e0acc4cefd4c",
        "colab": {
          "base_uri": "https://localhost:8080/",
          "height": 221
        }
      },
      "source": [
        "%%R\n",
        "\n",
        "nsamples <- dim(df)[1] # number of samples\n",
        "nparams <- 6 # number of parameters\n",
        "\n",
        "print(\"corrected sum of squares regression\")\n",
        "preds <- predict(model) # predicted values\n",
        "ss_reg <- t(preds) %*% preds # sum squares regression\n",
        "ssreg_correct <- ss_reg - sum(df$height)^2/nsamples # corrected sum squares regression\n",
        "print(ssreg_correct)\n",
        "\n",
        "print(\"corrected sum of squares of residuals\")\n",
        "res <- residuals(model)\n",
        "ssres_correct <- ss_res <- t(res) %*% res # corrected sum squares residuals\n",
        "print(ssres_correct)\n",
        "\n",
        "print(\"F ratio\")\n",
        "f <- (ssreg_correct/(nparams-1)) / (ssres_correct/(nsamples-nparams))\n",
        "print(f)\n",
        "\n",
        "print(\"p-value\")\n",
        "pf(f, df1=nparams-1, df2=nsamples-nparams, lower.tail=FALSE)"
      ],
      "execution_count": 0,
      "outputs": [
        {
          "output_type": "display_data",
          "data": {
            "text/plain": [
              "[1] \"corrected sum of squares regression\"\n",
              "         [,1]\n",
              "[1,] 1664.331\n",
              "[1] \"corrected sum of squares of residuals\"\n",
              "         [,1]\n",
              "[1,] 816.8856\n",
              "[1] \"F ratio\"\n",
              "         [,1]\n",
              "[1,] 61.93728\n",
              "[1] \"p-value\"\n",
              "             [,1]\n",
              "[1,] 6.052692e-35\n"
            ]
          },
          "metadata": {
            "tags": []
          }
        }
      ]
    },
    {
      "cell_type": "markdown",
      "metadata": {
        "id": "5BFd1iCb8jVc",
        "colab_type": "text"
      },
      "source": [
        "Since p-val < 0.01, we can reject the Null at 99% confidence level.  "
      ]
    },
    {
      "cell_type": "markdown",
      "metadata": {
        "id": "X_31BJAQjhk8",
        "colab_type": "text"
      },
      "source": [
        "(c) Use forward selection with F tests to select variables for your model.  "
      ]
    },
    {
      "cell_type": "code",
      "metadata": {
        "id": "POC0iuKIwS_6",
        "colab_type": "code",
        "outputId": "9bab1924-d1c3-472e-d148-644f1958a43d",
        "colab": {
          "base_uri": "https://localhost:8080/",
          "height": 867
        }
      },
      "source": [
        "%%R\n",
        "\n",
        "# Empty model\n",
        "m <- lm(height ~ 1, data=df)\n",
        "test <- add1(m, scope= ~ . + alcohol + exercise + male + dadht + momht, test=\"F\")\n",
        "print(test)\n",
        "# variable with p-value smallest and < 0.05\n",
        "imin <- which.min(test$\"Pr(>F)\") # index of smallest p-value\n",
        "print(sprintf(\"Selected variable: %s\", if (test$\"Pr(>F)\"[imin] < 0.05) rownames(test)[imin] else NA))\n",
        "\n",
        "# 1-variable model\n",
        "m <- lm(height ~ male, data=df)\n",
        "test <- add1(m, scope= ~ . + alcohol + exercise + dadht + momht, test=\"F\")\n",
        "print(test)\n",
        "# variable with p-value smallest and < 0.05\n",
        "imin <- which.min(test$\"Pr(>F)\") # index of smallest p-value\n",
        "print(sprintf(\"Selected variable: %s\", if (test$\"Pr(>F)\"[imin] < 0.05) rownames(test)[imin] else NA))\n",
        "\n",
        "# 2-variable model\n",
        "m <- lm(height ~ male + dadht, data=df)\n",
        "test <- add1(m, scope= ~ . + alcohol + exercise + momht, test=\"F\")\n",
        "print(test)\n",
        "# variable with p-value smallest and < 0.05\n",
        "imin <- which.min(test$\"Pr(>F)\") # index of smallest p-value\n",
        "print(sprintf(\"Selected variable: %s\", if (test$\"Pr(>F)\"[imin] < 0.05) rownames(test)[imin] else NA))\n",
        "\n",
        "# 3-variable model\n",
        "m <- lm(height ~ male + dadht + momht, data=df)\n",
        "test <- add1(m, scope= ~ . + alcohol + exercise, test=\"F\")\n",
        "print(test)\n",
        "# variable with p-value smallest and < 0.05\n",
        "imin <- which.min(test$\"Pr(>F)\") # index of smallest p-value\n",
        "print(sprintf(\"Selected variable: %s\", if (test$\"Pr(>F)\"[imin] < 0.05) rownames(test)[imin] else NA))\n"
      ],
      "execution_count": 0,
      "outputs": [
        {
          "output_type": "display_data",
          "data": {
            "text/plain": [
              "Single term additions\n",
              "\n",
              "Model:\n",
              "height ~ 1\n",
              "         Df Sum of Sq    RSS    AIC  F value    Pr(>F)    \n",
              "<none>                2481.2 437.12                       \n",
              "alcohol   1    469.91 2011.3 405.94  36.4470 1.103e-08 ***\n",
              "exercise  1     33.51 2447.7 436.97   2.1358    0.1459    \n",
              "male      1   1054.11 1427.1 351.73 115.2266 < 2.2e-16 ***\n",
              "dadht     1    407.47 2073.8 410.77  30.6525 1.279e-07 ***\n",
              "momht     1    287.01 2194.2 419.69  20.4056 1.230e-05 ***\n",
              "---\n",
              "Signif. codes:  0 ‘***’ 0.001 ‘**’ 0.01 ‘*’ 0.05 ‘.’ 0.1 ‘ ’ 1\n",
              "[1] \"Selected variable: male\"\n",
              "Single term additions\n",
              "\n",
              "Model:\n",
              "height ~ male\n",
              "         Df Sum of Sq     RSS    AIC F value    Pr(>F)    \n",
              "<none>                1427.11 351.73                      \n",
              "alcohol   1    152.46 1274.65 335.88 18.5391 2.941e-05 ***\n",
              "exercise  1      0.67 1426.44 353.65  0.0732    0.7871    \n",
              "dadht     1    491.25  935.86 287.06 81.3632 6.773e-16 ***\n",
              "momht     1    254.99 1172.12 322.63 33.7192 3.492e-08 ***\n",
              "---\n",
              "Signif. codes:  0 ‘***’ 0.001 ‘**’ 0.01 ‘*’ 0.05 ‘.’ 0.1 ‘ ’ 1\n",
              "[1] \"Selected variable: dadht\"\n",
              "Single term additions\n",
              "\n",
              "Model:\n",
              "height ~ male + dadht\n",
              "         Df Sum of Sq    RSS    AIC F value    Pr(>F)    \n",
              "<none>                935.86 287.06                      \n",
              "alcohol   1    29.862 905.99 283.94  5.0758   0.02567 *  \n",
              "exercise  1     3.866 931.99 288.41  0.6387   0.42540    \n",
              "momht     1    95.253 840.60 272.10 17.4505 4.923e-05 ***\n",
              "---\n",
              "Signif. codes:  0 ‘***’ 0.001 ‘**’ 0.01 ‘*’ 0.05 ‘.’ 0.1 ‘ ’ 1\n",
              "[1] \"Selected variable: momht\"\n",
              "Single term additions\n",
              "\n",
              "Model:\n",
              "height ~ male + dadht + momht\n",
              "         Df Sum of Sq    RSS    AIC F value  Pr(>F)  \n",
              "<none>                840.60 272.10                  \n",
              "alcohol   1   15.8607 824.74 271.09  2.9424 0.08831 .\n",
              "exercise  1    3.5405 837.06 273.43  0.6471 0.42239  \n",
              "---\n",
              "Signif. codes:  0 ‘***’ 0.001 ‘**’ 0.01 ‘*’ 0.05 ‘.’ 0.1 ‘ ’ 1\n",
              "[1] \"Selected variable: NA\"\n"
            ]
          },
          "metadata": {
            "tags": []
          }
        }
      ]
    },
    {
      "cell_type": "markdown",
      "metadata": {
        "id": "O9E-SomqT37w",
        "colab_type": "text"
      },
      "source": [
        "We use variables **male**, **dadht**, **momht** in our final model.  \n"
      ]
    },
    {
      "cell_type": "markdown",
      "metadata": {
        "id": "SCnQ9Ycjjjvq",
        "colab_type": "text"
      },
      "source": [
        "(d) Starting from a full model, use stepwise selection with AIC to select variables for your model.  \n",
        "Use this as your final model; comment briefly on the variables included.  \n"
      ]
    },
    {
      "cell_type": "code",
      "metadata": {
        "id": "PW3x_KIlX9_P",
        "colab_type": "code",
        "outputId": "98a11561-4475-41b6-da48-b476be3c3364",
        "colab": {
          "base_uri": "https://localhost:8080/",
          "height": 799
        }
      },
      "source": [
        "%%R\n",
        "\n",
        "model_final <- model # start with full model\n",
        "model_final <- step(model_final, scope=~., steps=1) # exercise dropped\n",
        "model_final <- step(model_final, scope=~. + exercise, steps=1) # stop\n",
        "summary(model_final)"
      ],
      "execution_count": 0,
      "outputs": [
        {
          "output_type": "display_data",
          "data": {
            "text/plain": [
              "Start:  AIC=271.58\n",
              "height ~ alcohol + exercise + male + dadht + momht\n",
              "\n",
              "           Df Sum of Sq     RSS    AIC\n",
              "- exercise  1      7.86  824.74 271.09\n",
              "<none>                   816.89 271.58\n",
              "- alcohol   1     20.18  837.06 273.43\n",
              "- momht     1     78.93  895.82 284.15\n",
              "- dadht     1    269.34 1086.22 314.60\n",
              "- male      1    903.86 1720.74 387.29\n",
              "\n",
              "Step:  AIC=271.09\n",
              "height ~ alcohol + male + dadht + momht\n",
              "\n",
              "Start:  AIC=271.09\n",
              "height ~ alcohol + male + dadht + momht\n",
              "\n",
              "           Df Sum of Sq     RSS    AIC\n",
              "<none>                   824.74 271.09\n",
              "+ exercise  1      7.86  816.89 271.58\n",
              "- alcohol   1     15.86  840.60 272.10\n",
              "- momht     1     81.25  905.99 283.94\n",
              "- dadht     1    270.17 1094.91 313.86\n",
              "- male      1    897.14 1721.88 385.40\n",
              "\n",
              "Call:\n",
              "lm(formula = height ~ alcohol + male + dadht + momht, data = df)\n",
              "\n",
              "Residuals:\n",
              "    Min      1Q  Median      3Q     Max \n",
              "-11.213  -1.400   0.052   1.523   6.240 \n",
              "\n",
              "Coefficients:\n",
              "            Estimate Std. Error t value Pr(>|t|)    \n",
              "(Intercept) 20.48579    5.07444   4.037 8.53e-05 ***\n",
              "alcohol      0.04388    0.02558   1.715 0.088309 .  \n",
              "male         5.09892    0.39524  12.901  < 2e-16 ***\n",
              "dadht        0.38240    0.05401   7.079 4.90e-11 ***\n",
              "momht        0.27429    0.07065   3.882 0.000153 ***\n",
              "---\n",
              "Signif. codes:  0 ‘***’ 0.001 ‘**’ 0.01 ‘*’ 0.05 ‘.’ 0.1 ‘ ’ 1\n",
              "\n",
              "Residual standard error: 2.322 on 153 degrees of freedom\n",
              "Multiple R-squared:  0.6676,\tAdjusted R-squared:  0.6589 \n",
              "F-statistic: 76.82 on 4 and 153 DF,  p-value: < 2.2e-16\n",
              "\n"
            ]
          },
          "metadata": {
            "tags": []
          }
        }
      ]
    },
    {
      "cell_type": "markdown",
      "metadata": {
        "id": "-21EdMBTgcto",
        "colab_type": "text"
      },
      "source": [
        "**Comment**: amongst the variables, \"male\" (sex) shows to have the strongest influence on the student's height, while \"alcohol\" has the least significant effect, according to their estimates.  \n"
      ]
    },
    {
      "cell_type": "markdown",
      "metadata": {
        "id": "396_Lu8xjq_i",
        "colab_type": "text"
      },
      "source": [
        "(e) Test whether the parameters corresponding to father’s and mother’s heights are equal.  \n",
        "\n",
        "$$\n",
        "\\begin{align}\n",
        "H_0: \\beta_3 \\text{ (dadht)} = \\beta_4 \\text{ (momht)} \\\\\n",
        "H_1: \\beta_3 \\text{ (dadht)} \\neq \\beta_4 \\text{ (momht)} \\\\\n",
        "\\end{align}\n",
        "$$"
      ]
    },
    {
      "cell_type": "code",
      "metadata": {
        "id": "RcmXC4QWGnvc",
        "colab_type": "code",
        "outputId": "203a6cb6-9c56-4ff7-a851-350cda6dcaf7",
        "colab": {
          "base_uri": "https://localhost:8080/",
          "height": 272
        }
      },
      "source": [
        "%%R\n",
        "\n",
        "test <- linearHypothesis(model_final, \"dadht = momht\")\n",
        "print(test)\n",
        "\n",
        "print(\"p-value\")\n",
        "pval <- test$\"Pr(>F)\"[2]\n",
        "print(pval)\n",
        "\n",
        "print(\"Reject Null at 95% confidence level?\")\n",
        "print(pval < 0.05)"
      ],
      "execution_count": 0,
      "outputs": [
        {
          "output_type": "display_data",
          "data": {
            "text/plain": [
              "Linear hypothesis test\n",
              "\n",
              "Hypothesis:\n",
              "dadht - momht = 0\n",
              "\n",
              "Model 1: restricted model\n",
              "Model 2: height ~ alcohol + male + dadht + momht\n",
              "\n",
              "  Res.Df    RSS Df Sum of Sq      F Pr(>F)\n",
              "1    154 831.20                           \n",
              "2    153 824.74  1     6.453 1.1971 0.2756\n",
              "[1] \"p-value\"\n",
              "[1] 0.2756189\n",
              "[1] \"Reject Null at 95% confidence level?\"\n",
              "[1] FALSE\n"
            ]
          },
          "metadata": {
            "tags": []
          }
        }
      ]
    },
    {
      "cell_type": "markdown",
      "metadata": {
        "id": "6PzZagG_jspd",
        "colab_type": "text"
      },
      "source": [
        "(f) Comment on the suitability of your final model, using diagnostic plots.  \n"
      ]
    },
    {
      "cell_type": "code",
      "metadata": {
        "id": "ldnhLOXRO0FJ",
        "colab_type": "code",
        "outputId": "e83604ba-116d-4f45-d163-5e7d5ade62e2",
        "colab": {
          "base_uri": "https://localhost:8080/",
          "height": 497
        }
      },
      "source": [
        "%%R\n",
        "\n",
        "par(mfrow = c(2, 2))\n",
        "plot(model_final)"
      ],
      "execution_count": 0,
      "outputs": [
        {
          "output_type": "display_data",
          "data": {
            "image/png": "[encoded data removed]"
          },
          "metadata": {
            "tags": []
          }
        }
      ]
    },
    {
      "cell_type": "markdown",
      "metadata": {
        "id": "ppZ1yRbXRem3",
        "colab_type": "text"
      },
      "source": [
        "**Linearity of data** (Residuals vs Fitted plot): the red line is approximately horizontal at zero, indicating there is no pattern in the residual plot. This suggests that we can assume linear relationship between **height** and **alcohol**, **male**, **dadht**, **momht**.  \n",
        "\n",
        "**Homogeneity of variance** (scale-location plot): points are not equally spread along the red line, suggesting non-constant variances in residuals.  \n",
        "\n",
        "**Normality of residuals** (QQ plot): most points fall approximately along the reference line, so we can assume normality.  \n",
        "\n",
        "**Outliers** (Residuals vs Leverage plot): most points have low standardized residuals ($\\leq 3$ in magnitude), except the one in the lower-left corner.  \n",
        "\n",
        "In summary, the final model is quite suitable for modeling the linear relationship between the responses and the predictors.  \n"
      ]
    },
    {
      "cell_type": "markdown",
      "metadata": {
        "id": "Ro6dppv5JQf0",
        "colab_type": "text"
      },
      "source": [
        "## Problem 4\n",
        "A study was conducted to determine the effect of the size of the root system on the growth of\n",
        "Douglas-fir seedlings when they are planted out. Seedlings were obtained from three seed lots,\n",
        "and when they were planted out their root volume was classified as small (RV1), medium (RV2),\n",
        "or large (RV3). The heights of the seedlings were then measured at the end of the first growing\n",
        "season. The data from the experiment is given in the file douglas.csv.  \n"
      ]
    },
    {
      "cell_type": "markdown",
      "metadata": {
        "id": "1MlG9LbMJfa7",
        "colab_type": "text"
      },
      "source": [
        "(a) Fit a linear model with interaction to the data. Calculate a confidence interval for the difference between the heights of large (RV3) and medium (RV2) seedlings in the B349 seed\n",
        "lot.  \n"
      ]
    },
    {
      "cell_type": "code",
      "metadata": {
        "id": "6pH6qoXyKCK_",
        "colab_type": "code",
        "outputId": "fa18cb3f-fe58-436d-87e6-d5ab79cb7845",
        "colab": {
          "base_uri": "https://localhost:8080/",
          "height": 578
        }
      },
      "source": [
        "%%R\n",
        "\n",
        "# Data\n",
        "df <- read.csv(\"douglas(2).csv\", header=TRUE)\n",
        "print(head(df))\n",
        "\n",
        "# Fit model\n",
        "model <- lm(Height ~ RootVolume * SeedLot, data=df)\n",
        "print(summary(model))\n",
        "\n",
        "x <- model.matrix(model) # design matrix\n",
        "b <- model$coef # estimated parameters\n",
        "n <- nrow(x) # number of samples\n",
        "p <- length(b) # number of parameters\n",
        "s <- sigma(model) # residual standard error"
      ],
      "execution_count": 0,
      "outputs": [
        {
          "output_type": "display_data",
          "data": {
            "text/plain": [
              "  Plot RootVolume SeedLot Height\n",
              "1    1        RV3    A567  54.44\n",
              "2    2        RV3    J052  56.44\n",
              "3    3        RV1    A567  46.97\n",
              "4    4        RV2    A567  54.57\n",
              "5    5        RV1    B349  49.32\n",
              "6    6        RV2    B349  55.00\n",
              "\n",
              "Call:\n",
              "lm(formula = Height ~ RootVolume * SeedLot, data = df)\n",
              "\n",
              "Residuals:\n",
              "    Min      1Q  Median      3Q     Max \n",
              "-3.3383 -1.2537  0.0217  0.7733  4.0517 \n",
              "\n",
              "Coefficients:\n",
              "                          Estimate Std. Error t value Pr(>|t|)    \n",
              "(Intercept)                46.5050     0.7123  65.286  < 2e-16 ***\n",
              "RootVolumeRV2               7.0000     1.0074   6.949 1.21e-08 ***\n",
              "RootVolumeRV3               8.3450     1.0074   8.284 1.34e-10 ***\n",
              "SeedLotB349                 3.0833     1.0074   3.061  0.00372 ** \n",
              "SeedLotJ052                 1.7217     1.0074   1.709  0.09433 .  \n",
              "RootVolumeRV2:SeedLotB349  -0.7133     1.4246  -0.501  0.61902    \n",
              "RootVolumeRV3:SeedLotB349   1.4083     1.4246   0.989  0.32817    \n",
              "RootVolumeRV2:SeedLotJ052  -1.6600     1.4246  -1.165  0.25008    \n",
              "RootVolumeRV3:SeedLotJ052   0.3783     1.4246   0.266  0.79179    \n",
              "---\n",
              "Signif. codes:  0 ‘***’ 0.001 ‘**’ 0.01 ‘*’ 0.05 ‘.’ 0.1 ‘ ’ 1\n",
              "\n",
              "Residual standard error: 1.745 on 45 degrees of freedom\n",
              "Multiple R-squared:  0.8635,\tAdjusted R-squared:  0.8393 \n",
              "F-statistic: 35.59 on 8 and 45 DF,  p-value: < 2.2e-16\n",
              "\n"
            ]
          },
          "metadata": {
            "tags": []
          }
        }
      ]
    },
    {
      "cell_type": "markdown",
      "metadata": {
        "id": "VZzTp8Z83sgO",
        "colab_type": "text"
      },
      "source": [
        "Predictor for height of large (RV3) seedlings in the B349 seed lot:  \n",
        "$$\n",
        "\\begin{align}\n",
        "x_{3B} &= \\begin{bmatrix} 1 & 0 & 1 & 1 & 0 & 0 & 1 & 0 & 0 \\end{bmatrix} \\\\\n",
        "\\end{align}\n",
        "$$\n",
        "\n",
        "Predictor for height of large (RV2) seedlings in the B349 seed lot:  \n",
        "$$\n",
        "\\begin{align}\n",
        "x_{2B} &= \\begin{bmatrix} 1 & 1 & 0 & 1 & 0 & 1 & 0 & 0 & 0 \\end{bmatrix} \\\\\n",
        "\\end{align}\n",
        "$$\n",
        "\n",
        "Predictor for difference between the heights:  \n",
        "$$\n",
        "\\begin{align}\n",
        "x &= x_{3B} - x_{2B} \\\\\n",
        "\\end{align}\n",
        "$$\n"
      ]
    },
    {
      "cell_type": "code",
      "metadata": {
        "id": "EbzXuv6isDwi",
        "colab_type": "code",
        "outputId": "b05dd987-af86-4197-a242-f631780a5259",
        "colab": {
          "base_uri": "https://localhost:8080/",
          "height": 87
        }
      },
      "source": [
        "%%R\n",
        "\n",
        "print(\"predictor\")\n",
        "x3b <- c(1, 0, 1, 1, 0, 0, 1, 0, 0)\n",
        "x2b <- c(1, 1, 0, 1, 0, 1, 0, 0, 0)\n",
        "new <- x3b - x2b\n",
        "print(new)\n",
        "\n",
        "print(\"95% prediction interval\")\n",
        "xTx <- t(x) %*% x\n",
        "pred <- new%*%b\n",
        "confint <- pred + c(-1, 1) * qt(0.975, df=n-p) * s * sqrt(1+new%*%solve(xTx)%*%new)\n",
        "print(confint)"
      ],
      "execution_count": 0,
      "outputs": [
        {
          "output_type": "display_data",
          "data": {
            "text/plain": [
              "[1] \"predictor\"\n",
              "[1]  0 -1  1  0  0 -1  1  0  0\n",
              "[1] \"95% prediction interval\"\n",
              "[1] -0.5912613  7.5245947\n"
            ]
          },
          "metadata": {
            "tags": []
          }
        }
      ]
    },
    {
      "cell_type": "markdown",
      "metadata": {
        "id": "BDd7uy9CJhZW",
        "colab_type": "text"
      },
      "source": [
        "(b) Is it possible to estimate, from this model, an overall difference between the heights of large and medium seedlings?  \n",
        "\n",
        "Since there is interaction in this model and we do not know how differently SeedLot A567 may have effect on large and medium seedlings, the overall difference between their heights is not estimable.  "
      ]
    },
    {
      "cell_type": "markdown",
      "metadata": {
        "id": "2YlKriedJi3Y",
        "colab_type": "text"
      },
      "source": [
        "(c) Test the hypothesis that the height of seedlings from the J052 plot has no dependence on root\n",
        "volume.  \n",
        "\n",
        "| | (Intercept) | RootVolumeRV2 | RootVolumeRV3 | SeedLotB349 | SeedLotJ052 | RootVolumeRV2:SeedLotB349 | RootVolumeRV3:SeedLotB349 | RootVolumeRV2:SeedLotJ052 | RootVolumeRV3:SeedLotJ052 |\n",
        "| --- | --- | --- | --- | --- | --- | --- | --- | --- | --- |\n",
        "| $\\boldsymbol{\\beta}$ | $\\beta_0$ | $\\beta_1$ | $\\beta_2$ | $\\beta_3$ | $\\beta_4$ | $\\beta_5$ | $\\beta_6$ | $\\beta_7$ | $\\beta_8$ |\n",
        "| $\\boldsymbol{x_{RV1-J052}}$ | 1 | 0 | 0 | 0 | 1 | 0 | 0 | 0 | 0 |\n",
        "| $\\boldsymbol{x_{RV2-J052}}$ | 1 | 1 | 0 | 0 | 1 | 0 | 0 | 1 | 0 |\n",
        "| $\\boldsymbol{x_{RV3-J052}}$ | 1 | 0 | 1 | 0 | 1 | 0 | 0 | 0 | 1 |\n",
        "\n",
        "Null hypothesis:  \n",
        "$$\n",
        "\\begin{align}\n",
        "H_0 &: \\text{height}_{\\text{RV1-J052}} = \\text{height}_{\\text{RV2-J052}} = \\text{height}_{\\text{RV3-J052}} \\\\\n",
        "H_0 &: \\text{height}_{\\text{RV2-J052}} - \\text{height}_{\\text{RV1-J052}} = 0 \\\\\n",
        "& \\quad \\text{height}_{\\text{RV3-J052}} - \\text{height}_{\\text{RV1-J052}} = 0 \\\\\n",
        "H_0 &: (\\boldsymbol{x_{RV2-J052}} - \\boldsymbol{x_{RV1-J052}}) \\beta = 0 \\\\\n",
        "& \\quad (\\boldsymbol{x_{RV3-J052}} - \\boldsymbol{x_{RV1-J052}}) \\beta = 0 \\\\\n",
        "\\end{align}\n",
        "$$"
      ]
    },
    {
      "cell_type": "code",
      "metadata": {
        "colab_type": "code",
        "outputId": "b905f4e3-1c08-453a-8db3-7cef72c004b7",
        "id": "HO6mujB2Tngu",
        "colab": {
          "base_uri": "https://localhost:8080/",
          "height": 364
        }
      },
      "source": [
        "%%R\n",
        "\n",
        "print(\"C matrix\")\n",
        "x1j <- c(1, 0, 0, 0, 1, 0, 0, 0, 0)\n",
        "x2j <- c(1, 1, 0, 0, 1, 0, 0, 1, 0)\n",
        "x3j <- c(1, 0, 1, 0, 1, 0, 0, 0, 1)\n",
        "c <- matrix(c(x2j - x1j, x3j - x1j), nrow=2, byrow=TRUE)\n",
        "print(c)\n",
        "\n",
        "test <- linearHypothesis(model, c)\n",
        "print(test)\n",
        "print(\"Reject Null at 95% confidence level?\")\n",
        "print(test[\"Pr(>F)\"][2,] < 0.05) # check p-value"
      ],
      "execution_count": 0,
      "outputs": [
        {
          "output_type": "display_data",
          "data": {
            "text/plain": [
              "[1] \"C matrix\"\n",
              "     [,1] [,2] [,3] [,4] [,5] [,6] [,7] [,8] [,9]\n",
              "[1,]    0    1    0    0    0    0    0    1    0\n",
              "[2,]    0    0    1    0    0    0    0    0    1\n",
              "Linear hypothesis test\n",
              "\n",
              "Hypothesis:\n",
              "RootVolumeRV2  + RootVolumeRV2:SeedLotJ052 = 0\n",
              "RootVolumeRV3  + RootVolumeRV3:SeedLotJ052 = 0\n",
              "\n",
              "Model 1: restricted model\n",
              "Model 2: Height ~ RootVolume * SeedLot\n",
              "\n",
              "  Res.Df    RSS Df Sum of Sq      F    Pr(>F)    \n",
              "1     47 369.12                                  \n",
              "2     45 137.00  2    232.12 38.122 2.065e-10 ***\n",
              "---\n",
              "Signif. codes:  0 ‘***’ 0.001 ‘**’ 0.01 ‘*’ 0.05 ‘.’ 0.1 ‘ ’ 1\n",
              "[1] \"Reject Null at 95% confidence level?\"\n",
              "[1] TRUE\n"
            ]
          },
          "metadata": {
            "tags": []
          }
        }
      ]
    },
    {
      "cell_type": "markdown",
      "metadata": {
        "id": "P-pgHI4NJllt",
        "colab_type": "text"
      },
      "source": [
        "(d) Generate an interaction plot for the data. Is there any evidence of an interaction?  \n",
        "\n",
        "The lines (in the graphs below) show dissimilar patterns and almost cross each other.\n",
        "This suggest that there may be interaction between the factors.\n",
        "However, more tests need to be performed to confirm this.  \n"
      ]
    },
    {
      "cell_type": "code",
      "metadata": {
        "id": "oOIbI6VuYuLo",
        "colab_type": "code",
        "outputId": "3ebe5896-a9c5-4e96-a99c-0b1252cf059c",
        "colab": {
          "base_uri": "https://localhost:8080/",
          "height": 977
        }
      },
      "source": [
        "%%R\n",
        "\n",
        "with(df, {interaction.plot(RootVolume, SeedLot, Height, fixed = TRUE)\n",
        "         interaction.plot(SeedLot, RootVolume, Height, fixed = TRUE)})"
      ],
      "execution_count": 0,
      "outputs": [
        {
          "output_type": "display_data",
          "data": {
            "image/png": "[encoded data removed]"
          },
          "metadata": {
            "tags": []
          }
        },
        {
          "output_type": "display_data",
          "data": {
            "image/png": "[encoded data removed]"
          },
          "metadata": {
            "tags": []
          }
        }
      ]
    },
    {
      "cell_type": "markdown",
      "metadata": {
        "id": "DdLhE0IQJmvi",
        "colab_type": "text"
      },
      "source": [
        "(e) Test for the presence of interaction between root volume and seed lot.  \n",
        "\n",
        "| | (Intercept) | RootVolumeRV2 | RootVolumeRV3 | SeedLotB349 | SeedLotJ052 | RootVolumeRV2:SeedLotB349 | RootVolumeRV3:SeedLotB349 | RootVolumeRV2:SeedLotJ052 | RootVolumeRV3:SeedLotJ052 |\n",
        "| --- | --- | --- | --- | --- | --- | --- | --- | --- | --- |\n",
        "| $\\boldsymbol{\\beta}$ | $\\beta_0$ | $\\beta_1$ | $\\beta_2$ | $\\beta_3$ | $\\beta_4$ | $\\beta_5$ | $\\beta_6$ | $\\beta_7$ | $\\beta_8$ |\n",
        "\n",
        "Hypothesis:  \n",
        "$$\n",
        "\\begin{align}\n",
        "H_0 &: \\beta_5 = \\beta_6 = \\beta_7 = \\beta_8 = 0 \\quad (\\text{no interaction}) \\\\\n",
        "H_1 &: \\text{otherwise} \\\\\n",
        "\\end{align}\n",
        "$$\n"
      ]
    },
    {
      "cell_type": "code",
      "metadata": {
        "colab_type": "code",
        "outputId": "42f41fdd-7dd0-42f7-f4b1-5bfd6b8eafce",
        "id": "wtZuHwlEPt3x",
        "colab": {
          "base_uri": "https://localhost:8080/",
          "height": 295
        }
      },
      "source": [
        "%%R\n",
        "\n",
        "# hypothesis\n",
        "hypo <- c(\"RootVolumeRV2:SeedLotB349 = 0\",\n",
        "          \"RootVolumeRV3:SeedLotB349 = 0\",\n",
        "          \"RootVolumeRV2:SeedLotJ052 = 0\",\n",
        "          \"RootVolumeRV3:SeedLotJ052 = 0\")\n",
        "test <- linearHypothesis(model, hypo)\n",
        "print(test)\n",
        "\n",
        "print(\"Reject Null at 95% confidence level?\")\n",
        "print(test[\"Pr(>F)\"][2,] < 0.05) # check p-value"
      ],
      "execution_count": 0,
      "outputs": [
        {
          "output_type": "display_data",
          "data": {
            "text/plain": [
              "Linear hypothesis test\n",
              "\n",
              "Hypothesis:\n",
              "RootVolumeRV2:SeedLotB349 = 0\n",
              "RootVolumeRV3:SeedLotB349 = 0\n",
              "RootVolumeRV2:SeedLotJ052 = 0\n",
              "RootVolumeRV3:SeedLotJ052 = 0\n",
              "\n",
              "Model 1: restricted model\n",
              "Model 2: Height ~ RootVolume * SeedLot\n",
              "\n",
              "  Res.Df    RSS Df Sum of Sq      F Pr(>F)\n",
              "1     49 147.67                           \n",
              "2     45 137.00  4    10.674 0.8765 0.4855\n",
              "[1] \"Reject Null at 95% confidence level?\"\n",
              "[1] FALSE\n"
            ]
          },
          "metadata": {
            "tags": []
          }
        }
      ]
    },
    {
      "cell_type": "markdown",
      "metadata": {
        "id": "IazuMOdPJnxa",
        "colab_type": "text"
      },
      "source": [
        "(f) Perform forwards selection to determine a final model.  \n"
      ]
    },
    {
      "cell_type": "code",
      "metadata": {
        "id": "pEvfMSGIvCi6",
        "colab_type": "code",
        "outputId": "c81bcc25-e38f-41ff-bd0f-39ab0753bf83",
        "colab": {
          "base_uri": "https://localhost:8080/",
          "height": 745
        }
      },
      "source": [
        "%%R\n",
        "\n",
        "# Empty model\n",
        "model_final <- lm(Height ~ 1, data=df)\n",
        "test <- add1(model_final, scope= ~ . + RootVolume, test=\"F\")\n",
        "print(test)\n",
        "# variable with p-value smallest and < 0.05\n",
        "imin <- which.min(test$\"Pr(>F)\") # index of smallest p-value\n",
        "print(sprintf(\"Selected variable: %s\", if (test$\"Pr(>F)\"[imin] < 0.05) rownames(test)[imin] else NA))\n",
        "\n",
        "# 1-variable model\n",
        "model_final <- lm(Height ~ RootVolume, data=df)\n",
        "test <- add1(model_final, scope= ~ . + SeedLot, test=\"F\")\n",
        "print(test)\n",
        "# variable with p-value smallest and < 0.05\n",
        "imin <- which.min(test$\"Pr(>F)\") # index of smallest p-value\n",
        "print(sprintf(\"Selected variable: %s\", if (test$\"Pr(>F)\"[imin] < 0.05) rownames(test)[imin] else NA))\n",
        "\n",
        "# 2-variable model\n",
        "model_final <- lm(Height ~ RootVolume + SeedLot, data=df)\n",
        "print(summary(model_final))"
      ],
      "execution_count": 0,
      "outputs": [
        {
          "output_type": "display_data",
          "data": {
            "text/plain": [
              "Single term additions\n",
              "\n",
              "Model:\n",
              "Height ~ 1\n",
              "           Df Sum of Sq     RSS     AIC F value    Pr(>F)    \n",
              "<none>                  1003.83 159.820                      \n",
              "RootVolume  2    755.68  248.16  88.354  77.651 3.336e-16 ***\n",
              "---\n",
              "Signif. codes:  0 ‘***’ 0.001 ‘**’ 0.01 ‘*’ 0.05 ‘.’ 0.1 ‘ ’ 1\n",
              "[1] \"Selected variable: RootVolume\"\n",
              "Single term additions\n",
              "\n",
              "Model:\n",
              "Height ~ RootVolume\n",
              "        Df Sum of Sq    RSS    AIC F value Pr(>F)    \n",
              "<none>               248.16 88.354                   \n",
              "SeedLot  2    100.48 147.67 64.325  16.671  3e-06 ***\n",
              "---\n",
              "Signif. codes:  0 ‘***’ 0.001 ‘**’ 0.01 ‘*’ 0.05 ‘.’ 0.1 ‘ ’ 1\n",
              "[1] \"Selected variable: SeedLot\"\n",
              "\n",
              "Call:\n",
              "lm(formula = Height ~ RootVolume + SeedLot, data = df)\n",
              "\n",
              "Residuals:\n",
              "    Min      1Q  Median      3Q     Max \n",
              "-3.6352 -1.2244  0.0979  1.0551  3.7548 \n",
              "\n",
              "Coefficients:\n",
              "              Estimate Std. Error t value Pr(>|t|)    \n",
              "(Intercept)    46.5702     0.5283  88.159  < 2e-16 ***\n",
              "RootVolumeRV2   6.2089     0.5787  10.730 1.85e-14 ***\n",
              "RootVolumeRV3   8.9406     0.5787  15.450  < 2e-16 ***\n",
              "SeedLotB349     3.3150     0.5787   5.729 6.11e-07 ***\n",
              "SeedLotJ052     1.2944     0.5787   2.237   0.0299 *  \n",
              "---\n",
              "Signif. codes:  0 ‘***’ 0.001 ‘**’ 0.01 ‘*’ 0.05 ‘.’ 0.1 ‘ ’ 1\n",
              "\n",
              "Residual standard error: 1.736 on 49 degrees of freedom\n",
              "Multiple R-squared:  0.8529,\tAdjusted R-squared:  0.8409 \n",
              "F-statistic: 71.02 on 4 and 49 DF,  p-value: < 2.2e-16\n",
              "\n"
            ]
          },
          "metadata": {
            "tags": []
          }
        }
      ]
    },
    {
      "cell_type": "markdown",
      "metadata": {
        "id": "2Tp3ryrrJoi2",
        "colab_type": "text"
      },
      "source": [
        "(g) Is it possible to estimate, from this model, an overall difference between the heights of large\n",
        "and medium seedlings?  \n",
        "\n",
        "Overall height of large seedlings:  \n",
        "$$\n",
        "\\begin{align}\n",
        "x_{3B}^T \\beta + x_{3J}^T \\beta \\\\\n",
        "\\end{align}\n",
        "$$\n",
        "\n",
        "Overall height of medium seedlings:  \n",
        "$$\n",
        "\\begin{align}\n",
        "x_{2B}^T \\beta + x_{2J}^T \\beta \\\\\n",
        "\\end{align}\n",
        "$$\n",
        "\n",
        "Overall difference between the heights of large and medium seedlings:  \n",
        "$$\n",
        "\\begin{align}\n",
        "x_{3B}^T \\beta + x_{3J}^T \\beta - x_{2B}^T \\beta - x_{2J}^T \\beta \\\\\n",
        "\\end{align}\n",
        "$$\n",
        "If each term is estimable, the overall difference is estimable.  \n",
        "If each term is an element of $Xβ$ ($X$ design matrix), it is estimable.  \n",
        "If the predictors $x_{3B}^T, x_{3J}^T, x_{2B}^T, x_{2J}^T$ are included in $X$, all terms are elements of $Xβ$.  \n",
        "\n",
        "Since there's no interaction terms, let us verify that $x_{3B}^T, x_{3J}^T, x_{2B}^T, x_{2J}^T$ are subsets of $X$ by looking for their respective records **(RV3, B349), (RV3, J052), (RV2, B349), (RV2, J052)** in the dataset.  \n"
      ]
    },
    {
      "cell_type": "code",
      "metadata": {
        "colab_type": "code",
        "outputId": "13ff63a3-ca0f-4b01-bf5b-883a8dbe9fb9",
        "id": "XJoQv5QM4u-F",
        "colab": {
          "base_uri": "https://localhost:8080/",
          "height": 51
        }
      },
      "source": [
        "%%R\n",
        "\n",
        "xcat <- df[c(\"RootVolume\", \"SeedLot\")] # extract RootVolume, SeedLot columns\n",
        "is_subset <- any(apply(xcat, 1, function(x) all(x == c(\"RV3\", \"B349\")))) &\n",
        "             any(apply(xcat, 1, function(x) all(x == c(\"RV3\", \"J052\")))) &\n",
        "             any(apply(xcat, 1, function(x) all(x == c(\"RV2\", \"B349\")))) &\n",
        "             any(apply(xcat, 1, function(x) all(x == c(\"RV2\", \"J052\"))))\n",
        "print(\"overall difference estimable?\")\n",
        "print(is_subset)"
      ],
      "execution_count": 0,
      "outputs": [
        {
          "output_type": "display_data",
          "data": {
            "text/plain": [
              "[1] \"overall difference estimable?\"\n",
              "[1] TRUE\n"
            ]
          },
          "metadata": {
            "tags": []
          }
        }
      ]
    },
    {
      "cell_type": "markdown",
      "metadata": {
        "id": "OSDB0KWcCyEv",
        "colab_type": "text"
      },
      "source": [
        "## Problem 5\n",
        "You wish to perform a study to determine if 3 treatments each produce no effect using a completely\n",
        "randomised design. To do this, you will test the hypothesis H0 : µ + τ1 = τ1 − τ2 = τ2 − τ3 = 0.\n",
        "You are given resources to study 50 sample units.  \n"
      ]
    },
    {
      "cell_type": "markdown",
      "metadata": {
        "id": "3P3l9EGTC78j",
        "colab_type": "text"
      },
      "source": [
        "(a) Determine the optimal allocation of the number of units to assign to each treatment.  \n",
        "\n",
        "$$\n",
        "\\begin{align}\n",
        "var(\\widehat{µ + τ_1}) &= var(\\widehat{µ_1}) = \\frac{\\sigma^2}{n_1} \\\\\n",
        "var(\\widehat{τ_1 − τ_2}) &= \\sigma^2 \\left(\\frac{1}{n_1} + \\frac{1}{n_2}\\right) \\\\\n",
        "var(\\widehat{τ_2 − τ_3}) &= \\sigma^2 \\left(\\frac{1}{n_2} + \\frac{1}{n_3}\\right) \\\\\n",
        "f(n_1, n_2, n_3, λ) &= σ^2 \\left(\\frac{2}{n_1} + \\frac{2}{n_2} + \\frac{1}{n_3}\\right) + λ \\left(\\sum_{i=1}^{3} n_i - n\\right) \\\\\n",
        "\\end{align}\n",
        "$$\n",
        "\n",
        "By taking derivative of $f(n_1, n_2, n_3, λ)$ w.r.t $n_i$, then setting to 0, we have:  \n",
        "$$\n",
        "\\begin{align}\n",
        "n_1^2 = n_2^2 &= 2\\frac{\\sigma^2}{\\lambda} \\\\\n",
        "n_3^2 &= \\frac{\\sigma^2}{\\lambda} \\\\\n",
        "\\end{align}\n",
        "$$\n",
        "\n",
        "Solving for $n_1, n_2, n_3$ with $n_1 + n_2 + n_3 = n = 50$, we get:  \n",
        "$$\n",
        "\\begin{align}\n",
        "n_1 = n_2 = &= \\sqrt{2} \\frac{n}{1+2\\sqrt{2}} \\\\\n",
        "n_3 &= \\frac{n}{1+2\\sqrt{2}}\n",
        "\\end{align}\n",
        "$$"
      ]
    },
    {
      "cell_type": "code",
      "metadata": {
        "id": "tiL08FJTbnoo",
        "colab_type": "code",
        "outputId": "23d75f45-3c69-4b35-e9e1-549dc74d1db2",
        "colab": {
          "base_uri": "https://localhost:8080/",
          "height": 52
        }
      },
      "source": [
        "%%R\n",
        "\n",
        "n <- 50\n",
        "n1 <- n2 <-round( sqrt(2) * n / (1+2*sqrt(2)))\n",
        "n3 <- n - sum(n1, n2)\n",
        "print(\"n1, n2, n3\")\n",
        "print(c(n1, n2, n3))"
      ],
      "execution_count": 0,
      "outputs": [
        {
          "output_type": "display_data",
          "data": {
            "text/plain": [
              "[1] \"n1, n2, n3\"\n",
              "[1] 18 18 14\n"
            ]
          },
          "metadata": {
            "tags": []
          }
        }
      ]
    },
    {
      "cell_type": "markdown",
      "metadata": {
        "id": "JWjedh3IC9Sq",
        "colab_type": "text"
      },
      "source": [
        "(b) Perform the random allocation. You must use R for randomisation and include your R commands and output.  \n"
      ]
    },
    {
      "cell_type": "code",
      "metadata": {
        "id": "A7E_bU2McuST",
        "colab_type": "code",
        "outputId": "ea2d2136-1c97-4c87-810a-f04f116bb381",
        "colab": {
          "base_uri": "https://localhost:8080/",
          "height": 121
        }
      },
      "source": [
        "%%R\n",
        "\n",
        "ni <- c(18, 18, 14)\n",
        "x <- sample(n, n)\n",
        "\n",
        "print(\"Group 1\")\n",
        "print(x[1:ni[1]])\n",
        "\n",
        "print(\"Group 2\")\n",
        "print(x[(ni[1]+1):(ni[1]+ni[2])])\n",
        "\n",
        "print(\"Group 3\")\n",
        "print(x[(ni[1]+ni[2]+1):n])"
      ],
      "execution_count": 0,
      "outputs": [
        {
          "output_type": "display_data",
          "data": {
            "text/plain": [
              "[1] \"Group 1\"\n",
              " [1]  9 23 24 18 48 22 37 39 26 32 33 47 16 21  1 40  6 45\n",
              "[1] \"Group 2\"\n",
              " [1]  2 34 29 49 50 30  8 36 31 27 12 28  7 19 13 42 20 11\n",
              "[1] \"Group 3\"\n",
              " [1] 43 14 46 10 35 25 17 38 15 44  3 41  5  4\n"
            ]
          },
          "metadata": {
            "tags": []
          }
        }
      ]
    }
  ]
}