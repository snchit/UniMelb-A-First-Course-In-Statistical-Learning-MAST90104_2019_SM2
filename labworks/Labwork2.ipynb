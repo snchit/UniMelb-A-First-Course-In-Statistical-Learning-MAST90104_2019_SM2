{
  "nbformat": 4,
  "nbformat_minor": 0,
  "metadata": {
    "colab": {
      "name": "Labwork2.ipynb",
      "version": "0.3.2",
      "provenance": [],
      "collapsed_sections": [],
      "include_colab_link": true
    },
    "kernelspec": {
      "name": "python3",
      "display_name": "Python 3"
    },
    "accelerator": "GPU"
  },
  "cells": [
    {
      "cell_type": "markdown",
      "metadata": {
        "id": "view-in-github",
        "colab_type": "text"
      },
      "source": [
        "<a href=\"https://colab.research.google.com/github/Data-Science-and-Data-Analytics-Courses/UniMelb-A-First-Course-In-Statistical-Learning-MAST90104_2019_SM2/blob/master/labworks/Labwork2.ipynb\" target=\"_parent\"><img src=\"https://colab.research.google.com/assets/colab-badge.svg\" alt=\"Open In Colab\"/></a>"
      ]
    },
    {
      "cell_type": "markdown",
      "metadata": {
        "id": "fRrOetKsg-RC",
        "colab_type": "text"
      },
      "source": [
        "# Week 2 Workshop/Lab\n",
        "\n",
        "---\n",
        "\n"
      ]
    },
    {
      "cell_type": "markdown",
      "metadata": {
        "colab_type": "text",
        "id": "NFlCab3fJ3Gf"
      },
      "source": [
        "## Setup"
      ]
    },
    {
      "cell_type": "code",
      "metadata": {
        "colab_type": "code",
        "id": "XrUFzhpR7pOZ",
        "colab": {}
      },
      "source": [
        "import sys\n",
        "from pathlib import Path\n",
        "\n",
        "# Notebook Library\n",
        "url = \"https://github.com/Data-Science-and-Data-Analytics-Courses/Notebook-Library\"\n",
        "repo = Path(\"/nblib\")\n",
        "!git clone \"{url}\" \"{repo}\"\n",
        "if repo.parent.as_posix() not in sys.path:\n",
        "  sys.path.append(repo.parent.as_posix())\n",
        "%run \"{repo}/.Importable.ipynb\"\n",
        "\n",
        "from nblib.imports.Basic import *\n",
        "from nblib import Git\n",
        "\n",
        "# Remote\n",
        "URL = \"https://github.com/Data-Science-and-Data-Analytics-Courses/UniMelb-A-First-Course-In-Statistical-Learning-MAST90104_2019_SM2\"\n",
        "REPO = Git.clone(URL, dest=\"/content\")\n",
        "if REPO.as_posix() not in sys.path:\n",
        "  sys.path.append(REPO.as_posix())\n",
        "\n",
        "# Working directory\n",
        "os.chdir(REPO)\n",
        "\n",
        "from nblib.imports.RPy import *\n",
        "from setup.Setup import *\n",
        "\n",
        "clear_output()"
      ],
      "execution_count": 0,
      "outputs": []
    },
    {
      "cell_type": "markdown",
      "metadata": {
        "id": "akzLE-xVaGn3",
        "colab_type": "text"
      },
      "source": [
        "## Workshop"
      ]
    },
    {
      "cell_type": "markdown",
      "metadata": {
        "colab_type": "text",
        "id": "3TAY5cvwW4wj"
      },
      "source": [
        "## R Exercises"
      ]
    },
    {
      "cell_type": "code",
      "metadata": {
        "id": "mZnt0-kNYoEL",
        "colab_type": "code",
        "outputId": "85b8bbca-ce6c-4545-f4de-b0f955377e06",
        "colab": {
          "base_uri": "https://localhost:8080/",
          "height": 34
        }
      },
      "source": [
        "%%R\n",
        "\n",
        "h <- function(x, n){\n",
        "    sum(x^(0:n))\n",
        "}\n",
        "n <- 10\n",
        "x <- 2\n",
        "h(x, n)"
      ],
      "execution_count": 0,
      "outputs": [
        {
          "output_type": "display_data",
          "data": {
            "text/plain": [
              "[1] 2047\n"
            ]
          },
          "metadata": {
            "tags": []
          }
        }
      ]
    },
    {
      "cell_type": "code",
      "metadata": {
        "id": "EqpCoi6cas9d",
        "colab_type": "code",
        "outputId": "72cb2486-618a-489b-fd89-1a4eb5f777c4",
        "colab": {
          "base_uri": "https://localhost:8080/",
          "height": 34
        }
      },
      "source": [
        "%%R\n",
        "\n",
        "h2 <- function(x, n){\n",
        "    if (x == 1) {\n",
        "        return (n+1)\n",
        "    } else {\n",
        "        return ((1-x^(n+1)) / (1-x))\n",
        "    }\n",
        "}\n",
        "n <- 10\n",
        "x <- 2\n",
        "h2(x, n)"
      ],
      "execution_count": 0,
      "outputs": [
        {
          "output_type": "display_data",
          "data": {
            "text/plain": [
              "[1] 2047\n"
            ]
          },
          "metadata": {
            "tags": []
          }
        }
      ]
    },
    {
      "cell_type": "code",
      "metadata": {
        "colab_type": "code",
        "outputId": "c528a6ae-d67a-41ce-fcff-23dbfad917b2",
        "id": "F0tJ3Zf-dKuX",
        "colab": {
          "base_uri": "https://localhost:8080/",
          "height": 34
        }
      },
      "source": [
        "%%R\n",
        "\n",
        "geo_mean <- function(x){\n",
        "    prod(x) ^ (1/length(x))\n",
        "}\n",
        "x <- c(2, 3, 5)\n",
        "geo_mean(x) == 30^(1/3)"
      ],
      "execution_count": 0,
      "outputs": [
        {
          "output_type": "display_data",
          "data": {
            "text/plain": [
              "[1] TRUE\n"
            ]
          },
          "metadata": {
            "tags": []
          }
        }
      ]
    },
    {
      "cell_type": "code",
      "metadata": {
        "id": "6MCzeH_refBA",
        "colab_type": "code",
        "colab": {}
      },
      "source": [
        "%%R\n",
        "\n",
        "x <- rep(FALSE, 100)"
      ],
      "execution_count": 0,
      "outputs": []
    }
  ]
}