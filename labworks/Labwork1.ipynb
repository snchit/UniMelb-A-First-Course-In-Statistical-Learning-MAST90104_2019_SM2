{
  "nbformat": 4,
  "nbformat_minor": 0,
  "metadata": {
    "colab": {
      "name": "Labwork1.ipynb",
      "version": "0.3.2",
      "provenance": [],
      "collapsed_sections": [],
      "include_colab_link": true
    },
    "kernelspec": {
      "name": "python3",
      "display_name": "Python 3"
    },
    "accelerator": "GPU"
  },
  "cells": [
    {
      "cell_type": "markdown",
      "metadata": {
        "id": "view-in-github",
        "colab_type": "text"
      },
      "source": [
        "<a href=\"https://colab.research.google.com/github/Data-Science-and-Data-Analytics-Courses/UniMelb-A-First-Course-In-Statistical-Learning-MAST90104_2019_SM2/blob/master/labworks/Labwork1.ipynb\" target=\"_parent\"><img src=\"https://colab.research.google.com/assets/colab-badge.svg\" alt=\"Open In Colab\"/></a>"
      ]
    },
    {
      "cell_type": "markdown",
      "metadata": {
        "id": "fRrOetKsg-RC",
        "colab_type": "text"
      },
      "source": [
        "# Week 1 Workshop/Lab\n",
        "\n",
        "---\n",
        "\n"
      ]
    },
    {
      "cell_type": "markdown",
      "metadata": {
        "colab_type": "text",
        "id": "NFlCab3fJ3Gf"
      },
      "source": [
        "## Setup"
      ]
    },
    {
      "cell_type": "code",
      "metadata": {
        "colab_type": "code",
        "id": "XrUFzhpR7pOZ",
        "colab": {}
      },
      "source": [
        "import sys\n",
        "from pathlib import Path\n",
        "\n",
        "# Notebook Library\n",
        "url = \"https://github.com/Data-Science-and-Data-Analytics-Courses/Notebook-Library\"\n",
        "repo = Path(\"/nblib\")\n",
        "!git clone \"{url}\" \"{repo}\"\n",
        "if repo.parent.as_posix() not in sys.path:\n",
        "  sys.path.append(repo.parent.as_posix())\n",
        "%run \"{repo}/.Importable.ipynb\"\n",
        "\n",
        "from nblib.imports.Basic import *\n",
        "from nblib import Git\n",
        "\n",
        "# Remote\n",
        "URL = \"https://github.com/Data-Science-and-Data-Analytics-Courses/UniMelb-A-First-Course-In-Statistical-Learning-MAST90104_2019_SM2\"\n",
        "REPO = Git.clone(URL, dest=\"/content\")\n",
        "if REPO.as_posix() not in sys.path:\n",
        "  sys.path.append(REPO.as_posix())\n",
        "\n",
        "# Working directory\n",
        "os.chdir(REPO)\n",
        "\n",
        "from nblib.imports.DS import *\n",
        "from setup.Setup import *\n",
        "\n",
        "clear_output()"
      ],
      "execution_count": 0,
      "outputs": []
    },
    {
      "cell_type": "markdown",
      "metadata": {
        "id": "akzLE-xVaGn3",
        "colab_type": "text"
      },
      "source": [
        "## Workshop"
      ]
    },
    {
      "cell_type": "markdown",
      "metadata": {
        "id": "CuWVG-2GVy9z",
        "colab_type": "text"
      },
      "source": [
        "### Question\n",
        "Is  \n",
        "$$\n",
        "X = \\left[ \\begin{array} {rrrr}\n",
        "1 & 1 & −1 & −1 \\\\\n",
        "1 & −1 & 1 & −1 \\\\\n",
        "1 & −1 & −1 & 1 \\\\\n",
        "1 & 1 & 1 & 1 \\\\\n",
        "\\end{array} \\right]\n",
        "$$\n",
        "orthogonal? If not, what value of c makes the matrix cX orthogonal?  "
      ]
    },
    {
      "cell_type": "code",
      "metadata": {
        "id": "GysOZ0jSLU3O",
        "colab_type": "code",
        "outputId": "ca42bd37-3d02-4fc9-a43d-95a967a62abc",
        "colab": {
          "base_uri": "https://localhost:8080/",
          "height": 255
        }
      },
      "source": [
        "%%R\n",
        "\n",
        "print(\"X orthogonal?\")\n",
        "x <- matrix(c(1, 1, -1, -1, 1, -1, 1, -1, 1, -1, -1, 1, 1, 1, 1, 1), nrow = 4, ncol = 4, byrow = TRUE)\n",
        "xTx <- t(X) %*% X\n",
        "print(xTx)\n",
        "print(all(xTx == diag(4)))\n",
        "\n",
        "c <- 1/2\n",
        "cat(\"c = \", c, \"\\n\")\n",
        "y <- c * x\n",
        "yTy = t(y) %*% y\n",
        "print(yTy)\n",
        "print(all(yTy == diag(4)))"
      ],
      "execution_count": 0,
      "outputs": [
        {
          "output_type": "display_data",
          "data": {
            "text/plain": [
              "[1] \"X orthogonal?\"\n",
              "     [,1] [,2] [,3] [,4]\n",
              "[1,]    4    0    0    0\n",
              "[2,]    0    4    0    0\n",
              "[3,]    0    0    4    0\n",
              "[4,]    0    0    0    4\n",
              "[1] FALSE\n",
              "c =  0.5 \n",
              "     [,1] [,2] [,3] [,4]\n",
              "[1,]    1    0    0    0\n",
              "[2,]    0    1    0    0\n",
              "[3,]    0    0    1    0\n",
              "[4,]    0    0    0    1\n",
              "[1] TRUE\n"
            ]
          },
          "metadata": {
            "tags": []
          }
        }
      ]
    },
    {
      "cell_type": "markdown",
      "metadata": {
        "colab_type": "text",
        "id": "y6ruDfAPvxI-"
      },
      "source": [
        "### Question\n",
        "Show that if X is of full rank, then  \n",
        "I − X(XT X)\n",
        "−1XT  \n",
        "is an idempotent matrix.  \n",
        "\n",
        "$$\n",
        "\n",
        "$$\n"
      ]
    }
  ]
}