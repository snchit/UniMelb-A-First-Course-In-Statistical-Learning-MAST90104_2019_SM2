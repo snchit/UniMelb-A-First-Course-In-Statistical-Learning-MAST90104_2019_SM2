{
  "nbformat": 4,
  "nbformat_minor": 0,
  "metadata": {
    "colab": {
      "name": "VinhNguyen.ipynb",
      "provenance": [],
      "collapsed_sections": [],
      "include_colab_link": true
    },
    "kernelspec": {
      "name": "python3",
      "display_name": "Python 3"
    },
    "accelerator": "GPU"
  },
  "cells": [
    {
      "cell_type": "markdown",
      "metadata": {
        "id": "view-in-github",
        "colab_type": "text"
      },
      "source": [
        "<a href=\"https://colab.research.google.com/github/Data-Science-and-Data-Analytics-Courses/UniMelb-A-First-Course-In-Statistical-Learning-MAST90104_2019_SM2/blob/master/assignment4/VinhNguyen.ipynb\" target=\"_parent\"><img src=\"https://colab.research.google.com/assets/colab-badge.svg\" alt=\"Open In Colab\"/></a>"
      ]
    },
    {
      "cell_type": "markdown",
      "metadata": {
        "id": "fRrOetKsg-RC",
        "colab_type": "text"
      },
      "source": [
        "# Assignment 4\n",
        "*Name (ID)*: Vinh Nguyen (1029531)  \n",
        "*Workshop*: Friday 04:15 PM  \n",
        "\n",
        "---\n",
        "\n"
      ]
    },
    {
      "cell_type": "markdown",
      "metadata": {
        "id": "KMYsxDHwNN_b",
        "colab_type": "text"
      },
      "source": [
        "## References\n",
        "[Factoextra R Package: Easy Multivariate Data Analyses and Elegant Visualization](http://www.sthda.com/english/wiki/factoextra-r-package-easy-multivariate-data-analyses-and-elegant-visualization)  \n",
        "[Articles - Principal Component Methods in R: Practical Guide](http://www.sthda.com/english/articles/31-principal-component-methods-in-r-practical-guide/118-principal-component-analysis-in-r-prcomp-vs-princomp/)  \n",
        "[Plotting PCA (Principal Component Analysis)](https://cran.r-project.org/web/packages/ggfortify/vignettes/plot_pca.html)  \n",
        "[ggfortify : Extension to ggplot2 to handle some popular packages - R software and data visualization](http://www.sthda.com/english/wiki/ggfortify-extension-to-ggplot2-to-handle-some-popular-packages-r-software-and-data-visualization)\n"
      ]
    },
    {
      "cell_type": "markdown",
      "metadata": {
        "colab_type": "text",
        "id": "rTcU7l_3F1Rt"
      },
      "source": [
        "## Setup"
      ]
    },
    {
      "cell_type": "code",
      "metadata": {
        "colab_type": "code",
        "id": "ZaGM0LUoSXk-",
        "colab": {}
      },
      "source": [
        "import sys\n",
        "from pathlib import Path\n",
        "\n",
        "# Notebook Library\n",
        "url = \"https://github.com/Data-Science-and-Data-Analytics-Courses/Notebook-Library\"\n",
        "repo = Path(\"/nblib\")\n",
        "!git clone \"{url}\" \"{repo}\"\n",
        "if repo.parent.as_posix() not in sys.path:\n",
        "  sys.path.append(repo.parent.as_posix())\n",
        "%run \"{repo}/.Importable.ipynb\"\n",
        "\n",
        "from nblib.imports.Basic import *\n",
        "from nblib import Git\n",
        "\n",
        "# Remote\n",
        "URL = \"https://github.com/Data-Science-and-Data-Analytics-Courses/UniMelb-A-First-Course-In-Statistical-Learning-MAST90104_2019_SM2\"\n",
        "REPO = Git.clone(URL, dest=\"/content\")\n",
        "if REPO.as_posix() not in sys.path:\n",
        "  sys.path.append(REPO.as_posix())\n",
        "\n",
        "# Working directory\n",
        "os.chdir(REPO/\"assignment4\")\n",
        "\n",
        "from nblib.imports.RPy import *\n",
        "from setup.Setup import *\n",
        "\n",
        "clear_output()"
      ],
      "execution_count": 0,
      "outputs": []
    },
    {
      "cell_type": "code",
      "metadata": {
        "id": "887MTiPOJRZo",
        "colab_type": "code",
        "colab": {}
      },
      "source": [
        "%%R\n",
        "\n",
        "install.packages(c(\"ggfortify\", \"factoextra\")) # takes time\n",
        "\n",
        "library(MASS)\n",
        "library(nnet)\n",
        "library(cluster)\n",
        "library(factoextra)\n",
        "library(ggplot2)\n",
        "library(ggfortify)\n",
        "\n",
        "CONFLEV = 0.95 # confidence interval"
      ],
      "execution_count": 0,
      "outputs": []
    },
    {
      "cell_type": "markdown",
      "metadata": {
        "colab_type": "text",
        "id": "iucN_DemKj9O"
      },
      "source": [
        "## Problem 1\n",
        "1. College juniors (undergraduates) at US universities were asked if they were “unlikely”, “somewhat\n",
        "likely”, or “very likely” to apply to graduate school. Data on whether the parents have graduate\n",
        "education (pared), whether the undergraduate institution is public (public), and current GPA\n",
        "(gpa), were also collected.  \n"
      ]
    },
    {
      "cell_type": "code",
      "metadata": {
        "id": "1gVxc5fgY3Kg",
        "colab_type": "code",
        "outputId": "4b13cf25-ee3c-4383-db74-08a8bdac0820",
        "colab": {
          "base_uri": "https://localhost:8080/",
          "height": 272
        }
      },
      "source": [
        "%%R\n",
        "\n",
        "load(\"ologit.Rdata\")\n",
        "print(head(dat))\n",
        "\n",
        "print(ftable(xtabs(~ public + apply + pared, data = dat)))"
      ],
      "execution_count": 0,
      "outputs": [
        {
          "output_type": "display_data",
          "data": {
            "text/plain": [
              "            apply pared public  gpa\n",
              "1     very likely     0      0 3.26\n",
              "2 somewhat likely     1      0 3.21\n",
              "3        unlikely     1      1 3.94\n",
              "4 somewhat likely     0      0 2.81\n",
              "5 somewhat likely     0      0 2.53\n",
              "6        unlikely     0      1 2.59\n",
              "                       pared   0   1\n",
              "public apply                        \n",
              "0      unlikely              175  14\n",
              "       somewhat likely        98  26\n",
              "       very likely            20  10\n",
              "1      unlikely               25   6\n",
              "       somewhat likely        12   4\n",
              "       very likely             7   3\n"
            ]
          },
          "metadata": {
            "tags": []
          }
        }
      ]
    },
    {
      "cell_type": "markdown",
      "metadata": {
        "id": "oNuej0-oZAbL",
        "colab_type": "text"
      },
      "source": [
        "(a) Fit a multinomial model to predict the probabilities for graduate application by category,\n",
        "“unlikely”, “somewhat likely”, or “very likely”.  \n"
      ]
    },
    {
      "cell_type": "code",
      "metadata": {
        "id": "619TKePQZWC6",
        "colab_type": "code",
        "outputId": "34dc17d9-1a5d-4738-88b6-637ce6dc3ee2",
        "colab": {
          "base_uri": "https://localhost:8080/",
          "height": 1000
        }
      },
      "source": [
        "%%R\n",
        "\n",
        "# Categorical model with AIC step-wise selection\n",
        "model.full <- multinom(apply ~ pared * public * gpa, data = dat) # full interactive\n",
        "model.cat <- stepAIC(model.full, direction = \"both\", trace = FALSE) # simplified\n",
        "print(summary(model.cat))\n",
        "\n",
        "# Compare simplified to full interactive\n",
        "av <- anova(model.cat, model.full)\n",
        "print(av)\n",
        "pval <- av[2, \"Pr(Chi)\"]\n",
        "sprintf(\"Reject Null (similar models) at %s confidence level? %s\", CONFLEV, pval < 1 - CONFLEV)"
      ],
      "execution_count": 0,
      "outputs": [
        {
          "output_type": "display_data",
          "data": {
            "text/plain": [
              "# weights:  27 (16 variable)\n",
              "initial  value 439.444915 \n",
              "iter  10 value 356.729468\n",
              "iter  20 value 350.788487\n",
              "iter  30 value 350.601860\n",
              "iter  40 value 350.590868\n",
              "iter  50 value 350.583458\n",
              "iter  60 value 350.582596\n",
              "final  value 350.582408 \n",
              "converged\n",
              "# weights:  24 (14 variable)\n",
              "initial  value 439.444915 \n",
              "iter  10 value 352.518781\n",
              "iter  20 value 351.033095\n",
              "iter  30 value 351.031368\n",
              "iter  30 value 351.031368\n",
              "final  value 351.031368 \n",
              "converged\n",
              "# weights:  24 (14 variable)\n",
              "initial  value 439.444915 \n",
              "iter  10 value 352.518781\n",
              "iter  20 value 351.033095\n",
              "iter  30 value 351.031368\n",
              "iter  30 value 351.031368\n",
              "final  value 351.031368 \n",
              "converged\n",
              "# weights:  21 (12 variable)\n",
              "initial  value 439.444915 \n",
              "iter  10 value 353.710062\n",
              "iter  20 value 352.220325\n",
              "final  value 352.218611 \n",
              "converged\n",
              "# weights:  21 (12 variable)\n",
              "initial  value 439.444915 \n",
              "iter  10 value 355.635036\n",
              "iter  20 value 354.982611\n",
              "final  value 354.982547 \n",
              "converged\n",
              "# weights:  21 (12 variable)\n",
              "initial  value 439.444915 \n",
              "iter  10 value 352.762475\n",
              "iter  20 value 352.000062\n",
              "final  value 351.999744 \n",
              "converged\n",
              "# weights:  27 (16 variable)\n",
              "initial  value 439.444915 \n",
              "iter  10 value 356.729468\n",
              "iter  20 value 350.788487\n",
              "iter  30 value 350.601860\n",
              "iter  40 value 350.590868\n",
              "iter  50 value 350.583458\n",
              "iter  60 value 350.582596\n",
              "final  value 350.582408 \n",
              "converged\n",
              "# weights:  21 (12 variable)\n",
              "initial  value 439.444915 \n",
              "iter  10 value 352.762475\n",
              "iter  20 value 352.000062\n",
              "final  value 351.999744 \n",
              "converged\n",
              "# weights:  18 (10 variable)\n",
              "initial  value 439.444915 \n",
              "iter  10 value 354.101438\n",
              "iter  20 value 353.441487\n",
              "final  value 353.441474 \n",
              "converged\n",
              "# weights:  18 (10 variable)\n",
              "initial  value 439.444915 \n",
              "iter  10 value 355.913353\n",
              "final  value 355.865699 \n",
              "converged\n",
              "# weights:  24 (14 variable)\n",
              "initial  value 439.444915 \n",
              "iter  10 value 352.518781\n",
              "iter  20 value 351.033095\n",
              "iter  30 value 351.031368\n",
              "iter  30 value 351.031368\n",
              "final  value 351.031368 \n",
              "converged\n",
              "# weights:  18 (10 variable)\n",
              "initial  value 439.444915 \n",
              "iter  10 value 354.101438\n",
              "iter  20 value 353.441487\n",
              "final  value 353.441474 \n",
              "converged\n",
              "# weights:  15 (8 variable)\n",
              "initial  value 439.444915 \n",
              "iter  10 value 354.812899\n",
              "final  value 354.741801 \n",
              "converged\n",
              "# weights:  15 (8 variable)\n",
              "initial  value 439.444915 \n",
              "iter  10 value 357.012275\n",
              "final  value 356.996982 \n",
              "converged\n",
              "# weights:  21 (12 variable)\n",
              "initial  value 439.444915 \n",
              "iter  10 value 352.762475\n",
              "iter  20 value 352.000062\n",
              "final  value 351.999744 \n",
              "converged\n",
              "# weights:  21 (12 variable)\n",
              "initial  value 439.444915 \n",
              "iter  10 value 353.710062\n",
              "iter  20 value 352.220325\n",
              "final  value 352.218611 \n",
              "converged\n",
              "# weights:  15 (8 variable)\n",
              "initial  value 439.444915 \n",
              "iter  10 value 354.812899\n",
              "final  value 354.741801 \n",
              "converged\n",
              "# weights:  12 (6 variable)\n",
              "initial  value 439.444915 \n",
              "iter  10 value 358.535353\n",
              "final  value 358.535259 \n",
              "converged\n",
              "# weights:  18 (10 variable)\n",
              "initial  value 439.444915 \n",
              "iter  10 value 354.101438\n",
              "iter  20 value 353.441487\n",
              "final  value 353.441474 \n",
              "converged\n",
              "Call:\n",
              "multinom(formula = apply ~ pared + gpa + pared:gpa, data = dat)\n",
              "\n",
              "Coefficients:\n",
              "                (Intercept)     pared       gpa pared:gpa\n",
              "somewhat likely   -2.470841  5.780411 0.6293256 -1.559901\n",
              "very likely       -3.804172 -3.033925 0.6057269  1.332739\n",
              "\n",
              "Std. Errors:\n",
              "                (Intercept)    pared       gpa pared:gpa\n",
              "somewhat likely   0.9319653 2.644279 0.3091534 0.8425412\n",
              "very likely       1.6081085 4.122495 0.5300470 1.2495708\n",
              "\n",
              "Residual Deviance: 709.4836 \n",
              "AIC: 725.4836 \n",
              "Likelihood ratio tests of Multinomial Models\n",
              "\n",
              "Response: apply\n",
              "                    Model Resid. df Resid. Dev   Test    Df LR stat.   Pr(Chi)\n",
              "1 pared + gpa + pared:gpa       792   709.4836                                \n",
              "2    pared * public * gpa       784   701.1648 1 vs 2     8 8.318787 0.4029658\n",
              "[1] \"Reject Null (similar models) at 0.95 confidence level? FALSE\"\n"
            ]
          },
          "metadata": {
            "tags": []
          }
        }
      ]
    },
    {
      "cell_type": "markdown",
      "metadata": {
        "id": "23vGJwbqq1qv",
        "colab_type": "text"
      },
      "source": [
        "The simplified model stands the Likelihood Ratio test, suggesting that it may be a valid model.  \n"
      ]
    },
    {
      "cell_type": "markdown",
      "metadata": {
        "id": "xdu1uHv-c6zD",
        "colab_type": "text"
      },
      "source": [
        "(b) Repeat the analysis with an ordinal model. Comment on any differences.  \n"
      ]
    },
    {
      "cell_type": "code",
      "metadata": {
        "id": "WWvuhoNRb9Oy",
        "colab_type": "code",
        "outputId": "cc737230-7dc2-4b9f-982a-9a683091afb7",
        "colab": {
          "base_uri": "https://localhost:8080/",
          "height": 391
        }
      },
      "source": [
        "%%R\n",
        "\n",
        "# Ordinal model with AIC step-wise selection\n",
        "model.full <- polr(apply ~ pared * public * gpa, data = dat, Hess=TRUE) # full interactive\n",
        "model.ord <- stepAIC(model.full, direction = \"both\", trace = FALSE) # simplified\n",
        "print(summary(model.ord))\n",
        "\n",
        "# Compare simplified to full interactive\n",
        "av <- anova(model.ord, model.full)\n",
        "print(av)\n",
        "pval <- av[2, \"Pr(Chi)\"]\n",
        "sprintf(\"Reject Null (similar models) at %s confidence level? %s\", CONFLEV, pval < 1 - CONFLEV)"
      ],
      "execution_count": 0,
      "outputs": [
        {
          "output_type": "display_data",
          "data": {
            "text/plain": [
              "Call:\n",
              "polr(formula = apply ~ pared + gpa, data = dat, Hess = TRUE)\n",
              "\n",
              "Coefficients:\n",
              "       Value Std. Error t value\n",
              "pared 1.0457     0.2656   3.937\n",
              "gpa   0.6042     0.2539   2.379\n",
              "\n",
              "Intercepts:\n",
              "                            Value  Std. Error t value\n",
              "unlikely|somewhat likely    2.1763 0.7671     2.8370 \n",
              "somewhat likely|very likely 4.2716 0.7922     5.3924 \n",
              "\n",
              "Residual Deviance: 717.0638 \n",
              "AIC: 725.0638 \n",
              "Likelihood ratio tests of ordinal regression models\n",
              "\n",
              "Response: apply\n",
              "                 Model Resid. df Resid. Dev   Test    Df LR stat.   Pr(Chi)\n",
              "1          pared + gpa       396   717.0638                                \n",
              "2 pared * public * gpa       391   714.3552 1 vs 2     5 2.708574 0.7448068\n",
              "[1] \"Reject Null (similar models) at 0.95 confidence level? FALSE\"\n"
            ]
          },
          "metadata": {
            "tags": []
          }
        }
      ]
    },
    {
      "cell_type": "markdown",
      "metadata": {
        "colab_type": "text",
        "id": "YTcaX746tMBl"
      },
      "source": [
        "The simplified model stands the Likelihood Ratio test, suggesting that it may be a valid model.  \n",
        "The ordinal model differs mainly from the categorical model in that the ordinal model does not include the interaction term between parents education and GPA (*pared:gpa*). That is, the ordinal model is simpler than the categorical model. Additionally, the fact that the p-value of the Likelihood Ratio test of the ordinal model is much higher than that of categorical model (0.7 vs 0.4) indicates that the former tends to better fit the data than the latter, when compared to their corresponding full forms. Furthermore, the ordinal model seems to better agree with the common sense when it treats the responses (*apply*) as having a defined order. The results of these preliminary analyses seem to indicate that the ordinal model may appear to outweigh the categorical model.  \n"
      ]
    },
    {
      "cell_type": "markdown",
      "metadata": {
        "id": "Ng1XSAG40UZB",
        "colab_type": "text"
      },
      "source": [
        "(c) Under the ordinal model, what is the fitted probability that a student whose parents have\n",
        "graduate degrees and who went to a public university, with a gpa of 3.0, is very likely to\n",
        "undertake graduate study?  \n"
      ]
    },
    {
      "cell_type": "code",
      "metadata": {
        "id": "moEL2jUNoSQ6",
        "colab_type": "code",
        "outputId": "dad67cf1-f035-4266-8a53-40278a09aa92",
        "colab": {
          "base_uri": "https://localhost:8080/",
          "height": 51
        }
      },
      "source": [
        "%%R\n",
        "\n",
        "newdata <- data.frame(pared=1, gpa=3.0)\n",
        "pred <- predict(model.ord, newdata = newdata, type=\"probs\")\n",
        "print(pred[\"very likely\"])"
      ],
      "execution_count": 0,
      "outputs": [
        {
          "output_type": "display_data",
          "data": {
            "text/plain": [
              "very likely \n",
              "  0.1957398 \n"
            ]
          },
          "metadata": {
            "tags": []
          }
        }
      ]
    },
    {
      "cell_type": "markdown",
      "metadata": {
        "id": "9bu00oZ9JY2g",
        "colab_type": "text"
      },
      "source": [
        "## Problem 2\n",
        "The t(3) distribution has pdf p(x) = √\n",
        "2\n",
        "3π\n",
        "\u0010\n",
        "1 + x\n",
        "2\n",
        "3\n",
        "\u0011−2\n",
        ", −∞ < x < ∞, and the Cauchy(\n",
        "√\n",
        "3, 0)\n",
        "distribution has pdf g(y) = √\n",
        "1\n",
        "3π\n",
        "\u0010\n",
        "1 + y\n",
        "2\n",
        "3\n",
        "\u0011−1\n",
        ", −∞ < y < ∞.  \n"
      ]
    },
    {
      "cell_type": "markdown",
      "metadata": {
        "id": "0GfglPouJvkP",
        "colab_type": "text"
      },
      "source": [
        "(a) Suppose U\n",
        "d= U(0, 1), and Y =\n",
        "√\n",
        "3 tan(π(U −\n",
        "1\n",
        "2\n",
        ")). Show that Y\n",
        "d= Cauchy(\n",
        "√\n",
        "3, 0).  \n",
        "\n",
        "CDF of $Y \\sim \\text{Cauchy}(\\text{location}=0, \\text{scale}=\\sqrt{3})$:\n",
        "$$\n",
        "\\begin{align}\n",
        "F_Y(y) = \\frac{1}{\\pi} \\text{arctan}\\left(\\frac{y}{\\sqrt{3}}\\right) + \\frac{1}{2} \\\\\n",
        "\\end{align}\n",
        "$$\n",
        "\n",
        "Inverse of $F_Y(y)$:\n",
        "$$\n",
        "\\begin{align}\n",
        "\\text{arctan}\\left(\\frac{y}{\\sqrt{3}}\\right) &= \\pi \\left(F_Y(y) - \\frac{1}{2}\\right) \\\\\n",
        "\\frac{y}{\\sqrt{3}} &= \\text{tan} \\left( \\pi \\left(F_Y(y) - \\frac{1}{2}\\right)\\right) \\\\\n",
        "y &= \\sqrt{3} \\text{tan} \\left( \\pi \\left(F_Y(y) - \\frac{1}{2}\\right)\\right) \\\\\n",
        "\\Rightarrow F_Y^{-1}(u) &= \\sqrt{3} \\text{tan} \\left( \\pi \\left(u - \\frac{1}{2}\\right)\\right) \\\\\n",
        "\\end{align}\n",
        "$$\n",
        "\n",
        "Hence, $Y = \\sqrt{3} \\text{tan} \\left( \\pi \\left(u - \\frac{1}{2}\\right)\\right) \\sim \\text{Cauchy}(\\text{location}=0, \\text{scale}=\\sqrt{3})$\n"
      ]
    },
    {
      "cell_type": "markdown",
      "metadata": {
        "id": "NoKqqkbDxket",
        "colab_type": "text"
      },
      "source": [
        "(b) Construct an Acceptance-Rejection (A-R) sampling algorithm (or a mixture of A-R and transformation algorithm) for generating random numbers from t(3) by using the result of (a).  \n",
        "\n",
        "Let us assume that $T \\sim t(3)$ and $Y \\sim \\text{Cauchy}(\\text{location}=0, \\text{scale}=\\sqrt{3})$ are close enough to each other so that the ratio of their distributions $f_T(x)/f_Y(x)$ is bounded by a constant $c > 0$.  \n",
        "$$\n",
        "\\begin{align}\n",
        "\\frac{f_T(x)}{f_Y(x)} &= \\frac{\\frac{2}{\\sqrt{3}\\pi}\\left(1 + \\frac{x^2}{3}\\right)^{-2}}{\\frac{1}{\\sqrt{3}\\pi}\\left(1 + \\frac{x^2}{3}\\right)^{-1}} \\\\\n",
        "&= 2 \\left(1 + \\frac{x^2}{3}\\right)^{-1} \\\\\n",
        "&\\leq 2 \\left(1 + \\frac{0}{3}\\right)^{-1} & (x^2 = 0) \\\\\n",
        "&\\leq 2 \\\\\n",
        "\\Rightarrow c &= 2 \\\\\n",
        "\\end{align}\n",
        "$$\n",
        "\n",
        "Acceptance-Rejection algorithm for generating $T$ distributed as $t(3)$:  \n",
        "1. Generate $U' \\sim \\text{Uniform}(0, 1)$, then set $Y = \\sqrt{3} \\text{tan} \\left( \\pi \\left(U' - \\frac{1}{2}\\right)\\right)$ $\\Rightarrow$ $Y$ distributed as $\\text{Cauchy}(0, \\sqrt{3})$  \n",
        "2. Generate another uniform $U \\sim \\text{Uniform}(0, 1)$.  \n",
        "3. If $U ≤ \\frac{f_T(Y)}{cf_Y(Y)}$, then set T = Y (“accept”) ; otherwise go back to 1 (“reject”).  \n"
      ]
    },
    {
      "cell_type": "markdown",
      "metadata": {
        "id": "sE5agc0J8Jt4",
        "colab_type": "text"
      },
      "source": [
        "(c) Write an R function to implement (b). Then use it to generate a sample of 1000 numbers\n",
        "from t(3), and compare the sample pdf curve with the actual t(3) curve.  \n",
        "\n",
        "According to the graph below, the generated samples are close to the actual t(3) distribution.  \n"
      ]
    },
    {
      "cell_type": "code",
      "metadata": {
        "id": "RDk34fYNoVRL",
        "colab_type": "code",
        "outputId": "f61accbc-381f-4eed-d7e8-89f3000db038",
        "colab": {
          "base_uri": "https://localhost:8080/",
          "height": 497
        }
      },
      "source": [
        "%%R\n",
        "\n",
        "pt3 <- function(x) {\n",
        "  # Calculate theoretical pdf of t(3)\n",
        "    \n",
        "  2 / (sqrt(3) * pi) * (1 + x^2/3)^(-2)\n",
        "}\n",
        "\n",
        "c = 2\n",
        "rt3 <- function() {\n",
        "  # Simulate t(3) using acceptance-rejection method\n",
        "  success <- FALSE\n",
        "  while (!success) {\n",
        "    # Cauchy distribution\n",
        "    uc <- runif(1, min = 0, max = 1)\n",
        "    y <- sqrt(3) * tan(pi * (uc - 1/2))\n",
        "      \n",
        "    # Uniform distribution\n",
        "    u <- runif(1, min = 0, max = 1)\n",
        "    \n",
        "    # Accept/Reject\n",
        "    if (u <= 1/c * 2 * (1 + y^2/3)^(-1)) {\n",
        "        return(y)\n",
        "    }\n",
        "  }\n",
        "}\n",
        "\n",
        "# Compare the sample pdf curve with the actual t(3) curve \n",
        "set.seed(1)\n",
        "n <- 1000\n",
        "t3.sim <- replicate(n, rt3()) # random t(3) by acceptance-rejection method\n",
        "hist(t3.sim, breaks=40, freq=F, xlab=\"t\", ylab=\"pdf f(t)\", \n",
        "     main=\"theoretical and simulated t(3) density\") # simulated pdf\n",
        "t <- seq(min(t3.sim), max(t3.sim), .1)\n",
        "lines(t, pt3(t)) # theoretical pdf"
      ],
      "execution_count": 0,
      "outputs": [
        {
          "output_type": "display_data",
          "data": {
            "image/png": "[encoded data removed]"
          },
          "metadata": {
            "tags": []
          }
        }
      ]
    },
    {
      "cell_type": "markdown",
      "metadata": {
        "id": "j3PUEI7G8DQj",
        "colab_type": "text"
      },
      "source": [
        "## Problem 3\n",
        "The Dirichlet distribution is a multivariate generalisation of the beta distribution. It takes values\n",
        "in {x = (x1, . . . , xd) : xi ∈ [0, 1],\n",
        "P\n",
        "i\n",
        "xi = 1}, and, for α = (α1, . . . , αd) ∈ R\n",
        "d\n",
        "+, has density\n",
        "f(x) = 1\n",
        "B(α)\n",
        "Y\n",
        "d\n",
        "i=1\n",
        "x\n",
        "αi−1\n",
        "i\n",
        ", where B(α) =\n",
        "Q\n",
        "i Γ(αi)\n",
        "Γ (P\n",
        "i αi)\n",
        ".  \n",
        "\n",
        "\n"
      ]
    },
    {
      "cell_type": "markdown",
      "metadata": {
        "id": "va3ESmVs8O8l",
        "colab_type": "text"
      },
      "source": [
        "(a) Prove that if X = (X1, . . . , Xd) has a Dirichlet distribution with parameter α (we write\n",
        "X ∼ Dir(α)), then EXi = αi/\n",
        "P\n",
        "i αi\n",
        ". Hint: R\n",
        "· · · R\n",
        "f(x)dx1 · · · dxd = 1.  \n",
        "\n",
        "Calculate $EX_1$:  \n",
        "$$\n",
        "\\begin{align}\n",
        "EX_1 &= \\int \\dots \\int x_1 f(x) dx & (dx = dx_1 \\dots dx_d) \\\\\n",
        "&= \\int \\dots \\int x_1 \\frac{\\Gamma(A)}{\\prod_{i} \\Gamma(\\alpha_i)} \\prod_{i} x_i^{\\alpha_i-1} dx & \\left(A = \\sum_{i} \\alpha_i\\right) \\\\\n",
        "&= \\int \\dots \\int \\frac{\\Gamma(A)}{\\prod_{i} \\Gamma(\\alpha_i)} x_1^{(\\alpha_1 + 1) - 1} \\prod_{i \\neq 1} x_i^{\\alpha_i-1} dx \\\\\n",
        "&= \\int \\dots \\int \\frac{\\Gamma(A)}{\\prod_{i} \\Gamma(\\alpha_i)} \\prod_{i} x_i^{\\alpha'_i-1} dx & (\\alpha'_i = \\alpha_i \\text{ for } i \\neq 1; \\alpha'_i = \\alpha_i + 1 \\text{ otherwise}) \\\\\n",
        "&= \\int \\dots \\int \\frac{\\Gamma(A)}{\\prod_{i} \\Gamma(\\alpha_i)} \\frac{\\prod_{i} \\Gamma(\\alpha'_i)}{\\Gamma(A')} \\frac{\\Gamma(A')}{\\prod_{i} \\Gamma(\\alpha'_i)} \\prod_{i} x_i^{\\alpha'_i-1} dx & \\left(A' = \\sum_{i} \\alpha'_i\\right) \\\\\n",
        "&= \\frac{\\Gamma(A)}{\\prod_{i} \\Gamma(\\alpha_i)} \\frac{\\prod_{i} \\Gamma(\\alpha'_i)}{\\Gamma(A')} \\int \\dots \\int \\frac{\\Gamma(A')}{\\prod_{i} \\Gamma(\\alpha'_i)} \\prod_{i} x_i^{\\alpha'_i-1} dx \\\\\n",
        "&= \\frac{\\Gamma(A)}{\\prod_{i} \\Gamma(\\alpha_i)} \\frac{\\prod_{i} \\Gamma(\\alpha'_i)}{\\Gamma(A')} \\int \\dots \\int f'(x) dx & \\left(f'(x) \\text{ PDF of } \\text{Dir}\\left(\\alpha' = \\left(\\alpha'_1, \\dots, \\alpha'_d\\right)\\right)\\right) \\\\\n",
        "&= \\frac{\\Gamma(A)}{\\prod_{i} \\Gamma(\\alpha_i)} \\frac{\\prod_{i} \\Gamma(\\alpha'_i)}{\\Gamma(A')} & \\left(\\int \\dots \\int f'(x) dx = 1\\right) \\\\\n",
        "&= \\frac{\\Gamma(A)}{\\Gamma(A')} \\frac{\\prod_{i} \\Gamma(\\alpha'_i)}{\\prod_{i} \\Gamma(\\alpha_i)} & \\left(\\Gamma(\\alpha'_i) = \\Gamma(\\alpha_i) \\text{ for } i \\neq 1\\right) \\\\\n",
        "&= \\frac{\\Gamma(A)}{\\Gamma(A + 1)} \\frac{\\Gamma(\\alpha'_1)}{\\Gamma(\\alpha_1)} \\\\\n",
        "&= \\frac{\\Gamma(A)}{\\Gamma(A + 1)} \\frac{\\Gamma(\\alpha_1 + 1)}{\\Gamma(\\alpha_1)} \\\\\n",
        "&= \\frac{\\alpha_1}{A} & \\left(\\Gamma(z + 1) = z\\Gamma(z)\\right) \\\\\n",
        "\\end{align}\n",
        "$$\n",
        "\n",
        "Without loss of generality, the steps above can be applied to calculate any $EX_i$:  \n",
        "$$\n",
        "\\begin{align}\n",
        "EX_i &= \\frac{\\alpha_i}{A} = \\frac{\\alpha_i}{\\sum_{i} \\alpha_i} \\\\\n",
        "\\end{align}\n",
        "$$\n",
        "as required.  \n"
      ]
    },
    {
      "cell_type": "markdown",
      "metadata": {
        "id": "yEfourGaLXPX",
        "colab_type": "text"
      },
      "source": [
        "(b) Show that the Dirichlet distribution is the conjugate prior for the multinomial. That is, if\n",
        "p ∼ Dir(α) and X|p ∼ multinomial(n, p), then p|{X = x} ∼ Dir(β), where β depends on α\n",
        "and x.  \n",
        "\n",
        "PDF of prior Dirichlet is proportional to:  \n",
        "$$\n",
        "\\begin{align}\n",
        "\\prod_{i} p_i^{\\alpha_i-1} \\\\\n",
        "\\end{align}\n",
        "$$\n",
        "\n",
        "PMF of conditional Multinomial is proportional to:  \n",
        "$$\n",
        "\\begin{align}\n",
        "\\prod_{i} p_i^{x_i} \\\\\n",
        "\\end{align}\n",
        "$$\n",
        "\n",
        "According to Bayes' rule, PDF of posterior is proportional to:  \n",
        "$$\n",
        "\\begin{align}\n",
        "\\prod_{i} p_i^{\\alpha_i-1} \\prod_{i} p_i^{x_i} = \\prod_{i} p_i^{\\alpha_i + x_i -1} \\\\\n",
        "\\end{align}\n",
        "$$\n",
        "which is also proportional to PDF of $\\text{Dirichlet}(\\alpha+x)$.  \n",
        "Thus, Dirichlet distribution is the conjugate prior for the multinomial.  \n"
      ]
    },
    {
      "cell_type": "markdown",
      "metadata": {
        "id": "ldOVECoOV5Z3",
        "colab_type": "text"
      },
      "source": [
        "(c) In 2003 Briggs, Ades and Price reported on a trial for the treatment of asthma. Patients\n",
        "received one of two treatments (seretide or fluticasone), and their status was monitored from\n",
        "week to week. Possible states were  \n",
        "STW Successfully treated week  \n",
        "UTW Unsuccessfully treated week  \n",
        "HEX Hospital managed exacerbation  \n",
        "PEX Primary-care managed exacerbation  \n",
        "TF Treatment failure (treatment ceased and patient removed from the trial)  \n",
        "For patients on seretide, the number of transitions from one state to another were  \n",
        "To\n",
        "STW UTW HEX PEX TF  \n",
        "From Total  \n",
        "STW 210 60 0 1 1 272  \n",
        "UTW 88 641 0 4 13 746  \n",
        "HEX 0 0 0 0 0 0  \n",
        "PEX 1 0 0 0 1 2  \n",
        "TF 0 0 0 0 81 81  \n",
        "The rows of this table can be considered as observations from independent multinomial random\n",
        "variables. Using Dir(1,. . . ,1) priors, give Bayesian estimates (posterior means) for  \n",
        "pij = P( state changes from i to j )  \n",
        "for i = STW, . . . , PEX and j = STW, . . . , TF.  \n",
        "What prior would be appropriate for the transitions from state TF?  \n",
        "\n",
        "Since Dirichlet is conjugate prior to Multinomial, the posterior is also Dirichlet, with parameters:  \n",
        "> From STW: $\\alpha = (211, 61, 1, 2, 2)$  \n",
        "> From UTW: $\\alpha = (89, 642, 1, 5, 14)$  \n",
        "> From HEX: $\\alpha = (1, 1, 1, 1, 1)$  \n",
        "> From PEX: $\\alpha = (2, 1, 1, 1, 2)$  \n",
        "\n",
        "Hence, posterior means are:  \n",
        "> From STW: $Ep = [211, 61, 1, 2, 2] / 277$  \n",
        "> From UTW: $Ep = [89, 642, 1, 5, 14] / 751$  \n",
        "> From HEX: $Ep = [1, 1, 1, 1, 1] / 5$  \n",
        "> From PEX: $Ep = [2, 1, 1, 1, 2] / 7$  \n"
      ]
    },
    {
      "cell_type": "code",
      "metadata": {
        "id": "xkJLNsgtCBj0",
        "colab_type": "code",
        "outputId": "2f670e50-c745-456e-c353-54713b2b2794",
        "colab": {
          "base_uri": "https://localhost:8080/",
          "height": 119
        }
      },
      "source": [
        "%%R\n",
        "\n",
        "print(\"Posterior means\")\n",
        "alpha <- matrix(c(211,61,1,2,2,\n",
        "                  89,642,1,5,14,\n",
        "                  1,1,1,1,1,\n",
        "                  2,1,1,1,2), nrow=4, byrow=TRUE)\n",
        "print(alpha / rowSums(alpha))"
      ],
      "execution_count": 0,
      "outputs": [
        {
          "output_type": "display_data",
          "data": {
            "text/plain": [
              "[1] \"Posterior means\"\n",
              "          [,1]      [,2]        [,3]        [,4]        [,5]\n",
              "[1,] 0.7617329 0.2202166 0.003610108 0.007220217 0.007220217\n",
              "[2,] 0.1185087 0.8548602 0.001331558 0.006657790 0.018641811\n",
              "[3,] 0.2000000 0.2000000 0.200000000 0.200000000 0.200000000\n",
              "[4,] 0.2857143 0.1428571 0.142857143 0.142857143 0.285714286\n"
            ]
          },
          "metadata": {
            "tags": []
          }
        }
      ]
    },
    {
      "cell_type": "markdown",
      "metadata": {
        "id": "n3aUwnU3l8RP",
        "colab_type": "text"
      },
      "source": [
        "For the transitions from state TF, there is no possibilities other than to state TF. Thus, the prior should be such that $p_{\\text{TF}-j} = 0 \\text{ for } j \\neq \\text{TF} \\text{ and } p_{\\text{TF-TF}} = 1$. That is, the prior follows $\\text{MVN}(\\mu=[0, 0, 0, 0, 1], \\Sigma=0)$  \n"
      ]
    },
    {
      "cell_type": "markdown",
      "metadata": {
        "id": "wmDv6wClrbSD",
        "colab_type": "text"
      },
      "source": [
        "## Problem 4\n",
        "There is a famous data set from RA Fisher’s 1936 paper on The use of multiple measurements in\n",
        "taxonomic problems which consists of 50 samples from each of three species of Iris (Iris setosa, Iris\n",
        "virginica and Iris versicolor). Four features were measured from each sample: the length and the\n",
        "width of the sepals and petals, in centimetres.  \n",
        "The data is available in R in the data set iris.  \n",
        "Perform a principal components and cluster analysis on the four variables using the R commands\n",
        "prcomp and kmeans. Use two separate methods to determine the number of clusters.  \n",
        "Use the ggplot2 and ggfortify libraries to do plots of the first two principal components that\n",
        "indicate where the directions of the original variables and the positions of the cluster means.  \n",
        "Comment on your results.  \n"
      ]
    },
    {
      "cell_type": "code",
      "metadata": {
        "id": "Ix5U0d89gUCS",
        "colab_type": "code",
        "outputId": "41557971-7867-4d4b-b047-efd10d7bbd03",
        "colab": {
          "base_uri": "https://localhost:8080/",
          "height": 136
        }
      },
      "source": [
        "%%R\n",
        "\n",
        "# Data\n",
        "print(str(iris))\n",
        "\n",
        "# Separate measurements and species\n",
        "measures <- subset(iris, select=-Species)\n",
        "measures.std <- scale(measures) # standardized\n",
        "species <- iris[, \"Species\"]"
      ],
      "execution_count": 0,
      "outputs": [
        {
          "output_type": "display_data",
          "data": {
            "text/plain": [
              "'data.frame':\t150 obs. of  5 variables:\n",
              " $ Sepal.Length: num  5.1 4.9 4.7 4.6 5 5.4 4.6 5 4.4 4.9 ...\n",
              " $ Sepal.Width : num  3.5 3 3.2 3.1 3.6 3.9 3.4 3.4 2.9 3.1 ...\n",
              " $ Petal.Length: num  1.4 1.4 1.3 1.5 1.4 1.7 1.4 1.5 1.4 1.5 ...\n",
              " $ Petal.Width : num  0.2 0.2 0.2 0.2 0.2 0.4 0.3 0.2 0.2 0.1 ...\n",
              " $ Species     : Factor w/ 3 levels \"setosa\",\"versicolor\",..: 1 1 1 1 1 1 1 1 1 1 ...\n",
              "NULL\n"
            ]
          },
          "metadata": {
            "tags": []
          }
        }
      ]
    },
    {
      "cell_type": "markdown",
      "metadata": {
        "id": "HmZAgrK45wnv",
        "colab_type": "text"
      },
      "source": [
        "### Principal Component Analysis"
      ]
    },
    {
      "cell_type": "code",
      "metadata": {
        "colab_type": "code",
        "outputId": "695e99e0-2aba-4bf3-8557-00aad4f87818",
        "id": "8zgaumTBnh7z",
        "colab": {
          "base_uri": "https://localhost:8080/",
          "height": 582
        }
      },
      "source": [
        "%%R\n",
        "\n",
        "pca <- prcomp(measures.std, scale=TRUE)\n",
        "\n",
        "# Importance of components\n",
        "print(summary(pca))\n",
        "print(fviz_eig(pca, addlabels=TRUE))"
      ],
      "execution_count": 0,
      "outputs": [
        {
          "output_type": "display_data",
          "data": {
            "text/plain": [
              "Importance of components:\n",
              "                          PC1    PC2     PC3     PC4\n",
              "Standard deviation     1.7084 0.9560 0.38309 0.14393\n",
              "Proportion of Variance 0.7296 0.2285 0.03669 0.00518\n",
              "Cumulative Proportion  0.7296 0.9581 0.99482 1.00000\n"
            ]
          },
          "metadata": {
            "tags": []
          }
        },
        {
          "output_type": "display_data",
          "data": {
            "image/png": "[encoded data removed]"
          },
          "metadata": {
            "tags": []
          }
        }
      ]
    },
    {
      "cell_type": "code",
      "metadata": {
        "colab_type": "code",
        "outputId": "bd2d862b-590b-4445-bc29-0472c0759198",
        "id": "pc49XkWQn2_n",
        "colab": {
          "base_uri": "https://localhost:8080/",
          "height": 1000
        }
      },
      "source": [
        "%%R\n",
        "\n",
        "# Contribution of variables\n",
        "print(pca)\n",
        "print(fviz_contrib(pca, choic=\"var\", axes=1, top=10))\n",
        "print(fviz_contrib(pca, choic=\"var\", axes=2, top=10))"
      ],
      "execution_count": 0,
      "outputs": [
        {
          "output_type": "display_data",
          "data": {
            "text/plain": [
              "Standard deviations (1, .., p=4):\n",
              "[1] 1.7083611 0.9560494 0.3830886 0.1439265\n",
              "\n",
              "Rotation (n x k) = (4 x 4):\n",
              "                    PC1         PC2        PC3        PC4\n",
              "Sepal.Length  0.5210659 -0.37741762  0.7195664  0.2612863\n",
              "Sepal.Width  -0.2693474 -0.92329566 -0.2443818 -0.1235096\n",
              "Petal.Length  0.5804131 -0.02449161 -0.1421264 -0.8014492\n",
              "Petal.Width   0.5648565 -0.06694199 -0.6342727  0.5235971\n"
            ]
          },
          "metadata": {
            "tags": []
          }
        },
        {
          "output_type": "display_data",
          "data": {
            "image/png": "[encoded data removed]"
          },
          "metadata": {
            "tags": []
          }
        },
        {
          "output_type": "display_data",
          "data": {
            "image/png": "[encoded data removed]"
          },
          "metadata": {
            "tags": []
          }
        }
      ]
    },
    {
      "cell_type": "markdown",
      "metadata": {
        "id": "MLWx73HvGraZ",
        "colab_type": "text"
      },
      "source": [
        "**Comments**:  \n",
        "From *Cumulative Proportion*, the first 2 principal components sufficiently capture over 95% of variance in data.  \n",
        "From *rotation*, *Sepal.Width* is the least significant contributing factor to first principal component (PC1), while *Petal.Length* and *Petal.Width* are the least significant contributing factors to second principal component (PC2).  \n"
      ]
    },
    {
      "cell_type": "markdown",
      "metadata": {
        "id": "2jTYj03MlHxR",
        "colab_type": "text"
      },
      "source": [
        "### K-means\n"
      ]
    },
    {
      "cell_type": "code",
      "metadata": {
        "id": "Gt8-X7Y-2c5o",
        "colab_type": "code",
        "outputId": "9a4ab1cf-e6c1-4350-ecbe-744c71f7c83e",
        "colab": {
          "base_uri": "https://localhost:8080/",
          "height": 977
        }
      },
      "source": [
        "%%R\n",
        "\n",
        "# Run kmeans over a range of different numbers of clusters\n",
        "print(fviz_nbclust(measures.std, kmeans, method=\"wss\")) # Within Sum of Squares\n",
        "print(fviz_nbclust(measures.std, kmeans, method=\"silhouette\"))"
      ],
      "execution_count": 0,
      "outputs": [
        {
          "output_type": "display_data",
          "data": {
            "image/png": "[encoded data removed]"
          },
          "metadata": {
            "tags": []
          }
        },
        {
          "output_type": "display_data",
          "data": {
            "image/png": "[encoded data removed]"
          },
          "metadata": {
            "tags": []
          }
        }
      ]
    },
    {
      "cell_type": "markdown",
      "metadata": {
        "id": "zo3iFdX6R8Fw",
        "colab_type": "text"
      },
      "source": [
        "**Comments**:  \n",
        "Both methods (Within Sum of Squares and Silhouette) happen to agree on the same optimal number of clusters $K = 2$ (Within Sum of Squares leveling off and Silhouette topping at same point $K = 2$).  \n",
        "\n",
        "Let us proceed to cluster the data accordingly.  \n"
      ]
    },
    {
      "cell_type": "code",
      "metadata": {
        "colab_type": "code",
        "outputId": "d578b4e4-e37c-4782-8863-1a585fc2718a",
        "id": "h0sJvwXz2Mvc",
        "colab": {
          "base_uri": "https://localhost:8080/",
          "height": 497
        }
      },
      "source": [
        "%%R\n",
        "\n",
        "# Cluster\n",
        "k <- 2\n",
        "km <- kmeans(measures.std, k, nstart=10)\n",
        "centers.pca <- predict(pca, newdata=km$centers)[, c(\"PC1\", \"PC2\")] # principal components of centers\n",
        "\n",
        "# Plot\n",
        "autoplot(km, data=measures.std, scale=FALSE, frame=TRUE, loadings=TRUE, loadings.label=TRUE,\n",
        "         loadings.colour=\"blue\", loadings.label.colour=\"blue\") + # clusters and directions\n",
        "geom_point(data=centers.pca, colour=as.numeric(row.names(centers.pca))*2.5, size=3) + # centers\n",
        "geom_point(aes(shape=species)) + scale_shape(solid=FALSE) # species"
      ],
      "execution_count": 0,
      "outputs": [
        {
          "output_type": "display_data",
          "data": {
            "image/png": "[encoded data removed]"
          },
          "metadata": {
            "tags": []
          }
        }
      ]
    },
    {
      "cell_type": "markdown",
      "metadata": {
        "id": "q5zpJurJNMA-",
        "colab_type": "text"
      },
      "source": [
        "From the graph, it can be realized that:  \n",
        "\n",
        "*   Variable *Sepal.Width* has the most significant influence in PC1-PC2 coordinates.\n",
        "*   The 2 clusters are well separated.\n",
        "*   Although there are 3 classes in our dataset, two of them (*versicolor* and *virginica*) are close to each other, thus clustered into the same group.\n",
        "\n"
      ]
    }
  ]
}