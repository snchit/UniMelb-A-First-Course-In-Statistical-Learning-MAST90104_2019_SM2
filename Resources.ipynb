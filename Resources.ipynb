{
  "nbformat": 4,
  "nbformat_minor": 0,
  "metadata": {
    "colab": {
      "name": "Resources.ipynb",
      "provenance": [],
      "collapsed_sections": [],
      "include_colab_link": true
    },
    "kernelspec": {
      "name": "python3",
      "display_name": "Python 3"
    },
    "accelerator": "GPU"
  },
  "cells": [
    {
      "cell_type": "markdown",
      "metadata": {
        "id": "view-in-github",
        "colab_type": "text"
      },
      "source": [
        "<a href=\"https://colab.research.google.com/github/Data-Science-and-Data-Analytics-Courses/UniMelb-A-First-Course-In-Statistical-Learning-MAST90104_2019_SM2/blob/master/Resources.ipynb\" target=\"_parent\"><img src=\"https://colab.research.google.com/assets/colab-badge.svg\" alt=\"Open In Colab\"/></a>"
      ]
    },
    {
      "cell_type": "markdown",
      "metadata": {
        "id": "fRrOetKsg-RC",
        "colab_type": "text"
      },
      "source": [
        "# Resources\n",
        "\n",
        "---\n",
        "\n"
      ]
    },
    {
      "cell_type": "markdown",
      "metadata": {
        "colab_type": "text",
        "id": "NFlCab3fJ3Gf"
      },
      "source": [
        "## Setup"
      ]
    },
    {
      "cell_type": "code",
      "metadata": {
        "colab_type": "code",
        "id": "XrUFzhpR7pOZ",
        "colab": {}
      },
      "source": [
        "import sys\n",
        "from pathlib import Path\n",
        "from google.colab import drive\n",
        "\n",
        "# Drive\n",
        "DRIVE = Path(\"/drive\", \"My Drive\")\n",
        "drive.mount(DRIVE.parent.as_posix())\n",
        "AUTHFILE_GIT = DRIVE / \"GitHub/login.json\" # path to GitHub authentication file\n",
        "\n",
        "# Notebook Library\n",
        "url = \"https://github.com/Data-Science-and-Data-Analytics-Courses/Notebook-Library\"\n",
        "repo = Path(\"/nblib\")\n",
        "!git clone \"{url}\" \"{repo}\"\n",
        "if repo.parent.as_posix() not in sys.path:\n",
        "  sys.path.append(repo.parent.as_posix())\n",
        "%run \"{repo}/.Importable.ipynb\"\n",
        "\n",
        "from nblib.imports.Basic import *\n",
        "from nblib import Git\n",
        "\n",
        "# Remote\n",
        "URL = \"https://github.com/Data-Science-and-Data-Analytics-Courses/UniMelb-A-First-Course-In-Statistical-Learning-MAST90104_2019_SM2\"\n",
        "REPO = Git.clone(URL, dest=\"/content\")\n",
        "if REPO.as_posix() not in sys.path:\n",
        "  sys.path.append(REPO.as_posix())\n",
        "\n",
        "# Working directory\n",
        "os.chdir(REPO)\n",
        "\n",
        "from nblib.imports.DS import *\n",
        "from setup.Setup import *\n",
        "from nblib import File\n",
        "\n",
        "CONFILE_GIT = DRIVE / CONFILE_GIT_REL # path to GitHub configuration file\n",
        "AUTHFILE_UM = DRIVE / AUTHFILE_UM_REL # path to UniMelb authentication file\n",
        "\n",
        "clear_output()"
      ],
      "execution_count": 0,
      "outputs": []
    },
    {
      "cell_type": "markdown",
      "metadata": {
        "id": "8m8pxnoQL417",
        "colab_type": "text"
      },
      "source": [
        "## Documents"
      ]
    },
    {
      "cell_type": "code",
      "metadata": {
        "colab_type": "code",
        "id": "wiCs14hFBmxK",
        "colab": {}
      },
      "source": [
        "docdir = REPO / \"documents\"\n",
        "\n",
        "# Lectures\n",
        "dest = docdir / \"lectures\"\n",
        "urls = {\"Module1-LMS.pdf\": \"https://app.lms.unimelb.edu.au/bbcswebdav/pid-7287220-dt-content-rid-55534547_2/courses/MAST90104_2019_SM2/Slides/Module1-LMS.pdf\",\n",
        "        \"Module2-LMS.pdf\": \"https://app.lms.unimelb.edu.au/bbcswebdav/pid-7287221-dt-content-rid-55534549_2/courses/MAST90104_2019_SM2/Slides/Module2-LMS.pdf\",\n",
        "        \"MatricesSummary-LMS.pdf\": \"https://app.lms.unimelb.edu.au/bbcswebdav/pid-7287222-dt-content-rid-55534546_2/courses/MAST90104_2019_SM2/Slides/MatricesSummary-LMS.pdf\",\n",
        "        \"Module3-LMS.pdf\": \"https://app.lms.unimelb.edu.au/bbcswebdav/pid-7287223-dt-content-rid-55534550_2/courses/MAST90104_2019_SM2/Slides/Module3-LMS.pdf\",\n",
        "        \"Module4-LMS.pdf\": \"https://app.lms.unimelb.edu.au/bbcswebdav/pid-7287224-dt-content-rid-55534551_2/courses/MAST90104_2019_SM2/Slides/Module4-LMS.pdf\",\n",
        "        \"Module5-LMS.pdf\": \"https://app.lms.unimelb.edu.au/bbcswebdav/pid-7287225-dt-content-rid-55534552_2/courses/MAST90104_2019_SM2/Slides/Module5-LMS.pdf\",\n",
        "        \"Module6_LMS.pdf\": \"https://app.lms.unimelb.edu.au/bbcswebdav/pid-7287226-dt-content-rid-55534553_2/courses/MAST90104_2019_SM2/Slides/Module6_LMS.pdf\",\n",
        "        \"Module7-LMS.pdf\": \"https://app.lms.unimelb.edu.au/bbcswebdav/pid-7287227-dt-content-rid-55534554_2/courses/MAST90104_2019_SM2/Slides/Module7-LMS.pdf\",\n",
        "        \"Module8-LMS.pdf\": \"https://app.lms.unimelb.edu.au/bbcswebdav/pid-7287228-dt-content-rid-55534555_2/courses/MAST90104_2019_SM2/Slides/Module8-LMS.pdf\",\n",
        "        \"Module9-LMS.pdf\": \"https://app.lms.unimelb.edu.au/bbcswebdav/pid-7287229-dt-content-rid-55534556_2/courses/MAST90104_2019_SM2/Slides/Module9-LMS.pdf\",\n",
        "        \"Module10-LMS.pdf\": \"https://app.lms.unimelb.edu.au/bbcswebdav/pid-7287230-dt-content-rid-55534548_2/courses/MAST90104_2019_SM2/Slides/Module10-LMS.pdf\",\n",
        "        \"Bayes-1-bayes-intro-2011-slides.pdf\": \"https://app.lms.unimelb.edu.au/bbcswebdav/pid-7287231-dt-content-rid-55534545_2/courses/MAST90104_2019_SM2/Slides/Bayes-1-bayes-intro-2011-slides.pdf\",\n",
        "        \"DevianceDisttribution.pdf\": \"https://app.lms.unimelb.edu.au/bbcswebdav/pid-7287232-dt-content-rid-55534132_2/courses/MAST90104_2019_SM2/DevianceDisttribution.pdf\"}\n",
        "for name, url in urls.items():\n",
        "  File.download2(url, dest=dest, name=name, authfile=AUTHFILE_UM)\n",
        "  \n",
        "# Labworks\n",
        "dest = docdir / \"labworks\"\n",
        "urls = {\"lab1.pdf\": \"https://app.lms.unimelb.edu.au/bbcswebdav/pid-7287189-dt-content-rid-55534514_2/courses/MAST90104_2019_SM2/Labs%20and%20Workshops/lab1.pdf\",\n",
        "        \"lab1sol.pdf\": \"https://app.lms.unimelb.edu.au/bbcswebdav/pid-7287190-dt-content-rid-55534521_2/courses/MAST90104_2019_SM2/Labs%20and%20Workshops/lab1sol.pdf\",\n",
        "        \"lab2.pdf\": \"https://app.lms.unimelb.edu.au/bbcswebdav/pid-7287191-dt-content-rid-55534522_2/courses/MAST90104_2019_SM2/Labs%20and%20Workshops/lab2.pdf\",\n",
        "        \"lab2sol.pdf\": \"https://app.lms.unimelb.edu.au/bbcswebdav/pid-7287192-dt-content-rid-55534523_2/courses/MAST90104_2019_SM2/Labs%20and%20Workshops/lab2sol.pdf\",\n",
        "        \"lab3.pdf\": \"https://app.lms.unimelb.edu.au/bbcswebdav/pid-7287193-dt-content-rid-55534524_2/courses/MAST90104_2019_SM2/Labs%20and%20Workshops/lab3.pdf\",\n",
        "        \"lab3sol.pdf\": \"https://app.lms.unimelb.edu.au/bbcswebdav/pid-7287194-dt-content-rid-55534525_2/courses/MAST90104_2019_SM2/Labs%20and%20Workshops/lab3sol.pdf\",\n",
        "        \"lab4.pdf\": \"https://app.lms.unimelb.edu.au/bbcswebdav/pid-7287195-dt-content-rid-55534526_2/courses/MAST90104_2019_SM2/Labs%20and%20Workshops/lab4.pdf\",\n",
        "        \"lab4sol.pdf\": \"https://app.lms.unimelb.edu.au/bbcswebdav/pid-7287196-dt-content-rid-55534527_2/courses/MAST90104_2019_SM2/Labs%20and%20Workshops/lab4sol.pdf\",\n",
        "        \"lab5.pdf\": \"https://app.lms.unimelb.edu.au/bbcswebdav/pid-7287197-dt-content-rid-55534528_2/courses/MAST90104_2019_SM2/Labs%20and%20Workshops/lab5.pdf\",\n",
        "        \"lab5sol.pdf\": \"https://app.lms.unimelb.edu.au/bbcswebdav/pid-7287198-dt-content-rid-55534139_2/courses/MAST90104_2019_SM2/lab5sol.pdf\",\n",
        "        \"lab6.pdf\": \"https://app.lms.unimelb.edu.au/bbcswebdav/pid-7287200-dt-content-rid-55534530_2/courses/MAST90104_2019_SM2/Labs%20and%20Workshops/lab6.pdf\",\n",
        "        \"lab7.pdf\": \"https://app.lms.unimelb.edu.au/bbcswebdav/pid-7287202-dt-content-rid-55534532_2/courses/MAST90104_2019_SM2/Labs%20and%20Workshops/lab7.pdf\",\n",
        "        \"lab8.pdf\": \"https://app.lms.unimelb.edu.au/bbcswebdav/pid-7287204-dt-content-rid-55534534_2/courses/MAST90104_2019_SM2/Labs%20and%20Workshops/lab8.pdf\",\n",
        "        \"lab9.pdf\": \"https://app.lms.unimelb.edu.au/bbcswebdav/pid-7287205-dt-content-rid-55534536_2/courses/MAST90104_2019_SM2/Labs%20and%20Workshops/lab9.pdf\",\n",
        "        \"Lab10.pdf\": \"https://app.lms.unimelb.edu.au/bbcswebdav/pid-7287206-dt-content-rid-55534515_2/courses/MAST90104_2019_SM2/Labs%20and%20Workshops/Lab10.pdf\",\n",
        "        \"lab11.pdf\": \"https://app.lms.unimelb.edu.au/bbcswebdav/pid-7287207-dt-content-rid-55534517_2/courses/MAST90104_2019_SM2/Labs%20and%20Workshops/lab11.pdf\",\n",
        "        \"lab12.pdf\": \"https://app.lms.unimelb.edu.au/bbcswebdav/pid-7287208-dt-content-rid-55534519_2/courses/MAST90104_2019_SM2/Labs%20and%20Workshops/lab12.pdf\",\n",
        "        \"lab6sol.pdf\": \"https://app.lms.unimelb.edu.au/bbcswebdav/pid-7287213-dt-content-rid-55534140_2/courses/MAST90104_2019_SM2/lab6sol.pdf\",\n",
        "        \"lab7sol.pdf\": \"https://app.lms.unimelb.edu.au/bbcswebdav/pid-7287214-dt-content-rid-55534141_2/courses/MAST90104_2019_SM2/lab7sol.pdf\",\n",
        "        \"lab8sol.pdf\": \"https://app.lms.unimelb.edu.au/bbcswebdav/pid-7287215-dt-content-rid-55534535_2/courses/MAST90104_2019_SM2/Labs%20and%20Workshops/lab8sol.pdf\",\n",
        "        \"lab9sol.pdf\": \"https://app.lms.unimelb.edu.au/bbcswebdav/pid-7287216-dt-content-rid-55534537_2/courses/MAST90104_2019_SM2/Labs%20and%20Workshops/lab9sol.pdf\",\n",
        "        \"Lab10Sol.pdf\": \"https://app.lms.unimelb.edu.au/bbcswebdav/pid-7287217-dt-content-rid-55534516_2/courses/MAST90104_2019_SM2/Labs%20and%20Workshops/Lab10Sol.pdf\",\n",
        "        \"lab11Sol.pdf\": \"https://app.lms.unimelb.edu.au/bbcswebdav/pid-7287218-dt-content-rid-55534518_2/courses/MAST90104_2019_SM2/Labs%20and%20Workshops/lab11Sol.pdf\",\n",
        "        \"lab12Sol.pdf\": \"https://app.lms.unimelb.edu.au/bbcswebdav/pid-7287219-dt-content-rid-55534520_2/courses/MAST90104_2019_SM2/Labs%20and%20Workshops/lab12Sol.pdf\"}\n",
        "for name, url in urls.items():\n",
        "  File.download2(url, dest=dest, name=name, authfile=AUTHFILE_UM)"
      ],
      "execution_count": 0,
      "outputs": []
    },
    {
      "cell_type": "markdown",
      "metadata": {
        "colab_type": "text",
        "id": "r_kwCUm1mf2W"
      },
      "source": [
        "## Assignments"
      ]
    },
    {
      "cell_type": "code",
      "metadata": {
        "colab_type": "code",
        "id": "camvO_4bmf2l",
        "colab": {}
      },
      "source": [
        "# Assignment 1\n",
        "dest = REPO / \"assignment1\"\n",
        "urls = {\"assign1.pdf\": \"https://app.lms.unimelb.edu.au/bbcswebdav/pid-7597662-dt-content-rid-64935205_2/courses/MAST90104_2019_SM2/assign1.pdf\",\n",
        "        \"assign1sol.pdf\": \"https://app.lms.unimelb.edu.au/bbcswebdav/pid-7612638-dt-content-rid-65389991_2/courses/MAST90104_2019_SM2/assign1sol%282%29.pdf\"}\n",
        "for name, url in urls.items():\n",
        "  File.download2(url, dest=dest, name=name, authfile=AUTHFILE_UM)\n",
        "  \n",
        "# Assignment 2\n",
        "dest = REPO / \"assignment2\"\n",
        "urls = {\"assign2.pdf\": \"https://app.lms.unimelb.edu.au/bbcswebdav/pid-7606201-dt-content-rid-65322208_2/courses/MAST90104_2019_SM2/assign2.pdf\",\n",
        "        \"assign2sol.pdf\": \"https://app.lms.unimelb.edu.au/bbcswebdav/pid-7753056-dt-content-rid-67347477_2/courses/MAST90104_2019_SM2/Mast90104assign2sol.pdf\"}\n",
        "for name, url in urls.items():\n",
        "  File.download2(url, dest=dest, name=name, authfile=AUTHFILE_UM)\n",
        "\n",
        "# Assignment 3\n",
        "dest = REPO / \"assignment3\"\n",
        "urls = {\"assign3.pdf\": \"https://app.lms.unimelb.edu.au/bbcswebdav/pid-7747184-dt-content-rid-67225808_2/courses/MAST90104_2019_SM2/assign3.pdf\",\n",
        "        \"assign3sol.pdf\": \"https://app.lms.unimelb.edu.au/bbcswebdav/pid-7764715-dt-content-rid-67838113_2/courses/MAST90104_2019_SM2/assign3solN%281%29.pdf\"}\n",
        "for name, url in urls.items():\n",
        "  File.download2(url, dest=dest, name=name, authfile=AUTHFILE_UM)\n",
        "\n",
        "# Assignment 4\n",
        "dest = REPO / \"assignment4\"\n",
        "urls = {\"assign4.pdf\": \"https://app.lms.unimelb.edu.au/bbcswebdav/pid-7287164-dt-content-rid-55534153_2/courses/MAST90104_2019_SM2/Assignments/assign4.pdf\",\n",
        "        \"assign4sol.pdf\": \"https://app.lms.unimelb.edu.au/bbcswebdav/pid-7773583-dt-content-rid-68173174_2/courses/MAST90104_2019_SM2/assign4solN%281%29.pdf\"}\n",
        "for name, url in urls.items():\n",
        "  File.download2(url, dest=dest, name=name, authfile=AUTHFILE_UM)"
      ],
      "execution_count": 0,
      "outputs": []
    },
    {
      "cell_type": "markdown",
      "metadata": {
        "id": "7ILM4JyuLzue",
        "colab_type": "text"
      },
      "source": [
        "## Push"
      ]
    },
    {
      "cell_type": "code",
      "metadata": {
        "id": "RqifDMhBglwC",
        "colab_type": "code",
        "outputId": "5fd2364c-ccb0-40a1-cf77-c896edc975d7",
        "colab": {
          "base_uri": "https://localhost:8080/",
          "height": 255
        }
      },
      "source": [
        "msg = \"Update documents\"\n",
        "\n",
        "# Configure\n",
        "Git.config(confile=CONFILE_GIT)\n",
        "\n",
        "# Track\n",
        "!git add -A\n",
        "\n",
        "# Commit\n",
        "!git commit -m \"{msg}\"\n",
        "\n",
        "# Push\n",
        "Git.push(URL, authfile=AUTHFILE_GIT)"
      ],
      "execution_count": 3,
      "outputs": [
        {
          "output_type": "stream",
          "text": [
            "[master 74bf1da] Update documents\n",
            " 4 files changed, 0 insertions(+), 0 deletions(-)\n",
            " create mode 100644 assignment1/assign1sol.pdf\n",
            " create mode 100644 assignment2/assign2sol.pdf\n",
            " create mode 100644 assignment3/assign3sol.pdf\n",
            " create mode 100644 assignment4/assign4sol.pdf\n",
            "Counting objects: 10, done.\n",
            "Delta compression using up to 2 threads.\n",
            "Compressing objects: 100% (10/10), done.\n",
            "Writing objects: 100% (10/10), 1.18 MiB | 1.45 MiB/s, done.\n",
            "Total 10 (delta 3), reused 0 (delta 0)\n",
            "remote: Resolving deltas: 100% (3/3), completed with 3 local objects.\u001b[K\n",
            "To https://github.com/Data-Science-and-Data-Analytics-Courses/UniMelb-A-First-Course-In-Statistical-Learning-MAST90104_2019_SM2\n",
            "   3a9fd8b..74bf1da  HEAD -> master\n"
          ],
          "name": "stdout"
        }
      ]
    }
  ]
}