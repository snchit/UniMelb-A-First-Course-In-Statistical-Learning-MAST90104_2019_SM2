{
  "nbformat": 4,
  "nbformat_minor": 0,
  "metadata": {
    "colab": {
      "name": "Resources.ipynb",
      "version": "0.3.2",
      "provenance": [],
      "collapsed_sections": [],
      "include_colab_link": true
    },
    "kernelspec": {
      "name": "python3",
      "display_name": "Python 3"
    },
    "accelerator": "GPU"
  },
  "cells": [
    {
      "cell_type": "markdown",
      "metadata": {
        "id": "view-in-github",
        "colab_type": "text"
      },
      "source": [
        "<a href=\"https://colab.research.google.com/github/Data-Science-and-Data-Analytics-Courses/UniMelb-A-First-Course-In-Statistical-Learning-MAST90104_2019_SM2-/blob/master/Resources.ipynb\" target=\"_parent\"><img src=\"https://colab.research.google.com/assets/colab-badge.svg\" alt=\"Open In Colab\"/></a>"
      ]
    },
    {
      "cell_type": "markdown",
      "metadata": {
        "id": "fRrOetKsg-RC",
        "colab_type": "text"
      },
      "source": [
        "# Resources\n",
        "\n",
        "---\n",
        "\n"
      ]
    },
    {
      "cell_type": "markdown",
      "metadata": {
        "colab_type": "text",
        "id": "NFlCab3fJ3Gf"
      },
      "source": [
        "## Setup"
      ]
    },
    {
      "cell_type": "code",
      "metadata": {
        "colab_type": "code",
        "outputId": "cabd0acd-64d1-467f-d2c4-13bb1a2a5881",
        "id": "XrUFzhpR7pOZ",
        "colab": {
          "base_uri": "https://localhost:8080/",
          "height": 377
        }
      },
      "source": [
        "import sys\n",
        "from pathlib import Path\n",
        "from google.colab import drive\n",
        "\n",
        "# Drive\n",
        "DRIVE = Path(\"/drive\", \"My Drive\")\n",
        "drive.mount(DRIVE.parent.as_posix())\n",
        "CONFILE_GIT = DRIVE / \"GitHub/config.json\" # path to GitHub configuration file\n",
        "AUTHFILE_GIT = DRIVE / \"GitHub/login.json\" # path to GitHub authentication file\n",
        "\n",
        "# Notebook Library\n",
        "url = \"https://github.com/Data-Science-and-Data-Analytics-Courses/Notebook-Library\"\n",
        "repo = Path(\"/nblib\")\n",
        "!git clone \"{url}\" \"{repo}\"\n",
        "if repo.parent.as_posix() not in sys.path:\n",
        "  sys.path.append(repo.parent.as_posix())\n",
        "%run \"{repo}/.Importable.ipynb\"\n",
        "\n",
        "from nblib.imports.Basic import *\n",
        "from nblib import Git, File\n",
        "\n",
        "# Remote\n",
        "URL = \"https://github.com/Data-Science-and-Data-Analytics-Courses/MITx---Machine-Learning-with-Python-From-Linear-Models-to-Deep-Learning-Jun-11-2019\"\n",
        "REPO = Git.clone(URL, dest=\"/content\")\n",
        "if REPO.as_posix() not in sys.path:\n",
        "  sys.path.append(REPO.as_posix())\n",
        "\n",
        "# Working directory\n",
        "os.chdir(REPO)\n",
        "\n",
        "from nblib.imports.DS import *\n",
        "from setup.Setup import *\n",
        "\n",
        "clear_output()"
      ],
      "execution_count": 0,
      "outputs": [
        {
          "output_type": "stream",
          "text": [
            "Go to this URL in a browser: https://accounts.google.com/o/oauth2/auth?client_id=947318989803-6bn6qk8qdgf4n4g3pfee6491hc0brc4i.apps.googleusercontent.com&redirect_uri=urn%3Aietf%3Awg%3Aoauth%3A2.0%3Aoob&scope=email%20https%3A%2F%2Fwww.googleapis.com%2Fauth%2Fdocs.test%20https%3A%2F%2Fwww.googleapis.com%2Fauth%2Fdrive%20https%3A%2F%2Fwww.googleapis.com%2Fauth%2Fdrive.photos.readonly%20https%3A%2F%2Fwww.googleapis.com%2Fauth%2Fpeopleapi.readonly&response_type=code\n",
            "\n",
            "Enter your authorization code:\n",
            "··········\n",
            "Mounted at /drive\n",
            "Cloning into '/nblib'...\n",
            "remote: Enumerating objects: 32, done.\u001b[K\n",
            "remote: Counting objects: 100% (32/32), done.\u001b[K\n",
            "remote: Compressing objects: 100% (29/29), done.\u001b[K\n",
            "remote: Total 32 (delta 15), reused 7 (delta 2), pack-reused 0\u001b[K\n",
            "Unpacking objects: 100% (32/32), done.\n"
          ],
          "name": "stdout"
        },
        {
          "output_type": "display_data",
          "data": {
            "text/html": [
              "\n",
              "<style type='text/css'>\n",
              ".hll { background-color: #ffffcc }\n",
              ".c { color: #408080; font-style: italic } /* Comment */\n",
              ".err { border: 1px solid #FF0000 } /* Error */\n",
              ".k { color: #008000; font-weight: bold } /* Keyword */\n",
              ".o { color: #666666 } /* Operator */\n",
              ".ch { color: #408080; font-style: italic } /* Comment.Hashbang */\n",
              ".cm { color: #408080; font-style: italic } /* Comment.Multiline */\n",
              ".cp { color: #BC7A00 } /* Comment.Preproc */\n",
              ".cpf { color: #408080; font-style: italic } /* Comment.PreprocFile */\n",
              ".c1 { color: #408080; font-style: italic } /* Comment.Single */\n",
              ".cs { color: #408080; font-style: italic } /* Comment.Special */\n",
              ".gd { color: #A00000 } /* Generic.Deleted */\n",
              ".ge { font-style: italic } /* Generic.Emph */\n",
              ".gr { color: #FF0000 } /* Generic.Error */\n",
              ".gh { color: #000080; font-weight: bold } /* Generic.Heading */\n",
              ".gi { color: #00A000 } /* Generic.Inserted */\n",
              ".go { color: #888888 } /* Generic.Output */\n",
              ".gp { color: #000080; font-weight: bold } /* Generic.Prompt */\n",
              ".gs { font-weight: bold } /* Generic.Strong */\n",
              ".gu { color: #800080; font-weight: bold } /* Generic.Subheading */\n",
              ".gt { color: #0044DD } /* Generic.Traceback */\n",
              ".kc { color: #008000; font-weight: bold } /* Keyword.Constant */\n",
              ".kd { color: #008000; font-weight: bold } /* Keyword.Declaration */\n",
              ".kn { color: #008000; font-weight: bold } /* Keyword.Namespace */\n",
              ".kp { color: #008000 } /* Keyword.Pseudo */\n",
              ".kr { color: #008000; font-weight: bold } /* Keyword.Reserved */\n",
              ".kt { color: #B00040 } /* Keyword.Type */\n",
              ".m { color: #666666 } /* Literal.Number */\n",
              ".s { color: #BA2121 } /* Literal.String */\n",
              ".na { color: #7D9029 } /* Name.Attribute */\n",
              ".nb { color: #008000 } /* Name.Builtin */\n",
              ".nc { color: #0000FF; font-weight: bold } /* Name.Class */\n",
              ".no { color: #880000 } /* Name.Constant */\n",
              ".nd { color: #AA22FF } /* Name.Decorator */\n",
              ".ni { color: #999999; font-weight: bold } /* Name.Entity */\n",
              ".ne { color: #D2413A; font-weight: bold } /* Name.Exception */\n",
              ".nf { color: #0000FF } /* Name.Function */\n",
              ".nl { color: #A0A000 } /* Name.Label */\n",
              ".nn { color: #0000FF; font-weight: bold } /* Name.Namespace */\n",
              ".nt { color: #008000; font-weight: bold } /* Name.Tag */\n",
              ".nv { color: #19177C } /* Name.Variable */\n",
              ".ow { color: #AA22FF; font-weight: bold } /* Operator.Word */\n",
              ".w { color: #bbbbbb } /* Text.Whitespace */\n",
              ".mb { color: #666666 } /* Literal.Number.Bin */\n",
              ".mf { color: #666666 } /* Literal.Number.Float */\n",
              ".mh { color: #666666 } /* Literal.Number.Hex */\n",
              ".mi { color: #666666 } /* Literal.Number.Integer */\n",
              ".mo { color: #666666 } /* Literal.Number.Oct */\n",
              ".sb { color: #BA2121 } /* Literal.String.Backtick */\n",
              ".sc { color: #BA2121 } /* Literal.String.Char */\n",
              ".sd { color: #BA2121; font-style: italic } /* Literal.String.Doc */\n",
              ".s2 { color: #BA2121 } /* Literal.String.Double */\n",
              ".se { color: #BB6622; font-weight: bold } /* Literal.String.Escape */\n",
              ".sh { color: #BA2121 } /* Literal.String.Heredoc */\n",
              ".si { color: #BB6688; font-weight: bold } /* Literal.String.Interpol */\n",
              ".sx { color: #008000 } /* Literal.String.Other */\n",
              ".sr { color: #BB6688 } /* Literal.String.Regex */\n",
              ".s1 { color: #BA2121 } /* Literal.String.Single */\n",
              ".ss { color: #19177C } /* Literal.String.Symbol */\n",
              ".bp { color: #008000 } /* Name.Builtin.Pseudo */\n",
              ".vc { color: #19177C } /* Name.Variable.Class */\n",
              ".vg { color: #19177C } /* Name.Variable.Global */\n",
              ".vi { color: #19177C } /* Name.Variable.Instance */\n",
              ".il { color: #666666 } /* Literal.Number.Integer.Long */\n",
              "</style>\n"
            ],
            "text/plain": [
              "<IPython.core.display.HTML object>"
            ]
          },
          "metadata": {
            "tags": []
          }
        },
        {
          "output_type": "stream",
          "text": [
            "importing Jupyter notebook from /nblib/Git.ipynb\n",
            "Cloning into '/content/MITx---Machine-Learning-with-Python-From-Linear-Models-to-Deep-Learning-Jun-11-2019'...\n",
            "remote: Enumerating objects: 195, done.\u001b[K\n",
            "remote: Counting objects: 100% (195/195), done.\u001b[K\n",
            "remote: Compressing objects: 100% (195/195), done.\u001b[K\n",
            "remote: Total 900 (delta 147), reused 0 (delta 0), pack-reused 705\u001b[K\n",
            "Receiving objects: 100% (900/900), 48.32 MiB | 26.32 MiB/s, done.\n",
            "Resolving deltas: 100% (489/489), done.\n",
            "importing Jupyter notebook from /nblib/File.ipynb\n"
          ],
          "name": "stdout"
        }
      ]
    },
    {
      "cell_type": "markdown",
      "metadata": {
        "id": "8m8pxnoQL417",
        "colab_type": "text"
      },
      "source": [
        "## Unit 0 Course Overview, Homework 0, Project 0 (1 week)\n",
        "[Introduction to ML packages (part 1)](https://github.com/Varal7/ml-tutorial/blob/master/Part1.ipynb)  \n",
        "[Introduction to ML packages (part 2)](https://nbviewer.jupyter.org/github/Varal7/ml-tutorial/blob/master/Part2.ipynb)  \n"
      ]
    },
    {
      "cell_type": "code",
      "metadata": {
        "id": "m2-KD_l-Ma3r",
        "colab_type": "code",
        "outputId": "ed753ea3-af91-4659-df6c-00c01947eac4",
        "colab": {
          "base_uri": "https://localhost:8080/",
          "height": 139
        }
      },
      "source": [
        "dest = Path(\"Unit 0 Course Overview, Homework 0, Project 0 (1 week)\")\n",
        "\n",
        "urls = {\"resources_calendar_2T2019.pdf\": \"https://courses.edx.org/asset-v1:MITx+6.86x+1T2019+type@asset+block@resources_calendar_2T2019.pdf\",\n",
        "        \"resources_syllabus_schedule_2T2019.pdf\": \"https://courses.edx.org/asset-v1:MITx+6.86x+1T2019+type@asset+block@resources_syllabus_schedule_2T2019.pdf\"}\n",
        "for name, url in urls.items():\n",
        "  File.download(url, dest=dest, name=name)"
      ],
      "execution_count": 0,
      "outputs": [
        {
          "output_type": "stream",
          "text": [
            "######################################################################## 100.0%\n",
            "######################################################################## 100.0%\n"
          ],
          "name": "stdout"
        },
        {
          "output_type": "execute_result",
          "data": {
            "text/plain": [
              "[PosixPath('/content/MITx---Machine-Learning-with-Python-From-Linear-Models-to-Deep-Learning-Jun-11-2019/Unit 0 Course Overview, Homework 0, Project 0 (1 week)/project0'),\n",
              " PosixPath('/content/MITx---Machine-Learning-with-Python-From-Linear-Models-to-Deep-Learning-Jun-11-2019/Unit 0 Course Overview, Homework 0, Project 0 (1 week)/project0/debug.py'),\n",
              " PosixPath('/content/MITx---Machine-Learning-with-Python-From-Linear-Models-to-Deep-Learning-Jun-11-2019/Unit 0 Course Overview, Homework 0, Project 0 (1 week)/project0/main.py'),\n",
              " PosixPath('/content/MITx---Machine-Learning-with-Python-From-Linear-Models-to-Deep-Learning-Jun-11-2019/Unit 0 Course Overview, Homework 0, Project 0 (1 week)/project0/test.py')]"
            ]
          },
          "metadata": {
            "tags": []
          },
          "execution_count": 18
        }
      ]
    },
    {
      "cell_type": "markdown",
      "metadata": {
        "colab_type": "text",
        "id": "RgU5BD-9OzVy"
      },
      "source": [
        "## Unit 1 Linear Classifiers and Generalizations (2 weeks)\n",
        "[Perceptron Mistake Bounds](https://arxiv.org/pdf/1305.0208.pdf)  \n"
      ]
    },
    {
      "cell_type": "code",
      "metadata": {
        "id": "94_XdZ6tnRSV",
        "colab_type": "code",
        "outputId": "e9f5449c-eb7f-43bb-ebf4-e5ada1918ac7",
        "colab": {
          "base_uri": "https://localhost:8080/",
          "height": 258
        }
      },
      "source": [
        "dest = Path(\"Unit 1 Linear Classifiers and Generalizations (2 weeks)\")\n",
        "\n",
        "urls = {\"slides_lecture1.pdf\": \"https://courses.edx.org/asset-v1:MITx+6.86x+1T2019+type@asset+block@slides_lecture1.pdf\",\n",
        "        \"slides_lecture2.pdf\": \"https://courses.edx.org/asset-v1:MITx+6.86x+1T2019+type@asset+block@slides_lecture2.pdf\",\n",
        "        \"slides_lecture3.pdf\": \"https://courses.edx.org/asset-v1:MITx+6.86x+1T2019+type@asset+block@slides_lecture3.pdf\",\n",
        "        \"slides_lecture4.pdf\": \"https://courses.edx.org/asset-v1:MITx+6.86x+1T2019+type@asset+block@slides_lecture4.pdf\"}\n",
        "for name, url in urls.items():\n",
        "  File.download(url, dest=dest, name=name)"
      ],
      "execution_count": 0,
      "outputs": [
        {
          "output_type": "execute_result",
          "data": {
            "text/plain": [
              "[PosixPath('/content/MITx---Machine-Learning-with-Python-From-Linear-Models-to-Deep-Learning-Jun-11-2019/Unit 1 Linear Classifiers and Generalizations (2 weeks)/Project 1: Automatic Review Analyzer/sentiment_analysis'),\n",
              " PosixPath('/content/MITx---Machine-Learning-with-Python-From-Linear-Models-to-Deep-Learning-Jun-11-2019/Unit 1 Linear Classifiers and Generalizations (2 weeks)/Project 1: Automatic Review Analyzer/sentiment_analysis/200.txt'),\n",
              " PosixPath('/content/MITx---Machine-Learning-with-Python-From-Linear-Models-to-Deep-Learning-Jun-11-2019/Unit 1 Linear Classifiers and Generalizations (2 weeks)/Project 1: Automatic Review Analyzer/sentiment_analysis/4000.txt'),\n",
              " PosixPath('/content/MITx---Machine-Learning-with-Python-From-Linear-Models-to-Deep-Learning-Jun-11-2019/Unit 1 Linear Classifiers and Generalizations (2 weeks)/Project 1: Automatic Review Analyzer/sentiment_analysis/main.py'),\n",
              " PosixPath('/content/MITx---Machine-Learning-with-Python-From-Linear-Models-to-Deep-Learning-Jun-11-2019/Unit 1 Linear Classifiers and Generalizations (2 weeks)/Project 1: Automatic Review Analyzer/sentiment_analysis/project1.py'),\n",
              " PosixPath('/content/MITx---Machine-Learning-with-Python-From-Linear-Models-to-Deep-Learning-Jun-11-2019/Unit 1 Linear Classifiers and Generalizations (2 weeks)/Project 1: Automatic Review Analyzer/sentiment_analysis/reviews_submit.tsv'),\n",
              " PosixPath('/content/MITx---Machine-Learning-with-Python-From-Linear-Models-to-Deep-Learning-Jun-11-2019/Unit 1 Linear Classifiers and Generalizations (2 weeks)/Project 1: Automatic Review Analyzer/sentiment_analysis/reviews_test.tsv'),\n",
              " PosixPath('/content/MITx---Machine-Learning-with-Python-From-Linear-Models-to-Deep-Learning-Jun-11-2019/Unit 1 Linear Classifiers and Generalizations (2 weeks)/Project 1: Automatic Review Analyzer/sentiment_analysis/reviews_train.tsv'),\n",
              " PosixPath('/content/MITx---Machine-Learning-with-Python-From-Linear-Models-to-Deep-Learning-Jun-11-2019/Unit 1 Linear Classifiers and Generalizations (2 weeks)/Project 1: Automatic Review Analyzer/sentiment_analysis/reviews_val.tsv'),\n",
              " PosixPath('/content/MITx---Machine-Learning-with-Python-From-Linear-Models-to-Deep-Learning-Jun-11-2019/Unit 1 Linear Classifiers and Generalizations (2 weeks)/Project 1: Automatic Review Analyzer/sentiment_analysis/stopwords.txt'),\n",
              " PosixPath('/content/MITx---Machine-Learning-with-Python-From-Linear-Models-to-Deep-Learning-Jun-11-2019/Unit 1 Linear Classifiers and Generalizations (2 weeks)/Project 1: Automatic Review Analyzer/sentiment_analysis/test.py'),\n",
              " PosixPath('/content/MITx---Machine-Learning-with-Python-From-Linear-Models-to-Deep-Learning-Jun-11-2019/Unit 1 Linear Classifiers and Generalizations (2 weeks)/Project 1: Automatic Review Analyzer/sentiment_analysis/toy_data.tsv'),\n",
              " PosixPath('/content/MITx---Machine-Learning-with-Python-From-Linear-Models-to-Deep-Learning-Jun-11-2019/Unit 1 Linear Classifiers and Generalizations (2 weeks)/Project 1: Automatic Review Analyzer/sentiment_analysis/utils.py')]"
            ]
          },
          "metadata": {
            "tags": []
          },
          "execution_count": 10
        }
      ]
    },
    {
      "cell_type": "markdown",
      "metadata": {
        "colab_type": "text",
        "id": "R9Zo-Li5UG7d"
      },
      "source": [
        "## Unit 2 Nonlinear Classification, Linear regression, Collaborative Filtering (2 weeks)\n"
      ]
    },
    {
      "cell_type": "code",
      "metadata": {
        "id": "Bz5LgvJlT8e0",
        "colab_type": "code",
        "outputId": "468140d1-4eaf-48cd-feb6-5420410cf843",
        "colab": {
          "base_uri": "https://localhost:8080/",
          "height": 34
        }
      },
      "source": [
        "dest = REPO / \"Unit 2 Nonlinear Classification, Linear regression, Collaborative Filtering (2 weeks)\"\n",
        "\n",
        "urls = {\"slides_lecture6.pdf\": \"https://courses.edx.org/asset-v1:MITx+6.86x+1T2019+type@asset+block@slides_lecture6.pdf\"}\n",
        "for name, url in urls.items():\n",
        "  File.download(url, dest=dest, name=name)"
      ],
      "execution_count": 0,
      "outputs": [
        {
          "output_type": "stream",
          "text": [
            "######################################################################## 100.0%\n"
          ],
          "name": "stdout"
        }
      ]
    },
    {
      "cell_type": "markdown",
      "metadata": {
        "id": "JNy4IsBz3qqD",
        "colab_type": "text"
      },
      "source": [
        "## Unit 3 Neural networks (2.5 weeks)"
      ]
    },
    {
      "cell_type": "code",
      "metadata": {
        "id": "FfIkZEJ43v0E",
        "colab_type": "code",
        "outputId": "fb59c586-d212-41b6-b5c7-77fb9e7e577d",
        "colab": {
          "base_uri": "https://localhost:8080/",
          "height": 85
        }
      },
      "source": [
        "dest = REPO / \"Unit 3 Neural networks (2.5 weeks)\"\n",
        "\n",
        "urls = {\"slides_lecture8.pdf\": \"https://courses.edx.org/asset-v1:MITx+6.86x+1T2019+type@asset+block@slides_lecture8.pdf\",\n",
        "        \"slides_lecture9.pdf\": \"https://courses.edx.org/asset-v1:MITx+6.86x+1T2019+type@asset+block@slides_lecture9.pdf\",\n",
        "        \"slides_lecture10.pdf\": \"https://courses.edx.org/asset-v1:MITx+6.86x+1T2019+type@asset+block@slides_lecture10.pdf\",\n",
        "        \"slides_lecture11.pdf\": \"https://courses.edx.org/asset-v1:MITx+6.86x+1T2019+type@asset+block@slides_lecture11.pdf\"}\n",
        "for name, url in urls.items():\n",
        "  File.download(url, dest=dest, name=name)"
      ],
      "execution_count": 0,
      "outputs": [
        {
          "output_type": "stream",
          "text": [
            "######################################################################## 100.0%\n",
            "######################################################################## 100.0%\n",
            "######################################################################## 100.0%\n",
            "######################################################################## 100.0%\n"
          ],
          "name": "stdout"
        }
      ]
    },
    {
      "cell_type": "markdown",
      "metadata": {
        "id": "myk6EwQzjNuY",
        "colab_type": "text"
      },
      "source": [
        "## Project 0"
      ]
    },
    {
      "cell_type": "code",
      "metadata": {
        "id": "RqM6KL2jjN7K",
        "colab_type": "code",
        "colab": {}
      },
      "source": [
        "dest = REPO/\"Project 0\"\n",
        "urls = {\"resources_project0.tar.gz\": \"https://prod-edxapp.edx-cdn.org/assets/courseware/v1/cae5959d5cff65ed9c7fdb0c3b59ba02/asset-v1:MITx+6.86x+1T2019+type@asset+block/resources_project0.tar.gz\",\n",
        "        \"projectsolution_project0-solution.tar.gz\": \"https://courses.edx.org/asset-v1:MITx+6.86x+1T2019+type@asset+block@projectsolution_project0-solution.tar.gz\"}\n",
        "for name, url in urls.items():\n",
        "  File.runtar(url, dest=dest)"
      ],
      "execution_count": 0,
      "outputs": []
    },
    {
      "cell_type": "markdown",
      "metadata": {
        "id": "YmvXi4wkfbuF",
        "colab_type": "text"
      },
      "source": [
        "## Project 1: Automatic Review Analyzer"
      ]
    },
    {
      "cell_type": "code",
      "metadata": {
        "id": "GsOAcq4vfqDJ",
        "colab_type": "code",
        "colab": {}
      },
      "source": [
        "dest = REPO/\"Project 1: Automatic Review Analyzer\"\n",
        "urls = {\"resources_sentiment_analysis.tar.gz\": \"https://prod-edxapp.edx-cdn.org/assets/courseware/v1/d9e1b0bf165a7c7e4458b667ea3d29d6/asset-v1:MITx+6.86x+1T2019+type@asset+block/resources_sentiment_analysis.tar.gz\",\n",
        "        \"projectsolution_sentiment_analysis-solution.tar.gz\": \"https://courses.edx.org/asset-v1:MITx+6.86x+1T2019+type@asset+block@projectsolution_sentiment_analysis-solution.tar.gz\"}\n",
        "for name, url in urls.items():\n",
        "  File.runtar(url, dest=dest)"
      ],
      "execution_count": 0,
      "outputs": []
    },
    {
      "cell_type": "markdown",
      "metadata": {
        "colab_type": "text",
        "id": "L3Z70_yRbb-U"
      },
      "source": [
        "## Project 2: Digit recognition (Part 1)"
      ]
    },
    {
      "cell_type": "code",
      "metadata": {
        "colab_type": "code",
        "outputId": "21ba1140-b2d0-4699-a4c8-4395071763bf",
        "id": "F3gM0-qUbb-a",
        "colab": {
          "base_uri": "https://localhost:8080/",
          "height": 1000
        }
      },
      "source": [
        "dest = REPO/\"Project 2: Digit recognition (Part 1)\"\n",
        "urls = {\"resources_mnist.tar.gz\": \"https://prod-edxapp.edx-cdn.org/assets/courseware/v1/fe3c051c52728e9d8eafb790ffbec7e8/asset-v1:MITx+6.86x+1T2019+type@asset+block/resources_mnist.tar.gz\"}\n",
        "File.runtar(urls[\"resources_mnist.tar.gz\"], dest=dest)"
      ],
      "execution_count": 0,
      "outputs": [
        {
          "output_type": "execute_result",
          "data": {
            "text/plain": [
              "[PosixPath('/content/MITx---Machine-Learning-with-Python-From-Linear-Models-to-Deep-Learning-Jun-11-2019/Project 2: Digit recognition (Part 1)/mnist'),\n",
              " PosixPath('/content/MITx---Machine-Learning-with-Python-From-Linear-Models-to-Deep-Learning-Jun-11-2019/Project 2: Digit recognition (Part 1)/mnist/._.DS_Store'),\n",
              " PosixPath('/content/MITx---Machine-Learning-with-Python-From-Linear-Models-to-Deep-Learning-Jun-11-2019/Project 2: Digit recognition (Part 1)/mnist/.DS_Store'),\n",
              " PosixPath('/content/MITx---Machine-Learning-with-Python-From-Linear-Models-to-Deep-Learning-Jun-11-2019/Project 2: Digit recognition (Part 1)/mnist/Datasets'),\n",
              " PosixPath('/content/MITx---Machine-Learning-with-Python-From-Linear-Models-to-Deep-Learning-Jun-11-2019/Project 2: Digit recognition (Part 1)/mnist/part1'),\n",
              " PosixPath('/content/MITx---Machine-Learning-with-Python-From-Linear-Models-to-Deep-Learning-Jun-11-2019/Project 2: Digit recognition (Part 1)/mnist/part2-mnist'),\n",
              " PosixPath('/content/MITx---Machine-Learning-with-Python-From-Linear-Models-to-Deep-Learning-Jun-11-2019/Project 2: Digit recognition (Part 1)/mnist/part2-nn'),\n",
              " PosixPath('/content/MITx---Machine-Learning-with-Python-From-Linear-Models-to-Deep-Learning-Jun-11-2019/Project 2: Digit recognition (Part 1)/mnist/part2-twodigit'),\n",
              " PosixPath('/content/MITx---Machine-Learning-with-Python-From-Linear-Models-to-Deep-Learning-Jun-11-2019/Project 2: Digit recognition (Part 1)/mnist/utils.py'),\n",
              " PosixPath('/content/MITx---Machine-Learning-with-Python-From-Linear-Models-to-Deep-Learning-Jun-11-2019/Project 2: Digit recognition (Part 1)/mnist/utils.py.bak'),\n",
              " PosixPath('/content/MITx---Machine-Learning-with-Python-From-Linear-Models-to-Deep-Learning-Jun-11-2019/Project 2: Digit recognition (Part 1)/mnist/part2-twodigit/conv.py'),\n",
              " PosixPath('/content/MITx---Machine-Learning-with-Python-From-Linear-Models-to-Deep-Learning-Jun-11-2019/Project 2: Digit recognition (Part 1)/mnist/part2-twodigit/mlp.py'),\n",
              " PosixPath('/content/MITx---Machine-Learning-with-Python-From-Linear-Models-to-Deep-Learning-Jun-11-2019/Project 2: Digit recognition (Part 1)/mnist/part2-twodigit/sample_images'),\n",
              " PosixPath('/content/MITx---Machine-Learning-with-Python-From-Linear-Models-to-Deep-Learning-Jun-11-2019/Project 2: Digit recognition (Part 1)/mnist/part2-twodigit/train_utils.py'),\n",
              " PosixPath('/content/MITx---Machine-Learning-with-Python-From-Linear-Models-to-Deep-Learning-Jun-11-2019/Project 2: Digit recognition (Part 1)/mnist/part2-twodigit/utils_multiMNIST.py'),\n",
              " PosixPath('/content/MITx---Machine-Learning-with-Python-From-Linear-Models-to-Deep-Learning-Jun-11-2019/Project 2: Digit recognition (Part 1)/mnist/part2-twodigit/sample_images/img20000.jpg'),\n",
              " PosixPath('/content/MITx---Machine-Learning-with-Python-From-Linear-Models-to-Deep-Learning-Jun-11-2019/Project 2: Digit recognition (Part 1)/mnist/part2-twodigit/sample_images/img20001.jpg'),\n",
              " PosixPath('/content/MITx---Machine-Learning-with-Python-From-Linear-Models-to-Deep-Learning-Jun-11-2019/Project 2: Digit recognition (Part 1)/mnist/part2-twodigit/sample_images/img20002.jpg'),\n",
              " PosixPath('/content/MITx---Machine-Learning-with-Python-From-Linear-Models-to-Deep-Learning-Jun-11-2019/Project 2: Digit recognition (Part 1)/mnist/part2-twodigit/sample_images/img20003.jpg'),\n",
              " PosixPath('/content/MITx---Machine-Learning-with-Python-From-Linear-Models-to-Deep-Learning-Jun-11-2019/Project 2: Digit recognition (Part 1)/mnist/part2-twodigit/sample_images/img20004.jpg'),\n",
              " PosixPath('/content/MITx---Machine-Learning-with-Python-From-Linear-Models-to-Deep-Learning-Jun-11-2019/Project 2: Digit recognition (Part 1)/mnist/part2-twodigit/sample_images/img20005.jpg'),\n",
              " PosixPath('/content/MITx---Machine-Learning-with-Python-From-Linear-Models-to-Deep-Learning-Jun-11-2019/Project 2: Digit recognition (Part 1)/mnist/part2-twodigit/sample_images/img20006.jpg'),\n",
              " PosixPath('/content/MITx---Machine-Learning-with-Python-From-Linear-Models-to-Deep-Learning-Jun-11-2019/Project 2: Digit recognition (Part 1)/mnist/part2-twodigit/sample_images/img20007.jpg'),\n",
              " PosixPath('/content/MITx---Machine-Learning-with-Python-From-Linear-Models-to-Deep-Learning-Jun-11-2019/Project 2: Digit recognition (Part 1)/mnist/part2-twodigit/sample_images/img20008.jpg'),\n",
              " PosixPath('/content/MITx---Machine-Learning-with-Python-From-Linear-Models-to-Deep-Learning-Jun-11-2019/Project 2: Digit recognition (Part 1)/mnist/part2-twodigit/sample_images/img20009.jpg'),\n",
              " PosixPath('/content/MITx---Machine-Learning-with-Python-From-Linear-Models-to-Deep-Learning-Jun-11-2019/Project 2: Digit recognition (Part 1)/mnist/part2-twodigit/sample_images/img20010.jpg'),\n",
              " PosixPath('/content/MITx---Machine-Learning-with-Python-From-Linear-Models-to-Deep-Learning-Jun-11-2019/Project 2: Digit recognition (Part 1)/mnist/part2-twodigit/sample_images/img20011.jpg'),\n",
              " PosixPath('/content/MITx---Machine-Learning-with-Python-From-Linear-Models-to-Deep-Learning-Jun-11-2019/Project 2: Digit recognition (Part 1)/mnist/part2-twodigit/sample_images/img20012.jpg'),\n",
              " PosixPath('/content/MITx---Machine-Learning-with-Python-From-Linear-Models-to-Deep-Learning-Jun-11-2019/Project 2: Digit recognition (Part 1)/mnist/part2-twodigit/sample_images/img20013.jpg'),\n",
              " PosixPath('/content/MITx---Machine-Learning-with-Python-From-Linear-Models-to-Deep-Learning-Jun-11-2019/Project 2: Digit recognition (Part 1)/mnist/part2-twodigit/sample_images/img20014.jpg'),\n",
              " PosixPath('/content/MITx---Machine-Learning-with-Python-From-Linear-Models-to-Deep-Learning-Jun-11-2019/Project 2: Digit recognition (Part 1)/mnist/part2-twodigit/sample_images/img20015.jpg'),\n",
              " PosixPath('/content/MITx---Machine-Learning-with-Python-From-Linear-Models-to-Deep-Learning-Jun-11-2019/Project 2: Digit recognition (Part 1)/mnist/part2-twodigit/sample_images/img20016.jpg'),\n",
              " PosixPath('/content/MITx---Machine-Learning-with-Python-From-Linear-Models-to-Deep-Learning-Jun-11-2019/Project 2: Digit recognition (Part 1)/mnist/part2-twodigit/sample_images/img20017.jpg'),\n",
              " PosixPath('/content/MITx---Machine-Learning-with-Python-From-Linear-Models-to-Deep-Learning-Jun-11-2019/Project 2: Digit recognition (Part 1)/mnist/part2-twodigit/sample_images/img20018.jpg'),\n",
              " PosixPath('/content/MITx---Machine-Learning-with-Python-From-Linear-Models-to-Deep-Learning-Jun-11-2019/Project 2: Digit recognition (Part 1)/mnist/part2-twodigit/sample_images/img20019.jpg'),\n",
              " PosixPath('/content/MITx---Machine-Learning-with-Python-From-Linear-Models-to-Deep-Learning-Jun-11-2019/Project 2: Digit recognition (Part 1)/mnist/part2-twodigit/sample_images/img20020.jpg'),\n",
              " PosixPath('/content/MITx---Machine-Learning-with-Python-From-Linear-Models-to-Deep-Learning-Jun-11-2019/Project 2: Digit recognition (Part 1)/mnist/part2-twodigit/sample_images/img20021.jpg'),\n",
              " PosixPath('/content/MITx---Machine-Learning-with-Python-From-Linear-Models-to-Deep-Learning-Jun-11-2019/Project 2: Digit recognition (Part 1)/mnist/part2-twodigit/sample_images/img20022.jpg'),\n",
              " PosixPath('/content/MITx---Machine-Learning-with-Python-From-Linear-Models-to-Deep-Learning-Jun-11-2019/Project 2: Digit recognition (Part 1)/mnist/part2-twodigit/sample_images/img20023.jpg'),\n",
              " PosixPath('/content/MITx---Machine-Learning-with-Python-From-Linear-Models-to-Deep-Learning-Jun-11-2019/Project 2: Digit recognition (Part 1)/mnist/part2-twodigit/sample_images/img20024.jpg'),\n",
              " PosixPath('/content/MITx---Machine-Learning-with-Python-From-Linear-Models-to-Deep-Learning-Jun-11-2019/Project 2: Digit recognition (Part 1)/mnist/part2-twodigit/sample_images/img20025.jpg'),\n",
              " PosixPath('/content/MITx---Machine-Learning-with-Python-From-Linear-Models-to-Deep-Learning-Jun-11-2019/Project 2: Digit recognition (Part 1)/mnist/part2-twodigit/sample_images/img20026.jpg'),\n",
              " PosixPath('/content/MITx---Machine-Learning-with-Python-From-Linear-Models-to-Deep-Learning-Jun-11-2019/Project 2: Digit recognition (Part 1)/mnist/part2-twodigit/sample_images/img20027.jpg'),\n",
              " PosixPath('/content/MITx---Machine-Learning-with-Python-From-Linear-Models-to-Deep-Learning-Jun-11-2019/Project 2: Digit recognition (Part 1)/mnist/part2-twodigit/sample_images/img20028.jpg'),\n",
              " PosixPath('/content/MITx---Machine-Learning-with-Python-From-Linear-Models-to-Deep-Learning-Jun-11-2019/Project 2: Digit recognition (Part 1)/mnist/part2-twodigit/sample_images/img20029.jpg'),\n",
              " PosixPath('/content/MITx---Machine-Learning-with-Python-From-Linear-Models-to-Deep-Learning-Jun-11-2019/Project 2: Digit recognition (Part 1)/mnist/part2-twodigit/sample_images/img20030.jpg'),\n",
              " PosixPath('/content/MITx---Machine-Learning-with-Python-From-Linear-Models-to-Deep-Learning-Jun-11-2019/Project 2: Digit recognition (Part 1)/mnist/part2-twodigit/sample_images/img20031.jpg'),\n",
              " PosixPath('/content/MITx---Machine-Learning-with-Python-From-Linear-Models-to-Deep-Learning-Jun-11-2019/Project 2: Digit recognition (Part 1)/mnist/part2-twodigit/sample_images/img20032.jpg'),\n",
              " PosixPath('/content/MITx---Machine-Learning-with-Python-From-Linear-Models-to-Deep-Learning-Jun-11-2019/Project 2: Digit recognition (Part 1)/mnist/part2-twodigit/sample_images/img20033.jpg'),\n",
              " PosixPath('/content/MITx---Machine-Learning-with-Python-From-Linear-Models-to-Deep-Learning-Jun-11-2019/Project 2: Digit recognition (Part 1)/mnist/part2-twodigit/sample_images/img20034.jpg'),\n",
              " PosixPath('/content/MITx---Machine-Learning-with-Python-From-Linear-Models-to-Deep-Learning-Jun-11-2019/Project 2: Digit recognition (Part 1)/mnist/part2-twodigit/sample_images/img20035.jpg'),\n",
              " PosixPath('/content/MITx---Machine-Learning-with-Python-From-Linear-Models-to-Deep-Learning-Jun-11-2019/Project 2: Digit recognition (Part 1)/mnist/part2-twodigit/sample_images/img20036.jpg'),\n",
              " PosixPath('/content/MITx---Machine-Learning-with-Python-From-Linear-Models-to-Deep-Learning-Jun-11-2019/Project 2: Digit recognition (Part 1)/mnist/part2-twodigit/sample_images/img20037.jpg'),\n",
              " PosixPath('/content/MITx---Machine-Learning-with-Python-From-Linear-Models-to-Deep-Learning-Jun-11-2019/Project 2: Digit recognition (Part 1)/mnist/part2-twodigit/sample_images/img20038.jpg'),\n",
              " PosixPath('/content/MITx---Machine-Learning-with-Python-From-Linear-Models-to-Deep-Learning-Jun-11-2019/Project 2: Digit recognition (Part 1)/mnist/part2-twodigit/sample_images/img20039.jpg'),\n",
              " PosixPath('/content/MITx---Machine-Learning-with-Python-From-Linear-Models-to-Deep-Learning-Jun-11-2019/Project 2: Digit recognition (Part 1)/mnist/part2-twodigit/sample_images/img20040.jpg'),\n",
              " PosixPath('/content/MITx---Machine-Learning-with-Python-From-Linear-Models-to-Deep-Learning-Jun-11-2019/Project 2: Digit recognition (Part 1)/mnist/part2-twodigit/sample_images/img20041.jpg'),\n",
              " PosixPath('/content/MITx---Machine-Learning-with-Python-From-Linear-Models-to-Deep-Learning-Jun-11-2019/Project 2: Digit recognition (Part 1)/mnist/part2-twodigit/sample_images/img20042.jpg'),\n",
              " PosixPath('/content/MITx---Machine-Learning-with-Python-From-Linear-Models-to-Deep-Learning-Jun-11-2019/Project 2: Digit recognition (Part 1)/mnist/part2-twodigit/sample_images/img20043.jpg'),\n",
              " PosixPath('/content/MITx---Machine-Learning-with-Python-From-Linear-Models-to-Deep-Learning-Jun-11-2019/Project 2: Digit recognition (Part 1)/mnist/part2-twodigit/sample_images/img20044.jpg'),\n",
              " PosixPath('/content/MITx---Machine-Learning-with-Python-From-Linear-Models-to-Deep-Learning-Jun-11-2019/Project 2: Digit recognition (Part 1)/mnist/part2-twodigit/sample_images/img20045.jpg'),\n",
              " PosixPath('/content/MITx---Machine-Learning-with-Python-From-Linear-Models-to-Deep-Learning-Jun-11-2019/Project 2: Digit recognition (Part 1)/mnist/part2-twodigit/sample_images/img20046.jpg'),\n",
              " PosixPath('/content/MITx---Machine-Learning-with-Python-From-Linear-Models-to-Deep-Learning-Jun-11-2019/Project 2: Digit recognition (Part 1)/mnist/part2-twodigit/sample_images/img20047.jpg'),\n",
              " PosixPath('/content/MITx---Machine-Learning-with-Python-From-Linear-Models-to-Deep-Learning-Jun-11-2019/Project 2: Digit recognition (Part 1)/mnist/part2-twodigit/sample_images/img20048.jpg'),\n",
              " PosixPath('/content/MITx---Machine-Learning-with-Python-From-Linear-Models-to-Deep-Learning-Jun-11-2019/Project 2: Digit recognition (Part 1)/mnist/part2-twodigit/sample_images/img20049.jpg'),\n",
              " PosixPath('/content/MITx---Machine-Learning-with-Python-From-Linear-Models-to-Deep-Learning-Jun-11-2019/Project 2: Digit recognition (Part 1)/mnist/part2-twodigit/sample_images/img20050.jpg'),\n",
              " PosixPath('/content/MITx---Machine-Learning-with-Python-From-Linear-Models-to-Deep-Learning-Jun-11-2019/Project 2: Digit recognition (Part 1)/mnist/part2-twodigit/sample_images/img20051.jpg'),\n",
              " PosixPath('/content/MITx---Machine-Learning-with-Python-From-Linear-Models-to-Deep-Learning-Jun-11-2019/Project 2: Digit recognition (Part 1)/mnist/part2-twodigit/sample_images/img20052.jpg'),\n",
              " PosixPath('/content/MITx---Machine-Learning-with-Python-From-Linear-Models-to-Deep-Learning-Jun-11-2019/Project 2: Digit recognition (Part 1)/mnist/part2-twodigit/sample_images/img20053.jpg'),\n",
              " PosixPath('/content/MITx---Machine-Learning-with-Python-From-Linear-Models-to-Deep-Learning-Jun-11-2019/Project 2: Digit recognition (Part 1)/mnist/part2-twodigit/sample_images/img20054.jpg'),\n",
              " PosixPath('/content/MITx---Machine-Learning-with-Python-From-Linear-Models-to-Deep-Learning-Jun-11-2019/Project 2: Digit recognition (Part 1)/mnist/part2-twodigit/sample_images/img20055.jpg'),\n",
              " PosixPath('/content/MITx---Machine-Learning-with-Python-From-Linear-Models-to-Deep-Learning-Jun-11-2019/Project 2: Digit recognition (Part 1)/mnist/part2-twodigit/sample_images/img20056.jpg'),\n",
              " PosixPath('/content/MITx---Machine-Learning-with-Python-From-Linear-Models-to-Deep-Learning-Jun-11-2019/Project 2: Digit recognition (Part 1)/mnist/part2-twodigit/sample_images/img20057.jpg'),\n",
              " PosixPath('/content/MITx---Machine-Learning-with-Python-From-Linear-Models-to-Deep-Learning-Jun-11-2019/Project 2: Digit recognition (Part 1)/mnist/part2-twodigit/sample_images/img20058.jpg'),\n",
              " PosixPath('/content/MITx---Machine-Learning-with-Python-From-Linear-Models-to-Deep-Learning-Jun-11-2019/Project 2: Digit recognition (Part 1)/mnist/part2-twodigit/sample_images/img20059.jpg'),\n",
              " PosixPath('/content/MITx---Machine-Learning-with-Python-From-Linear-Models-to-Deep-Learning-Jun-11-2019/Project 2: Digit recognition (Part 1)/mnist/part2-twodigit/sample_images/img20060.jpg'),\n",
              " PosixPath('/content/MITx---Machine-Learning-with-Python-From-Linear-Models-to-Deep-Learning-Jun-11-2019/Project 2: Digit recognition (Part 1)/mnist/part2-twodigit/sample_images/img20061.jpg'),\n",
              " PosixPath('/content/MITx---Machine-Learning-with-Python-From-Linear-Models-to-Deep-Learning-Jun-11-2019/Project 2: Digit recognition (Part 1)/mnist/part2-twodigit/sample_images/img20062.jpg'),\n",
              " PosixPath('/content/MITx---Machine-Learning-with-Python-From-Linear-Models-to-Deep-Learning-Jun-11-2019/Project 2: Digit recognition (Part 1)/mnist/part2-twodigit/sample_images/img20063.jpg'),\n",
              " PosixPath('/content/MITx---Machine-Learning-with-Python-From-Linear-Models-to-Deep-Learning-Jun-11-2019/Project 2: Digit recognition (Part 1)/mnist/part2-twodigit/sample_images/img20064.jpg'),\n",
              " PosixPath('/content/MITx---Machine-Learning-with-Python-From-Linear-Models-to-Deep-Learning-Jun-11-2019/Project 2: Digit recognition (Part 1)/mnist/part2-twodigit/sample_images/img20065.jpg'),\n",
              " PosixPath('/content/MITx---Machine-Learning-with-Python-From-Linear-Models-to-Deep-Learning-Jun-11-2019/Project 2: Digit recognition (Part 1)/mnist/part2-twodigit/sample_images/img20066.jpg'),\n",
              " PosixPath('/content/MITx---Machine-Learning-with-Python-From-Linear-Models-to-Deep-Learning-Jun-11-2019/Project 2: Digit recognition (Part 1)/mnist/part2-twodigit/sample_images/img20067.jpg'),\n",
              " PosixPath('/content/MITx---Machine-Learning-with-Python-From-Linear-Models-to-Deep-Learning-Jun-11-2019/Project 2: Digit recognition (Part 1)/mnist/part2-twodigit/sample_images/img20068.jpg'),\n",
              " PosixPath('/content/MITx---Machine-Learning-with-Python-From-Linear-Models-to-Deep-Learning-Jun-11-2019/Project 2: Digit recognition (Part 1)/mnist/part2-twodigit/sample_images/img20069.jpg'),\n",
              " PosixPath('/content/MITx---Machine-Learning-with-Python-From-Linear-Models-to-Deep-Learning-Jun-11-2019/Project 2: Digit recognition (Part 1)/mnist/part2-twodigit/sample_images/img20070.jpg'),\n",
              " PosixPath('/content/MITx---Machine-Learning-with-Python-From-Linear-Models-to-Deep-Learning-Jun-11-2019/Project 2: Digit recognition (Part 1)/mnist/part2-twodigit/sample_images/img20071.jpg'),\n",
              " PosixPath('/content/MITx---Machine-Learning-with-Python-From-Linear-Models-to-Deep-Learning-Jun-11-2019/Project 2: Digit recognition (Part 1)/mnist/part2-twodigit/sample_images/img20072.jpg'),\n",
              " PosixPath('/content/MITx---Machine-Learning-with-Python-From-Linear-Models-to-Deep-Learning-Jun-11-2019/Project 2: Digit recognition (Part 1)/mnist/part2-twodigit/sample_images/img20073.jpg'),\n",
              " PosixPath('/content/MITx---Machine-Learning-with-Python-From-Linear-Models-to-Deep-Learning-Jun-11-2019/Project 2: Digit recognition (Part 1)/mnist/part2-twodigit/sample_images/img20074.jpg'),\n",
              " PosixPath('/content/MITx---Machine-Learning-with-Python-From-Linear-Models-to-Deep-Learning-Jun-11-2019/Project 2: Digit recognition (Part 1)/mnist/part2-twodigit/sample_images/img20075.jpg'),\n",
              " PosixPath('/content/MITx---Machine-Learning-with-Python-From-Linear-Models-to-Deep-Learning-Jun-11-2019/Project 2: Digit recognition (Part 1)/mnist/part2-twodigit/sample_images/img20076.jpg'),\n",
              " PosixPath('/content/MITx---Machine-Learning-with-Python-From-Linear-Models-to-Deep-Learning-Jun-11-2019/Project 2: Digit recognition (Part 1)/mnist/part2-twodigit/sample_images/img20077.jpg'),\n",
              " PosixPath('/content/MITx---Machine-Learning-with-Python-From-Linear-Models-to-Deep-Learning-Jun-11-2019/Project 2: Digit recognition (Part 1)/mnist/part2-twodigit/sample_images/img20078.jpg'),\n",
              " PosixPath('/content/MITx---Machine-Learning-with-Python-From-Linear-Models-to-Deep-Learning-Jun-11-2019/Project 2: Digit recognition (Part 1)/mnist/part2-twodigit/sample_images/img20079.jpg'),\n",
              " PosixPath('/content/MITx---Machine-Learning-with-Python-From-Linear-Models-to-Deep-Learning-Jun-11-2019/Project 2: Digit recognition (Part 1)/mnist/part2-twodigit/sample_images/img20080.jpg'),\n",
              " PosixPath('/content/MITx---Machine-Learning-with-Python-From-Linear-Models-to-Deep-Learning-Jun-11-2019/Project 2: Digit recognition (Part 1)/mnist/part2-twodigit/sample_images/img20081.jpg'),\n",
              " PosixPath('/content/MITx---Machine-Learning-with-Python-From-Linear-Models-to-Deep-Learning-Jun-11-2019/Project 2: Digit recognition (Part 1)/mnist/part2-twodigit/sample_images/img20082.jpg'),\n",
              " PosixPath('/content/MITx---Machine-Learning-with-Python-From-Linear-Models-to-Deep-Learning-Jun-11-2019/Project 2: Digit recognition (Part 1)/mnist/part2-twodigit/sample_images/img20083.jpg'),\n",
              " PosixPath('/content/MITx---Machine-Learning-with-Python-From-Linear-Models-to-Deep-Learning-Jun-11-2019/Project 2: Digit recognition (Part 1)/mnist/part2-twodigit/sample_images/img20084.jpg'),\n",
              " PosixPath('/content/MITx---Machine-Learning-with-Python-From-Linear-Models-to-Deep-Learning-Jun-11-2019/Project 2: Digit recognition (Part 1)/mnist/part2-twodigit/sample_images/img20085.jpg'),\n",
              " PosixPath('/content/MITx---Machine-Learning-with-Python-From-Linear-Models-to-Deep-Learning-Jun-11-2019/Project 2: Digit recognition (Part 1)/mnist/part2-twodigit/sample_images/img20086.jpg'),\n",
              " PosixPath('/content/MITx---Machine-Learning-with-Python-From-Linear-Models-to-Deep-Learning-Jun-11-2019/Project 2: Digit recognition (Part 1)/mnist/part2-twodigit/sample_images/img20087.jpg'),\n",
              " PosixPath('/content/MITx---Machine-Learning-with-Python-From-Linear-Models-to-Deep-Learning-Jun-11-2019/Project 2: Digit recognition (Part 1)/mnist/part2-twodigit/sample_images/img20088.jpg'),\n",
              " PosixPath('/content/MITx---Machine-Learning-with-Python-From-Linear-Models-to-Deep-Learning-Jun-11-2019/Project 2: Digit recognition (Part 1)/mnist/part2-twodigit/sample_images/img20089.jpg'),\n",
              " PosixPath('/content/MITx---Machine-Learning-with-Python-From-Linear-Models-to-Deep-Learning-Jun-11-2019/Project 2: Digit recognition (Part 1)/mnist/part2-twodigit/sample_images/img20090.jpg'),\n",
              " PosixPath('/content/MITx---Machine-Learning-with-Python-From-Linear-Models-to-Deep-Learning-Jun-11-2019/Project 2: Digit recognition (Part 1)/mnist/part2-twodigit/sample_images/img20091.jpg'),\n",
              " PosixPath('/content/MITx---Machine-Learning-with-Python-From-Linear-Models-to-Deep-Learning-Jun-11-2019/Project 2: Digit recognition (Part 1)/mnist/part2-twodigit/sample_images/img20092.jpg'),\n",
              " PosixPath('/content/MITx---Machine-Learning-with-Python-From-Linear-Models-to-Deep-Learning-Jun-11-2019/Project 2: Digit recognition (Part 1)/mnist/part2-twodigit/sample_images/img20093.jpg'),\n",
              " PosixPath('/content/MITx---Machine-Learning-with-Python-From-Linear-Models-to-Deep-Learning-Jun-11-2019/Project 2: Digit recognition (Part 1)/mnist/part2-twodigit/sample_images/img20094.jpg'),\n",
              " PosixPath('/content/MITx---Machine-Learning-with-Python-From-Linear-Models-to-Deep-Learning-Jun-11-2019/Project 2: Digit recognition (Part 1)/mnist/part2-twodigit/sample_images/img20095.jpg'),\n",
              " PosixPath('/content/MITx---Machine-Learning-with-Python-From-Linear-Models-to-Deep-Learning-Jun-11-2019/Project 2: Digit recognition (Part 1)/mnist/part2-twodigit/sample_images/img20096.jpg'),\n",
              " PosixPath('/content/MITx---Machine-Learning-with-Python-From-Linear-Models-to-Deep-Learning-Jun-11-2019/Project 2: Digit recognition (Part 1)/mnist/part2-twodigit/sample_images/img20097.jpg'),\n",
              " PosixPath('/content/MITx---Machine-Learning-with-Python-From-Linear-Models-to-Deep-Learning-Jun-11-2019/Project 2: Digit recognition (Part 1)/mnist/part2-twodigit/sample_images/img20098.jpg'),\n",
              " PosixPath('/content/MITx---Machine-Learning-with-Python-From-Linear-Models-to-Deep-Learning-Jun-11-2019/Project 2: Digit recognition (Part 1)/mnist/part2-twodigit/sample_images/img20099.jpg'),\n",
              " PosixPath('/content/MITx---Machine-Learning-with-Python-From-Linear-Models-to-Deep-Learning-Jun-11-2019/Project 2: Digit recognition (Part 1)/mnist/part2-nn/neural_nets.py'),\n",
              " PosixPath('/content/MITx---Machine-Learning-with-Python-From-Linear-Models-to-Deep-Learning-Jun-11-2019/Project 2: Digit recognition (Part 1)/mnist/part2-mnist/nnet_cnn.py'),\n",
              " PosixPath('/content/MITx---Machine-Learning-with-Python-From-Linear-Models-to-Deep-Learning-Jun-11-2019/Project 2: Digit recognition (Part 1)/mnist/part2-mnist/nnet_fc.py'),\n",
              " PosixPath('/content/MITx---Machine-Learning-with-Python-From-Linear-Models-to-Deep-Learning-Jun-11-2019/Project 2: Digit recognition (Part 1)/mnist/part2-mnist/train_utils.py'),\n",
              " PosixPath('/content/MITx---Machine-Learning-with-Python-From-Linear-Models-to-Deep-Learning-Jun-11-2019/Project 2: Digit recognition (Part 1)/mnist/part1/cubic_features_checker.py'),\n",
              " PosixPath('/content/MITx---Machine-Learning-with-Python-From-Linear-Models-to-Deep-Learning-Jun-11-2019/Project 2: Digit recognition (Part 1)/mnist/part1/features.py'),\n",
              " PosixPath('/content/MITx---Machine-Learning-with-Python-From-Linear-Models-to-Deep-Learning-Jun-11-2019/Project 2: Digit recognition (Part 1)/mnist/part1/kernel.py'),\n",
              " PosixPath('/content/MITx---Machine-Learning-with-Python-From-Linear-Models-to-Deep-Learning-Jun-11-2019/Project 2: Digit recognition (Part 1)/mnist/part1/linear_regression.py'),\n",
              " PosixPath('/content/MITx---Machine-Learning-with-Python-From-Linear-Models-to-Deep-Learning-Jun-11-2019/Project 2: Digit recognition (Part 1)/mnist/part1/main.py'),\n",
              " PosixPath('/content/MITx---Machine-Learning-with-Python-From-Linear-Models-to-Deep-Learning-Jun-11-2019/Project 2: Digit recognition (Part 1)/mnist/part1/softmax.py'),\n",
              " PosixPath('/content/MITx---Machine-Learning-with-Python-From-Linear-Models-to-Deep-Learning-Jun-11-2019/Project 2: Digit recognition (Part 1)/mnist/part1/svm.py'),\n",
              " PosixPath('/content/MITx---Machine-Learning-with-Python-From-Linear-Models-to-Deep-Learning-Jun-11-2019/Project 2: Digit recognition (Part 1)/mnist/part1/test.py'),\n",
              " PosixPath('/content/MITx---Machine-Learning-with-Python-From-Linear-Models-to-Deep-Learning-Jun-11-2019/Project 2: Digit recognition (Part 1)/mnist/Datasets/mnist.pkl.gz'),\n",
              " PosixPath('/content/MITx---Machine-Learning-with-Python-From-Linear-Models-to-Deep-Learning-Jun-11-2019/Project 2: Digit recognition (Part 1)/mnist/Datasets/test_labels_mini.txt.gz'),\n",
              " PosixPath('/content/MITx---Machine-Learning-with-Python-From-Linear-Models-to-Deep-Learning-Jun-11-2019/Project 2: Digit recognition (Part 1)/mnist/Datasets/test_multi_digit_mini.pkl.gz'),\n",
              " PosixPath('/content/MITx---Machine-Learning-with-Python-From-Linear-Models-to-Deep-Learning-Jun-11-2019/Project 2: Digit recognition (Part 1)/mnist/Datasets/train_labels_mini.txt.gz'),\n",
              " PosixPath('/content/MITx---Machine-Learning-with-Python-From-Linear-Models-to-Deep-Learning-Jun-11-2019/Project 2: Digit recognition (Part 1)/mnist/Datasets/train_multi_digit_mini.pkl.gz')]"
            ]
          },
          "metadata": {
            "tags": []
          },
          "execution_count": 8
        }
      ]
    },
    {
      "cell_type": "markdown",
      "metadata": {
        "id": "7ILM4JyuLzue",
        "colab_type": "text"
      },
      "source": [
        "## Push repository"
      ]
    },
    {
      "cell_type": "code",
      "metadata": {
        "id": "RqifDMhBglwC",
        "colab_type": "code",
        "outputId": "c1c67e8c-28de-42f6-bbdd-8a9d469b85f0",
        "colab": {
          "base_uri": "https://localhost:8080/",
          "height": 493
        }
      },
      "source": [
        "message = \"Update Project 0, Project 1\"\n",
        "\n",
        "# Configure\n",
        "Git.config(confile=CONFILE_GIT)\n",
        "\n",
        "# Track\n",
        "!git add -A\n",
        "\n",
        "# Commit\n",
        "!git commit -m \"{message}\"\n",
        "\n",
        "# Push\n",
        "Git.push(URL, authfile=AUTHFILE_GIT)"
      ],
      "execution_count": 0,
      "outputs": [
        {
          "output_type": "stream",
          "text": [
            "[master cb98625] Update Project 0, Project 1\n",
            " 18 files changed, 7753 insertions(+)\n",
            " create mode 100644 Project 0/project0-solution/debug.py\n",
            " create mode 100644 Project 0/project0-solution/main.py\n",
            " create mode 100644 Project 0/project0/debug.py\n",
            " create mode 100644 Project 0/project0/main.py\n",
            " create mode 100644 Project 0/project0/test.py\n",
            " create mode 100644 Project 1: Automatic Review Analyzer/sentiment_analysis-solution/200.txt\n",
            " create mode 100644 Project 1: Automatic Review Analyzer/sentiment_analysis-solution/4000.txt\n",
            " create mode 100755 Project 1: Automatic Review Analyzer/sentiment_analysis-solution/main.py\n",
            " create mode 100755 Project 1: Automatic Review Analyzer/sentiment_analysis-solution/project1.py\n",
            " create mode 100644 Project 1: Automatic Review Analyzer/sentiment_analysis-solution/reviews_submit.tsv\n",
            " create mode 100644 Project 1: Automatic Review Analyzer/sentiment_analysis-solution/reviews_test.tsv\n",
            " create mode 100644 Project 1: Automatic Review Analyzer/sentiment_analysis-solution/reviews_train.tsv\n",
            " create mode 100644 Project 1: Automatic Review Analyzer/sentiment_analysis-solution/reviews_val.tsv\n",
            " create mode 100755 Project 1: Automatic Review Analyzer/sentiment_analysis-solution/stopwords.txt\n",
            " create mode 100644 Project 1: Automatic Review Analyzer/sentiment_analysis-solution/test.py\n",
            " create mode 100755 Project 1: Automatic Review Analyzer/sentiment_analysis-solution/tmp_project1.py\n",
            " create mode 100755 Project 1: Automatic Review Analyzer/sentiment_analysis-solution/toy_data.tsv\n",
            " create mode 100755 Project 1: Automatic Review Analyzer/sentiment_analysis-solution/utils.py\n",
            "Counting objects: 14, done.\n",
            "Delta compression using up to 2 threads.\n",
            "Compressing objects: 100% (14/14), done.\n",
            "Writing objects: 100% (14/14), 9.02 KiB | 4.51 MiB/s, done.\n",
            "Total 14 (delta 5), reused 0 (delta 0)\n",
            "remote: Resolving deltas: 100% (5/5), completed with 2 local objects.\u001b[K\n",
            "To https://github.com/Data-Science-and-Data-Analytics-Courses/MITx---Machine-Learning-with-Python-From-Linear-Models-to-Deep-Learning-Jun-11-2019\n",
            "   c7a09c4..cb98625  HEAD -> master\n"
          ],
          "name": "stdout"
        }
      ]
    }
  ]
}